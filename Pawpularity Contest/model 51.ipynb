{
 "cells": [
  {
   "cell_type": "code",
   "execution_count": 1,
   "metadata": {
    "_cell_guid": "b1076dfc-b9ad-4769-8c92-a6c4dae69d19",
    "_uuid": "8f2839f25d086af736a60e9eeb907d3b93b6e0e5",
    "execution": {
     "iopub.execute_input": "2021-12-06T22:04:01.598955Z",
     "iopub.status.busy": "2021-12-06T22:04:01.598599Z",
     "iopub.status.idle": "2021-12-06T22:04:01.854662Z",
     "shell.execute_reply": "2021-12-06T22:04:01.853526Z",
     "shell.execute_reply.started": "2021-12-06T22:04:01.598854Z"
    }
   },
   "outputs": [],
   "source": [
    "import numpy as np\n",
    "import pandas as pd\n",
    "import os\n",
    "import matplotlib.pyplot as plt\n",
    "from tqdm import tqdm\n",
    "from random import sample\n",
    "import cv2"
   ]
  },
  {
   "cell_type": "code",
   "execution_count": 2,
   "metadata": {
    "execution": {
     "iopub.execute_input": "2021-12-06T22:04:01.857483Z",
     "iopub.status.busy": "2021-12-06T22:04:01.856915Z",
     "iopub.status.idle": "2021-12-06T22:04:01.908779Z",
     "shell.execute_reply": "2021-12-06T22:04:01.907698Z",
     "shell.execute_reply.started": "2021-12-06T22:04:01.857439Z"
    }
   },
   "outputs": [],
   "source": [
    "dat = pd.read_csv(\"../input/petfinder-pawpularity-score/train.csv\")"
   ]
  },
  {
   "cell_type": "code",
   "execution_count": 3,
   "metadata": {
    "execution": {
     "iopub.execute_input": "2021-12-06T22:04:01.911259Z",
     "iopub.status.busy": "2021-12-06T22:04:01.910199Z",
     "iopub.status.idle": "2021-12-06T22:04:01.923252Z",
     "shell.execute_reply": "2021-12-06T22:04:01.922115Z",
     "shell.execute_reply.started": "2021-12-06T22:04:01.911217Z"
    }
   },
   "outputs": [],
   "source": [
    "y = dat[\"Pawpularity\"].to_numpy()\n",
    "y = y/100"
   ]
  },
  {
   "cell_type": "code",
   "execution_count": 4,
   "metadata": {
    "execution": {
     "iopub.execute_input": "2021-12-06T22:04:01.927484Z",
     "iopub.status.busy": "2021-12-06T22:04:01.927113Z",
     "iopub.status.idle": "2021-12-06T22:04:01.949898Z",
     "shell.execute_reply": "2021-12-06T22:04:01.948856Z",
     "shell.execute_reply.started": "2021-12-06T22:04:01.927442Z"
    }
   },
   "outputs": [],
   "source": [
    "class data:\n",
    "    def __init__(self,path,ids,x=224,y=224,labels=None):\n",
    "        self.x = x\n",
    "        self.y = y\n",
    "        self.labels = labels\n",
    "#         self.image_list = [t.split(\".\")[0] for t in os.listdir(path)] \n",
    "        self.image_list = ids\n",
    "        self.path = path\n",
    "        self.batch = 0\n",
    "        \n",
    "    def load_batch(self,batch_size=1,shuffle=False):\n",
    "        if shuffle:\n",
    "            b = self.batch\n",
    "            batch_list = self.image_list[b*batch_size:(b+1)*batch_size]\n",
    "            self.batch = b+1\n",
    "            if self.batch>len(self.image_list)//batch_size:\n",
    "                self.batch=0\n",
    "        else:\n",
    "            batch_list = sample(self.image_list,batch_size)\n",
    "        images = np.array([cv2.cvtColor(cv2.resize(cv2.imread(self.path+image+\".jpg\"),(self.x,self.y)),cv2.COLOR_BGR2RGB) for image in batch_list])\n",
    "        labels = self.labels.loc[batch_list].to_numpy()/100\n",
    "\n",
    "        return images,labels\n",
    "    \n",
    "    def loader(self,batch_size=1,shuffle=False):\n",
    "        while True:\n",
    "            x,y = self.load_batch(batch_size,shuffle)\n",
    "            yield x,y\n",
    "\n",
    "ids = dat[\"Id\"].to_list()\n",
    "train_ids = ids[:int(len(ids)*0.8)]\n",
    "val_ids = ids[int(len(ids)*0.8):int(len(ids)*0.9)]\n",
    "test_ids = ids[int(len(ids)*0.9):]\n",
    "\n",
    "path = \"../input/petfinder-pawpularity-score/train/\"\n",
    "labels = dat.set_index(\"Id\")[\"Pawpularity\"]\n",
    "c = data(path,labels=labels,ids=ids)\n",
    "c_train = data(path,labels=labels,ids=train_ids)\n",
    "c_val = data(path,labels=labels,ids=val_ids)\n",
    "c_test = data(path,labels=labels,ids=test_ids)"
   ]
  },
  {
   "cell_type": "code",
   "execution_count": 5,
   "metadata": {
    "execution": {
     "iopub.execute_input": "2021-12-06T22:04:01.951716Z",
     "iopub.status.busy": "2021-12-06T22:04:01.951264Z",
     "iopub.status.idle": "2021-12-06T22:04:07.749388Z",
     "shell.execute_reply": "2021-12-06T22:04:07.748410Z",
     "shell.execute_reply.started": "2021-12-06T22:04:01.951672Z"
    }
   },
   "outputs": [],
   "source": [
    "from tensorflow import keras \n",
    "from tensorflow.keras import Sequential\n",
    "from tensorflow.keras.models import Model, load_model\n",
    "from tensorflow.keras.layers import *\n",
    "from tensorflow.keras.losses import *\n",
    "from tensorflow.keras.optimizers import *"
   ]
  },
  {
   "cell_type": "code",
   "execution_count": 6,
   "metadata": {
    "execution": {
     "iopub.execute_input": "2021-12-06T22:04:07.751412Z",
     "iopub.status.busy": "2021-12-06T22:04:07.751031Z",
     "iopub.status.idle": "2021-12-06T22:04:07.760132Z",
     "shell.execute_reply": "2021-12-06T22:04:07.759108Z",
     "shell.execute_reply.started": "2021-12-06T22:04:07.751351Z"
    }
   },
   "outputs": [],
   "source": [
    "import tensorflow \n",
    "from tensorflow.nn import sigmoid_cross_entropy_with_logits as scel\n",
    "from tensorflow.math import reduce_mean as rmean\n",
    "def loss(y_true,y_pred):\n",
    "    return rmean(scel(y_true,y_pred),axis=-1)\n",
    "from tensorflow.keras.callbacks import ModelCheckpoint"
   ]
  },
  {
   "cell_type": "code",
   "execution_count": 7,
   "metadata": {
    "execution": {
     "iopub.execute_input": "2021-12-06T22:04:07.762485Z",
     "iopub.status.busy": "2021-12-06T22:04:07.761508Z",
     "iopub.status.idle": "2021-12-06T22:04:22.988227Z",
     "shell.execute_reply": "2021-12-06T22:04:22.987319Z",
     "shell.execute_reply.started": "2021-12-06T22:04:07.762435Z"
    }
   },
   "outputs": [],
   "source": [
    "from tensorflow.keras.applications import EfficientNetB7\n",
    "cnn_model = EfficientNetB7(weights='imagenet', include_top=False)\n",
    "\n",
    "for layer in cnn_model.layers:\n",
    "    layer.trainable = False\n",
    "    \n",
    "x = cnn_model.output\n",
    "x = GlobalAveragePooling2D()(x)\n",
    "# let's add a fully-connected layer\n",
    "x = Dense(128, activation='relu')(x)\n",
    "x = Dropout(0.1)(x)\n",
    "x = Dense(32, activation='relu')(x)\n",
    "\n",
    "###REGRESSION\n",
    "# predictions = Dense(1, activation='relu')(x)\n",
    "###CLASSIFICATION\n",
    "predictions = Dense(1, activation='sigmoid')(x)\n",
    "\n",
    "model = Model(inputs=cnn_model.input, outputs=predictions)"
   ]
  },
  {
   "cell_type": "code",
   "execution_count": 8,
   "metadata": {
    "execution": {
     "iopub.execute_input": "2021-12-06T22:04:22.990265Z",
     "iopub.status.busy": "2021-12-06T22:04:22.989945Z",
     "iopub.status.idle": "2021-12-06T22:04:22.996521Z",
     "shell.execute_reply": "2021-12-06T22:04:22.995447Z",
     "shell.execute_reply.started": "2021-12-06T22:04:22.990212Z"
    }
   },
   "outputs": [],
   "source": [
    "checkpoint_filepath = 'efnetb7_1.h5'\n",
    "model_checkpoint_callback = ModelCheckpoint(\n",
    "    filepath=checkpoint_filepath,\n",
    "    save_weights_only=False,\n",
    "    monitor='val_loss',\n",
    "    mode='min',\n",
    "    save_best_only=True)"
   ]
  },
  {
   "cell_type": "code",
   "execution_count": 9,
   "metadata": {
    "execution": {
     "iopub.execute_input": "2021-12-06T22:04:22.999159Z",
     "iopub.status.busy": "2021-12-06T22:04:22.998450Z",
     "iopub.status.idle": "2021-12-06T22:14:27.292531Z",
     "shell.execute_reply": "2021-12-06T22:14:27.291400Z",
     "shell.execute_reply.started": "2021-12-06T22:04:22.999118Z"
    }
   },
   "outputs": [],
   "source": [
    "# model.compile(optimizer=Adam(1e-5),loss=\"mse\")     ####REGRESSION MODEL\n",
    "model.compile(optimizer=Adam(1e-4),loss=\"mse\")#,metrics=\"mse\")     ####CLASSIFICATION MODEL\n",
    "\n",
    "## TO DECIDE THE TRAINING PARAMS\n",
    "model.fit_generator(c_train.loader(batch_size=512,shuffle=True),validation_data=c_val.loader(batch_size=128),\n",
    "                    validation_steps=10,steps_per_epoch=10,epochs=6,callbacks=[model_checkpoint_callback])\n",
    "# model.fit_generator(c_train.loader(batch_size=32),validation_data=c_val.loader(batch_size=32),validation_steps=50,steps_per_epoch=100,epochs=2)"
   ]
  },
  {
   "cell_type": "code",
   "execution_count": 10,
   "metadata": {
    "execution": {
     "iopub.execute_input": "2021-12-06T22:14:27.298672Z",
     "iopub.status.busy": "2021-12-06T22:14:27.297776Z",
     "iopub.status.idle": "2021-12-06T22:19:31.605227Z",
     "shell.execute_reply": "2021-12-06T22:19:31.604013Z",
     "shell.execute_reply.started": "2021-12-06T22:14:27.298598Z"
    }
   },
   "outputs": [],
   "source": [
    "#### ACTUAL TRAINING\n",
    "model = load_model(\"efnetb7_1.h5\")\n",
    "model.compile(optimizer=Adam(1e-5),loss=\"mse\")     ####CLASSIFICATION MODEL\n",
    "model.fit_generator(c_train.loader(batch_size=128,shuffle=True),validation_data=c_val.loader(batch_size=128),\n",
    "                    validation_steps=10,steps_per_epoch=40,epochs=3,callbacks=[model_checkpoint_callback])"
   ]
  },
  {
   "cell_type": "code",
   "execution_count": 11,
   "metadata": {
    "execution": {
     "iopub.execute_input": "2021-12-06T22:19:31.624600Z",
     "iopub.status.busy": "2021-12-06T22:19:31.624031Z",
     "iopub.status.idle": "2021-12-06T22:20:09.296468Z",
     "shell.execute_reply": "2021-12-06T22:20:09.295231Z",
     "shell.execute_reply.started": "2021-12-06T22:19:31.624554Z"
    }
   },
   "outputs": [],
   "source": [
    "## VISUALIZE THE DISTRIBUTION OF ERROR (MAE)\n",
    "model = load_model(\"efnetb7_1.h5\")\n",
    "images = np.array([cv2.cvtColor(cv2.resize(cv2.imread(path+image+\".jpg\"),(224,224)),cv2.COLOR_BGR2RGB) for image in test_ids])\n",
    "y = labels.loc[test_ids]\n",
    "y_pred = model.predict(images)\n",
    "plt.hist(np.abs(y.to_numpy().reshape((-1,1))/100-y_pred))\n",
    "print(\"METRIC : \",np.sqrt(np.sum((y.to_numpy().reshape((-1,1))-y_pred*100)**2)/(y_pred.shape[0])))"
   ]
  },
  {
   "cell_type": "code",
   "execution_count": 12,
   "metadata": {
    "execution": {
     "iopub.execute_input": "2021-12-06T22:20:09.299105Z",
     "iopub.status.busy": "2021-12-06T22:20:09.298604Z",
     "iopub.status.idle": "2021-12-06T22:20:09.821504Z",
     "shell.execute_reply": "2021-12-06T22:20:09.820202Z",
     "shell.execute_reply.started": "2021-12-06T22:20:09.299005Z"
    }
   },
   "outputs": [],
   "source": [
    "del images\n",
    "plt.figure()\n",
    "plt.hist(y)\n",
    "plt.figure()\n",
    "plt.hist(y_pred)"
   ]
  },
  {
   "cell_type": "code",
   "execution_count": 13,
   "metadata": {
    "execution": {
     "iopub.execute_input": "2021-12-06T22:20:09.824092Z",
     "iopub.status.busy": "2021-12-06T22:20:09.823073Z",
     "iopub.status.idle": "2021-12-06T22:20:09.843740Z",
     "shell.execute_reply": "2021-12-06T22:20:09.842562Z",
     "shell.execute_reply.started": "2021-12-06T22:20:09.824046Z"
    }
   },
   "outputs": [],
   "source": [
    "testpath = \"../input/petfinder-pawpularity-score/test/\"\n",
    "ids = [t.split(\".\")[0] for t in os.listdir(testpath)]\n",
    "\n",
    "batch_size=200\n",
    "y_pred=np.zeros((len(ids),1))\n",
    "for i in range(0,len(ids)//batch_size):\n",
    "    images = np.array([cv2.cvtColor(cv2.resize(cv2.imread(testpath+image+\".jpg\"),(128,128)),cv2.COLOR_BGR2RGB) for image in ids[batch_size*i:batch_size*(i+1)]])\n",
    "    y_pred[i*batch_size:(i+1)*batch_size] = model.predict_proba(images)#*100\n",
    "    \n",
    "round2 = lambda x,y=None:round(x+1e-15,y)\n",
    "y_pred = [round2(t[0],2) for t in y_pred]"
   ]
  },
  {
   "cell_type": "code",
   "execution_count": 14,
   "metadata": {
    "execution": {
     "iopub.execute_input": "2021-12-06T22:20:09.846930Z",
     "iopub.status.busy": "2021-12-06T22:20:09.845997Z",
     "iopub.status.idle": "2021-12-06T22:20:09.864328Z",
     "shell.execute_reply": "2021-12-06T22:20:09.863113Z",
     "shell.execute_reply.started": "2021-12-06T22:20:09.846885Z"
    }
   },
   "outputs": [],
   "source": [
    "df = pd.DataFrame()\n",
    "df[\"Id\"] = ids\n",
    "df[\"Pawpularity\"] = y_pred\n",
    "df.to_csv(\"submission.csv\",index=False)"
   ]
  },
  {
   "cell_type": "code",
   "execution_count": 15,
   "metadata": {
    "execution": {
     "iopub.execute_input": "2021-12-06T22:20:09.868058Z",
     "iopub.status.busy": "2021-12-06T22:20:09.867009Z",
     "iopub.status.idle": "2021-12-06T22:20:09.891619Z",
     "shell.execute_reply": "2021-12-06T22:20:09.890482Z",
     "shell.execute_reply.started": "2021-12-06T22:20:09.868014Z"
    }
   },
   "outputs": [],
   "source": [
    "df"
   ]
  },
  {
   "cell_type": "code",
   "execution_count": null,
   "metadata": {},
   "outputs": [],
   "source": []
  }
 ],
 "metadata": {
  "kernelspec": {
   "display_name": "Python 3 (ipykernel)",
   "language": "python",
   "name": "python3"
  },
  "language_info": {
   "codemirror_mode": {
    "name": "ipython",
    "version": 3
   },
   "file_extension": ".py",
   "mimetype": "text/x-python",
   "name": "python",
   "nbconvert_exporter": "python",
   "pygments_lexer": "ipython3",
   "version": "3.9.0"
  }
 },
 "nbformat": 4,
 "nbformat_minor": 4
}
