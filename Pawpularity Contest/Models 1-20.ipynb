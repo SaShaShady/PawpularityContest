{
 "cells": [
  {
   "cell_type": "code",
   "execution_count": null,
   "metadata": {
    "execution": {
     "iopub.execute_input": "2021-12-13T08:39:05.43951Z",
     "iopub.status.busy": "2021-12-13T08:39:05.43911Z",
     "iopub.status.idle": "2021-12-13T08:39:14.25118Z",
     "shell.execute_reply": "2021-12-13T08:39:14.250323Z",
     "shell.execute_reply.started": "2021-12-13T08:39:05.439408Z"
    }
   },
   "outputs": [],
   "source": [
    "#pip install statsmodels\n",
    "!pip install setuptools numpy scipy scikit-learn cython\n",
    "import six"
   ]
  },
  {
   "cell_type": "code",
   "execution_count": null,
   "metadata": {
    "execution": {
     "iopub.execute_input": "2021-12-13T08:39:14.253766Z",
     "iopub.status.busy": "2021-12-13T08:39:14.25345Z",
     "iopub.status.idle": "2021-12-13T08:39:36.356398Z",
     "shell.execute_reply": "2021-12-13T08:39:36.355563Z",
     "shell.execute_reply.started": "2021-12-13T08:39:14.253718Z"
    }
   },
   "outputs": [],
   "source": [
    "pip install scikit-garden"
   ]
  },
  {
   "cell_type": "code",
   "execution_count": null,
   "metadata": {
    "execution": {
     "iopub.execute_input": "2021-12-13T08:39:36.358253Z",
     "iopub.status.busy": "2021-12-13T08:39:36.357986Z",
     "iopub.status.idle": "2021-12-13T08:39:45.44786Z",
     "shell.execute_reply": "2021-12-13T08:39:45.44711Z",
     "shell.execute_reply.started": "2021-12-13T08:39:36.358216Z"
    },
    "scrolled": true
   },
   "outputs": [],
   "source": [
    "import os\n",
    "import cv2\n",
    "import time\n",
    "import json\n",
    "import random\n",
    "import warnings\n",
    "import numpy as np\n",
    "import pandas as pd\n",
    "import seaborn as sns\n",
    "import plotly.express as px\n",
    "import plotly.graph_objs as go\n",
    "import matplotlib.pyplot as plt\n",
    "\n",
    "\n",
    "from PIL import Image\n",
    "from enum import Enum\n",
    "from glob import glob\n",
    "from tqdm import trange\n",
    "from pprint import pprint\n",
    "from colorama import Fore\n",
    "from tqdm import tqdm_notebook\n",
    "from sklearn.utils import shuffle\n",
    "from IPython.display import display\n",
    "\n",
    "\n",
    "from sklearn.metrics import *\n",
    "from sklearn.preprocessing import *\n",
    "from sklearn.model_selection import *\n",
    "\n",
    "\n",
    "# Neural Network Models\n",
    "import tensorflow as tf\n",
    "from tensorflow import keras\n",
    "from tensorflow.keras import layers\n",
    "from tensorflow.keras import backend as K\n",
    "from tensorflow.keras.models import Sequential\n",
    "from tensorflow.keras.optimizers.schedules import ExponentialDecay\n",
    "from tensorflow.keras.layers import Input, Concatenate, BatchNormalization\n",
    "from tensorflow.keras.layers import Dense, Activation, Flatten, Conv2D, Dropout\n",
    "\n",
    "\n",
    "# Regression Models\n",
    "import six\n",
    "import sys\n",
    "sys.modules['sklearn.externals.six'] = six\n",
    "from skgarden import RandomForestQuantileRegressor,MondrianForestRegressor,MondrianTreeRegressor\n",
    "from sklearn.linear_model import Lasso\n",
    "#from skgarden import RandomForestQuantileRegressor\n",
    "from statsmodels.formula.api import quantreg\n",
    "from sklearn.svm import SVR\n",
    "from sklearn.kernel_ridge import KernelRidge\n",
    "from xgboost import XGBRegressor\n",
    "from lightgbm import LGBMRegressor\n",
    "from catboost import CatBoostRegressor\n",
    "from sklearn.tree import DecisionTreeRegressor\n",
    "from sklearn.neighbors import KNeighborsRegressor\n",
    "from sklearn.gaussian_process import GaussianProcessRegressor\n",
    "from sklearn.linear_model import LinearRegression, Ridge, ElasticNet\n",
    "from sklearn.ensemble import ExtraTreesRegressor, RandomForestRegressor,VotingRegressor, AdaBoostRegressor, GradientBoostingRegressor, BaggingRegressor\n",
    "from sklearn.gaussian_process.kernels import DotProduct, WhiteKernel\n",
    "from skgarden.quantile import ExtraTreesQuantileRegressor,DecisionTreeQuantileRegressor\n",
    "\n",
    "warnings.filterwarnings(\"ignore\")\n",
    "AUTOTUNE = tf.data.experimental.AUTOTUNE\n",
    "\n"
   ]
  },
  {
   "cell_type": "code",
   "execution_count": null,
   "metadata": {
    "execution": {
     "iopub.execute_input": "2021-12-13T08:39:45.449699Z",
     "iopub.status.busy": "2021-12-13T08:39:45.449421Z",
     "iopub.status.idle": "2021-12-13T08:39:45.456779Z",
     "shell.execute_reply": "2021-12-13T08:39:45.453681Z",
     "shell.execute_reply.started": "2021-12-13T08:39:45.449664Z"
    }
   },
   "outputs": [],
   "source": [
    "# Set random seed to enable re-production\n",
    "\n",
    "def set_random():\n",
    "    np.random.seed(100)\n",
    "    random.seed(100)\n",
    "    tf.random.set_seed(100)\n",
    "    os.environ['PYTHONHASHSEED'] = '100'"
   ]
  },
  {
   "cell_type": "code",
   "execution_count": null,
   "metadata": {
    "execution": {
     "iopub.execute_input": "2021-12-13T08:39:45.459211Z",
     "iopub.status.busy": "2021-12-13T08:39:45.458959Z",
     "iopub.status.idle": "2021-12-13T08:39:45.472846Z",
     "shell.execute_reply": "2021-12-13T08:39:45.47211Z",
     "shell.execute_reply.started": "2021-12-13T08:39:45.459177Z"
    }
   },
   "outputs": [],
   "source": [
    "# Generate data folds for cross validation\n",
    "\n",
    "def fold_generator(data, target='Pawpularity', cv = 5):\n",
    "    \n",
    "    # Fold generator\n",
    "    kf = StratifiedKFold(n_splits=cv)\n",
    "    \n",
    "    # Shuffle the dataset to generate folds\n",
    "    # Since the Pawpularity ranges from 1 to 100, we classify the scores into 10 levels\n",
    "    data = shuffle(data).reset_index(drop=True)\n",
    "    n_bins = 10\n",
    "    data['bins'] = data[target].map(lambda x: int(x/10))\n",
    "    \n",
    "    # Stratified sampling to construct folds\n",
    "    for fid, (train_idx, valid_idx) in enumerate(kf.split(X=data, y=data['bins'])):\n",
    "        data.loc[valid_idx, 'Fold'] = fid\n",
    "        \n",
    "    data = data.drop([\"bins\"], axis = 1)         \n",
    "    return data "
   ]
  },
  {
   "cell_type": "code",
   "execution_count": null,
   "metadata": {
    "execution": {
     "iopub.execute_input": "2021-12-13T08:39:45.474582Z",
     "iopub.status.busy": "2021-12-13T08:39:45.474232Z",
     "iopub.status.idle": "2021-12-13T08:39:45.485194Z",
     "shell.execute_reply": "2021-12-13T08:39:45.484551Z",
     "shell.execute_reply.started": "2021-12-13T08:39:45.474546Z"
    }
   },
   "outputs": [],
   "source": [
    "# Self-defined cross validation function\n",
    "\n",
    "def cross_valid(df, model, cv = 5):\n",
    "    \n",
    "    X = ['Subject Focus', 'Eyes', 'Face', 'Near', 'Action', 'Accessory', 'Group', 'Collage', 'Human', 'Occlusion', 'Info', 'Blur']\n",
    "    Y = 'Pawpularity'\n",
    "\n",
    "    r2sr_train = 0\n",
    "    r2sr_valid = 0\n",
    "    rmse_train = 0\n",
    "    rmse_valid = 0\n",
    "    \n",
    "    # cv: the number of folds\n",
    "    for fold in range(cv):\n",
    "        train_df = df.loc[df['Fold'] != fold].reset_index(drop = True)\n",
    "        valid_df = df.loc[df['Fold'] == fold].reset_index(drop = True)\n",
    "\n",
    "        train_X = train_df[X]\n",
    "        train_Y = train_df[Y]\n",
    "\n",
    "        valid_X = valid_df[X]\n",
    "        valid_Y = valid_df[Y]\n",
    "        \n",
    "        if type(model).__name__ == 'CatBoostRegressor':\n",
    "            model.fit(train_X, train_Y, verbose=False)\n",
    "        else:\n",
    "            model.fit(train_X, train_Y)\n",
    "\n",
    "        train_pred = model.predict(train_X)\n",
    "        valid_pred = model.predict(valid_X)\n",
    "\n",
    "        rmse_train += np.sqrt(mean_squared_error(train_Y, train_pred))\n",
    "        rmse_valid += np.sqrt(mean_squared_error(valid_Y, valid_pred))\n",
    "        \n",
    "    return rmse_train/cv, rmse_valid/cv"
   ]
  },
  {
   "cell_type": "code",
   "execution_count": null,
   "metadata": {
    "execution": {
     "iopub.execute_input": "2021-12-13T08:39:45.487108Z",
     "iopub.status.busy": "2021-12-13T08:39:45.486681Z",
     "iopub.status.idle": "2021-12-13T08:39:45.497595Z",
     "shell.execute_reply": "2021-12-13T08:39:45.496853Z",
     "shell.execute_reply.started": "2021-12-13T08:39:45.48707Z"
    }
   },
   "outputs": [],
   "source": [
    "# Reshape image\n",
    "\n",
    "def image_reshape(image_path, image_size):\n",
    "    # Load image\n",
    "    img = tf.io.read_file(image_path)\n",
    "    img = tf.image.decode_jpeg(img, channels=3)\n",
    "    \n",
    "    # Resize to regularize the input shape\n",
    "    img = tf.image.resize(img, (image_size, image_size))\n",
    "    \n",
    "    # Normalize channels to range (0, 1)\n",
    "    img = tf.cast(img, tf.float32) / 255.0\n",
    "    \n",
    "    return img"
   ]
  },
  {
   "cell_type": "code",
   "execution_count": null,
   "metadata": {
    "execution": {
     "iopub.execute_input": "2021-12-13T08:39:45.499325Z",
     "iopub.status.busy": "2021-12-13T08:39:45.499045Z",
     "iopub.status.idle": "2021-12-13T08:39:45.506437Z",
     "shell.execute_reply": "2021-12-13T08:39:45.505719Z",
     "shell.execute_reply.started": "2021-12-13T08:39:45.499274Z"
    }
   },
   "outputs": [],
   "source": [
    "# Reshape image\n",
    "\n",
    "def load_image(is_trainset):\n",
    "    def just_reshape(img_path):\n",
    "        img = tf.io.read_file(img_path)\n",
    "        img = tf.image.decode_jpeg(img, channels=3)\n",
    "        img = tf.cast(img, tf.float32)\n",
    "        img = tf.image.resize(img, (224, 224))\n",
    "        img = tf.keras.applications.efficientnet.preprocess_input(img) \n",
    "        return img\n",
    "    \n",
    "    def reshape_with_label(img_path, label):\n",
    "        return just_reshape(img_path), label\n",
    "\n",
    "    return reshape_with_label if is_trainset else just_reshape"
   ]
  },
  {
   "cell_type": "code",
   "execution_count": null,
   "metadata": {
    "execution": {
     "iopub.execute_input": "2021-12-13T08:39:45.50833Z",
     "iopub.status.busy": "2021-12-13T08:39:45.507877Z",
     "iopub.status.idle": "2021-12-13T08:39:45.515394Z",
     "shell.execute_reply": "2021-12-13T08:39:45.514553Z",
     "shell.execute_reply.started": "2021-12-13T08:39:45.508254Z"
    }
   },
   "outputs": [],
   "source": [
    "# Image augmentation\n",
    "\n",
    "def augment_image(is_trainset):\n",
    "    def just_augment(img):\n",
    "        img = tf.image.random_flip_left_right(img)\n",
    "        # img = tf.image.random_flip_up_down(img)\n",
    "        img = tf.image.random_contrast(img, 0.95, 1.05)\n",
    "        img = tf.image.random_saturation(img, 0.95, 1.05)\n",
    "        return img\n",
    "    \n",
    "    def augment_with_label(img, label):\n",
    "        return just_augment(img), label\n",
    "    \n",
    "    return augment_with_label if is_trainset else just_augment"
   ]
  },
  {
   "cell_type": "code",
   "execution_count": null,
   "metadata": {
    "execution": {
     "iopub.execute_input": "2021-12-13T08:39:45.517331Z",
     "iopub.status.busy": "2021-12-13T08:39:45.516852Z",
     "iopub.status.idle": "2021-12-13T08:39:45.527993Z",
     "shell.execute_reply": "2021-12-13T08:39:45.527166Z",
     "shell.execute_reply.started": "2021-12-13T08:39:45.517276Z"
    }
   },
   "outputs": [],
   "source": [
    "# Use TensorFlow Database to speed up dataset processing\n",
    "\n",
    "def construct_tf_dataset(df, batch_size, is_trainset = False, \n",
    "                         use_augmentation = False, use_shuffle = False):\n",
    "    load_image_function = load_image(is_trainset)\n",
    "    augment_image_function = augment_image(is_trainset)\n",
    "    \n",
    "    if is_trainset:\n",
    "        dataset = tf.data.Dataset.from_tensor_slices((df['Path'].values, df['Pawpularity'].values))\n",
    "        dataset = dataset.map(load_image_function, num_parallel_calls=AUTOTUNE)\n",
    "    else:\n",
    "        dataset = tf.data.Dataset.from_tensor_slices((df['Path'].values))\n",
    "        dataset = dataset.map(load_image_function, num_parallel_calls=AUTOTUNE)\n",
    "        \n",
    "    if use_augmentation:\n",
    "        dataset = dataset.map(augment_image_function, num_parallel_calls=AUTOTUNE)\n",
    "    \n",
    "    if use_shuffle:\n",
    "        dataset = dataset.shuffle(1000, reshuffle_each_iteration=True)\n",
    "        \n",
    "    dataset = dataset.batch(batch_size)\n",
    "    dataset = dataset.prefetch(AUTOTUNE)\n",
    "    return dataset"
   ]
  },
  {
   "cell_type": "code",
   "execution_count": null,
   "metadata": {
    "execution": {
     "iopub.execute_input": "2021-12-13T08:39:45.529836Z",
     "iopub.status.busy": "2021-12-13T08:39:45.529254Z",
     "iopub.status.idle": "2021-12-13T08:39:45.536078Z",
     "shell.execute_reply": "2021-12-13T08:39:45.534986Z",
     "shell.execute_reply.started": "2021-12-13T08:39:45.529801Z"
    }
   },
   "outputs": [],
   "source": [
    "# Set random seed to enable re-production\n",
    "\n",
    "set_random()"
   ]
  },
  {
   "cell_type": "code",
   "execution_count": null,
   "metadata": {
    "execution": {
     "iopub.execute_input": "2021-12-13T08:39:45.538354Z",
     "iopub.status.busy": "2021-12-13T08:39:45.537989Z",
     "iopub.status.idle": "2021-12-13T08:39:45.544316Z",
     "shell.execute_reply": "2021-12-13T08:39:45.543352Z",
     "shell.execute_reply.started": "2021-12-13T08:39:45.538316Z"
    }
   },
   "outputs": [],
   "source": [
    "# Dataset path\n",
    "\n",
    "train_csv = \"../input/petfinder-pawpularity-score/train.csv\"\n",
    "test_csv = \"../input/petfinder-pawpularity-score/test.csv\"\n",
    "submission_csv = \"../input/petfinder-pawpularity-score/submission.csv\"\n",
    "\n",
    "train_dir = \"../input/petfinder-pawpularity-score/train\"\n",
    "test_dir = \"../input/petfinder-pawpularity-score/test\""
   ]
  },
  {
   "cell_type": "code",
   "execution_count": null,
   "metadata": {
    "execution": {
     "iopub.execute_input": "2021-12-13T08:39:45.546256Z",
     "iopub.status.busy": "2021-12-13T08:39:45.545986Z",
     "iopub.status.idle": "2021-12-13T08:39:45.598935Z",
     "shell.execute_reply": "2021-12-13T08:39:45.598326Z",
     "shell.execute_reply.started": "2021-12-13T08:39:45.546222Z"
    }
   },
   "outputs": [],
   "source": [
    "# Load csv and image path to dataframe\n",
    "\n",
    "data_df = pd.read_csv(train_csv)\n",
    "test_df = pd.read_csv(test_csv)\n",
    "\n",
    "data_df['Path'] = data_df['Id'].apply(lambda x : train_dir + '/' + x + '.jpg')\n",
    "test_df['Path'] = test_df['Id'].apply(lambda x : test_dir + '/' + x + '.jpg')"
   ]
  },
  {
   "cell_type": "code",
   "execution_count": null,
   "metadata": {
    "execution": {
     "iopub.execute_input": "2021-12-13T08:39:45.603069Z",
     "iopub.status.busy": "2021-12-13T08:39:45.60273Z",
     "iopub.status.idle": "2021-12-13T08:39:45.627199Z",
     "shell.execute_reply": "2021-12-13T08:39:45.626477Z",
     "shell.execute_reply.started": "2021-12-13T08:39:45.603032Z"
    },
    "scrolled": true
   },
   "outputs": [],
   "source": [
    "# Test\n",
    "\n",
    "display(data_df)"
   ]
  },
  {
   "cell_type": "code",
   "execution_count": null,
   "metadata": {
    "execution": {
     "iopub.execute_input": "2021-12-13T08:39:45.628706Z",
     "iopub.status.busy": "2021-12-13T08:39:45.628397Z",
     "iopub.status.idle": "2021-12-13T08:39:45.657961Z",
     "shell.execute_reply": "2021-12-13T08:39:45.657331Z",
     "shell.execute_reply.started": "2021-12-13T08:39:45.62867Z"
    }
   },
   "outputs": [],
   "source": [
    "# Cross validation fold generation\n",
    "\n",
    "data_df_cv = fold_generator(data_df, target = 'Pawpularity', cv = 5)"
   ]
  },
  {
   "cell_type": "code",
   "execution_count": null,
   "metadata": {
    "execution": {
     "iopub.execute_input": "2021-12-13T08:39:45.659836Z",
     "iopub.status.busy": "2021-12-13T08:39:45.659019Z",
     "iopub.status.idle": "2021-12-13T08:39:45.683517Z",
     "shell.execute_reply": "2021-12-13T08:39:45.6828Z",
     "shell.execute_reply.started": "2021-12-13T08:39:45.659798Z"
    },
    "scrolled": true
   },
   "outputs": [],
   "source": [
    "# Test\n",
    "\n",
    "display(data_df_cv)"
   ]
  },
  {
   "cell_type": "code",
   "execution_count": null,
   "metadata": {
    "execution": {
     "iopub.execute_input": "2021-12-13T08:39:45.685365Z",
     "iopub.status.busy": "2021-12-13T08:39:45.684599Z",
     "iopub.status.idle": "2021-12-13T08:39:45.689707Z",
     "shell.execute_reply": "2021-12-13T08:39:45.688691Z",
     "shell.execute_reply.started": "2021-12-13T08:39:45.685326Z"
    }
   },
   "outputs": [],
   "source": [
    "# Result set\n",
    "\n",
    "Result_set = {\n",
    "    \"Model\" : [],\n",
    "    \"rmse_train\" : [],\n",
    "    \"rmse_valid\" : []\n",
    "}"
   ]
  },
  {
   "cell_type": "code",
   "execution_count": null,
   "metadata": {
    "execution": {
     "iopub.execute_input": "2021-12-13T08:39:45.691653Z",
     "iopub.status.busy": "2021-12-13T08:39:45.691075Z",
     "iopub.status.idle": "2021-12-13T08:45:23.914897Z",
     "shell.execute_reply": "2021-12-13T08:45:23.914121Z",
     "shell.execute_reply.started": "2021-12-13T08:39:45.691604Z"
    }
   },
   "outputs": [],
   "source": [
    "# def trainRegModels(df : \"data_file\", features : list, label: str):\n",
    "    \n",
    "Model_dict = {\n",
    "    \"Lasso\":Lasso(alpha = 0.1),\n",
    "    \"SVR\": SVR(C=1.0, epsilon=0.2, kernel ='rbf'),\n",
    "    \"Ridge\": Ridge(alpha = 1.0),\n",
    "    \"KernelRidge\":KernelRidge(alpha=0.1),\n",
    "    \"ElasticNet\": ElasticNet(random_state=0),\n",
    "    \"XGBRegressor\": XGBRegressor(n_estimators=1000, max_depth=5, eta=0.01, subsample=0.7, colsample_bytree=0.6),\n",
    "    \"LGBMRegressor\": LGBMRegressor(),\n",
    "    \"LinearRegression\": LinearRegression(),\n",
    "    \"BaggingRegressor\": BaggingRegressor(base_estimator=CatBoostRegressor(), n_estimators=10, random_state=0),\n",
    "    \"ExtraTreesRegressor\": ExtraTreesRegressor(n_estimators=100, random_state=0,noise =0.1, n_features =20),\n",
    "    \"DecisionTreeRegressor\": DecisionTreeRegressor(random_state=0),\n",
    "    \"RandomForestRegressor\": RandomForestRegressor(max_depth=2, random_state=0),\n",
    "    \"GaussianProcessRegressor\": GaussianProcessRegressor(random_state=0),\n",
    "    \"GradientBoostingRegressor\": GradientBoostingRegressor(random_state=0),\n",
    "    \"AdaBoostRegressor\": AdaBoostRegressor(n_estimators=100),\n",
    "    \"KNeighborsRegressor\": KNeighborsRegressor(n_neighbors=5),\n",
    "    \"CatBoostRegressor\": CatBoostRegressor(iterations=200, learning_rate=0.01),\n",
    "    \"random forest quantile regression\" : RandomForestQuantileRegressor(random_state=0, min_samples_split=10, n_estimators=1000),\n",
    "    \"mondrian tree\" : MondrianTreeRegressor(random_state=1, max_depth=2),\n",
    "    \"Mondrian Forest Regression\":MondrianForestRegressor(random_state=1, max_depth=2),\n",
    "    \"extra trees qunatile regressor\":ExtraTreesQuantileRegressor(n_estimators=100, random_state=0),\n",
    "    \"Decision tree Quantile regressor\":DecisionTreeQuantileRegressor(random_state=0),\n",
    "    \n",
    "    }\n",
    "\n",
    "Model_list = list(Model_dict.keys())\n",
    "\n",
    "for i in tqdm_notebook(range(len(Model_list))):\n",
    "    model_name = Model_list[i]\n",
    "    model = Model_dict[model_name]\n",
    "    \n",
    "    rmse_train, rmse_valid = cross_valid(data_df_cv, model, cv = 5)\n",
    "\n",
    "    Result_set[\"Model\"].append(model_name)\n",
    "    Result_set[\"rmse_train\"].append(rmse_train)\n",
    "    Result_set[\"rmse_valid\"].append(rmse_valid)"
   ]
  },
  {
   "cell_type": "code",
   "execution_count": null,
   "metadata": {
    "execution": {
     "iopub.execute_input": "2021-12-13T08:45:23.916956Z",
     "iopub.status.busy": "2021-12-13T08:45:23.916484Z",
     "iopub.status.idle": "2021-12-13T08:45:23.930154Z",
     "shell.execute_reply": "2021-12-13T08:45:23.929414Z",
     "shell.execute_reply.started": "2021-12-13T08:45:23.916918Z"
    }
   },
   "outputs": [],
   "source": [
    "# Display result\n",
    "\n",
    "Result_df = pd.DataFrame(Result_set)\n",
    "Result_df.sort_values(\"rmse_valid\", axis = 0, ascending = True)"
   ]
  },
  {
   "cell_type": "code",
   "execution_count": null,
   "metadata": {
    "execution": {
     "iopub.execute_input": "2021-12-13T08:45:35.686242Z",
     "iopub.status.busy": "2021-12-13T08:45:35.683502Z",
     "iopub.status.idle": "2021-12-13T08:45:36.725895Z",
     "shell.execute_reply": "2021-12-13T08:45:36.724601Z",
     "shell.execute_reply.started": "2021-12-13T08:45:35.686196Z"
    }
   },
   "outputs": [],
   "source": [
    "# Display result again\n",
    "import matplotlib.pyplot as plt\n",
    "for i in range(len(Model_list)):\n",
    "    \n",
    "    plt.plot(Result_set[\"rmse_valid\"],label ='Valid Accuracies')\n",
    "#plt.plot(len(Model_list))\n",
    "plt.xlabel('Models')\n",
    "#plt.legend()\n",
    "plt.ylabel('RMSE Values')\n",
    "x.set_xlim(1, 20)\n",
    "plt.xticks(range(1, 21))\n",
    "plt.title('RMSE Scores of Regression Models')\n",
    "plt.show()\n",
    "plt.savefig(\"Regrmodels.png\")\n",
    "        \n",
    "\n"
   ]
  },
  {
   "cell_type": "code",
   "execution_count": null,
   "metadata": {
    "execution": {
     "iopub.status.busy": "2021-12-13T08:45:36.746771Z",
     "iopub.status.idle": "2021-12-13T08:45:36.747215Z",
     "shell.execute_reply": "2021-12-13T08:45:36.747002Z",
     "shell.execute_reply.started": "2021-12-13T08:45:36.746978Z"
    },
    "scrolled": true
   },
   "outputs": [],
   "source": [
    "# Prediction, use model vr\n",
    "\n",
    "X = ['Subject Focus', 'Eyes', 'Face', 'Near', 'Action', 'Accessory', 'Group', 'Collage', 'Human', 'Occlusion', 'Info', 'Blur']\n",
    "\n",
    "test_X = test_df[X]\n",
    "test_X['Pawpularity'] = vr.predict(test_X)\n",
    "test_X['Id'] = test_df['Id']\n",
    "\n",
    "submission_vr = test_X[['Id', 'Pawpularity']]\n",
    "submission_vr.to_csv(\"submission.csv\", index = False)\n",
    "\n",
    "print(submission_vr)"
   ]
  }
 ],
 "metadata": {
  "kernelspec": {
   "display_name": "Python 3 (ipykernel)",
   "language": "python",
   "name": "python3"
  },
  "language_info": {
   "codemirror_mode": {
    "name": "ipython",
    "version": 3
   },
   "file_extension": ".py",
   "mimetype": "text/x-python",
   "name": "python",
   "nbconvert_exporter": "python",
   "pygments_lexer": "ipython3",
   "version": "3.9.0"
  }
 },
 "nbformat": 4,
 "nbformat_minor": 4
}
