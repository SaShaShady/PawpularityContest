{
 "cells": [
  {
   "cell_type": "code",
   "execution_count": 1,
   "metadata": {
    "_kg_hide-input": true,
    "_kg_hide-output": true,
    "execution": {
     "iopub.execute_input": "2021-12-13T15:15:44.657496Z",
     "iopub.status.busy": "2021-12-13T15:15:44.657169Z",
     "iopub.status.idle": "2021-12-13T15:15:58.621489Z",
     "shell.execute_reply": "2021-12-13T15:15:58.620565Z",
     "shell.execute_reply.started": "2021-12-13T15:15:44.657417Z"
    }
   },
   "outputs": [],
   "source": [
    "%%capture\n",
    "\n",
    "# https://www.kaggle.com/bguberfain/openai-clip-with-train/notebook\n",
    "\n",
    "import sys\n",
    "!cp -r ../input/openai-clip/CLIP/CLIP-main /tmp/\n",
    "\n",
    "# Kaggle likes to unpack .gz files in datasets... so we have to pack it back\n",
    "!gzip -c /tmp/CLIP-main/clip/bpe_simple_vocab_16e6.txt > /tmp/CLIP-main/clip/bpe_simple_vocab_16e6.txt.gz\n",
    "sys.path.append('/tmp/CLIP-main')\n",
    "\n",
    "!pip install ../input/openai-clip/ftfy-5.9/ftfy-5.9\n",
    "!pip install ../input/openai-clip/torch-1.7.1+cu110-cp37-cp37m-linux_x86_64.whl \\\n",
    "             ../input/openai-clip/torchvision-0.8.2+cu110-cp37-cp37m-linux_x86_64.whl \\\n",
    "             ../input/faiss-163/faiss_gpu-1.6.3-cp37-cp37m-manylinux2010_x86_64.whl"
   ]
  },
  {
   "cell_type": "code",
   "execution_count": 2,
   "metadata": {
    "execution": {
     "iopub.execute_input": "2021-12-13T15:15:58.624279Z",
     "iopub.status.busy": "2021-12-13T15:15:58.623749Z",
     "iopub.status.idle": "2021-12-13T15:16:01.408201Z",
     "shell.execute_reply": "2021-12-13T15:16:01.407513Z",
     "shell.execute_reply.started": "2021-12-13T15:15:58.624238Z"
    }
   },
   "outputs": [],
   "source": [
    "import torch\n",
    "import torch.nn as nn\n",
    "from torch.utils.data import Dataset, DataLoader\n",
    "from pathlib import Path\n",
    "from os.path import join\n",
    "import numpy as np\n",
    "import pandas as pd\n",
    "import clip, os, skimage\n",
    "import matplotlib.pyplot as plt\n",
    "import seaborn as sns\n",
    "from PIL import Image\n",
    "from tqdm import tqdm\n",
    "\n",
    "clip.available_models()"
   ]
  },
  {
   "cell_type": "code",
   "execution_count": 3,
   "metadata": {
    "execution": {
     "iopub.execute_input": "2021-12-13T15:16:01.409756Z",
     "iopub.status.busy": "2021-12-13T15:16:01.409481Z",
     "iopub.status.idle": "2021-12-13T15:16:11.353089Z",
     "shell.execute_reply": "2021-12-13T15:16:11.352044Z",
     "shell.execute_reply.started": "2021-12-13T15:16:01.409721Z"
    }
   },
   "outputs": [],
   "source": [
    "model, preprocess = clip.load(\"../input/openai-clip/ViT-B-32.pt\", jit=False)\n",
    "model = model.cuda().eval()\n",
    "input_resolution = model.visual.input_resolution\n",
    "context_length = model.context_length\n",
    "vocab_size = model.vocab_size\n",
    "\n",
    "print(\"Model parameters:\", f\"{np.sum([int(np.prod(p.shape)) for p in model.parameters()]):,}\")\n",
    "print(\"Input resolution:\", input_resolution)\n",
    "print(\"Context length:\", context_length)\n",
    "print(\"Vocab size:\", vocab_size)"
   ]
  },
  {
   "cell_type": "code",
   "execution_count": 4,
   "metadata": {
    "execution": {
     "iopub.execute_input": "2021-12-13T15:16:11.356201Z",
     "iopub.status.busy": "2021-12-13T15:16:11.355783Z",
     "iopub.status.idle": "2021-12-13T15:16:11.561204Z",
     "shell.execute_reply": "2021-12-13T15:16:11.560489Z",
     "shell.execute_reply.started": "2021-12-13T15:16:11.356162Z"
    }
   },
   "outputs": [],
   "source": [
    "train_image_path = Path(\"../input/petfinder-pawpularity-score/train\")\n",
    "file_names = [f.name for f in train_image_path.iterdir() if f.suffix == \".jpg\"]"
   ]
  },
  {
   "cell_type": "code",
   "execution_count": 5,
   "metadata": {
    "execution": {
     "iopub.execute_input": "2021-12-13T15:16:11.563006Z",
     "iopub.status.busy": "2021-12-13T15:16:11.562678Z",
     "iopub.status.idle": "2021-12-13T15:16:13.169461Z",
     "shell.execute_reply": "2021-12-13T15:16:13.168445Z",
     "shell.execute_reply.started": "2021-12-13T15:16:11.562969Z"
    }
   },
   "outputs": [],
   "source": [
    "original_images = []\n",
    "images = []\n",
    "plt.figure(figsize=(15, 12))\n",
    "\n",
    "for filename in file_names[:9]:\n",
    "    image = Image.open(join(train_image_path, filename))\n",
    "  \n",
    "    plt.subplot(3, 3, len(images) + 1)\n",
    "    plt.imshow(image)\n",
    "    plt.xticks([])\n",
    "    plt.yticks([])\n",
    "\n",
    "    original_images.append(image)\n",
    "    images.append(preprocess(image))"
   ]
  },
  {
   "cell_type": "code",
   "execution_count": 6,
   "metadata": {
    "execution": {
     "iopub.execute_input": "2021-12-13T15:16:13.170788Z",
     "iopub.status.busy": "2021-12-13T15:16:13.170540Z",
     "iopub.status.idle": "2021-12-13T15:16:13.177833Z",
     "shell.execute_reply": "2021-12-13T15:16:13.177160Z",
     "shell.execute_reply.started": "2021-12-13T15:16:13.170754Z"
    }
   },
   "outputs": [],
   "source": [
    "texts = ['Cute',\n",
    "         'Funny',\n",
    "         'Derp', # let's see if this works\n",
    "         'Small',\n",
    "         'Happy',\n",
    "         'Sad',\n",
    "         'Aggressive',\n",
    "         'Friendly',\n",
    "         'Old',\n",
    "         'Young',\n",
    "         'Love']"
   ]
  },
  {
   "cell_type": "code",
   "execution_count": 7,
   "metadata": {
    "execution": {
     "iopub.execute_input": "2021-12-13T15:16:13.179861Z",
     "iopub.status.busy": "2021-12-13T15:16:13.179357Z",
     "iopub.status.idle": "2021-12-13T15:16:13.196467Z",
     "shell.execute_reply": "2021-12-13T15:16:13.195779Z",
     "shell.execute_reply.started": "2021-12-13T15:16:13.179828Z"
    }
   },
   "outputs": [],
   "source": [
    "image_input = torch.tensor(np.stack(images)).cuda()\n",
    "text_tokens = clip.tokenize(texts).cuda()\n",
    "\n",
    "# text_tokens = clip.tokenize([f\"A {w} photo of a\" + w for w in texts]).cuda()"
   ]
  },
  {
   "cell_type": "code",
   "execution_count": 8,
   "metadata": {
    "execution": {
     "iopub.execute_input": "2021-12-13T15:16:13.198255Z",
     "iopub.status.busy": "2021-12-13T15:16:13.197815Z",
     "iopub.status.idle": "2021-12-13T15:16:18.499416Z",
     "shell.execute_reply": "2021-12-13T15:16:18.498617Z",
     "shell.execute_reply.started": "2021-12-13T15:16:13.198219Z"
    }
   },
   "outputs": [],
   "source": [
    "with torch.no_grad():\n",
    "    image_features = model.encode_image(image_input).float()\n",
    "    text_features = model.encode_text(text_tokens).float()\n",
    "\n",
    "image_features /= image_features.norm(dim=-1, keepdim=True)\n",
    "text_features /= text_features.norm(dim=-1, keepdim=True)\n",
    "\n",
    "similarity_matrix = torch.inner(text_features, image_features).cpu()"
   ]
  },
  {
   "cell_type": "code",
   "execution_count": 9,
   "metadata": {
    "execution": {
     "iopub.execute_input": "2021-12-13T15:16:18.500971Z",
     "iopub.status.busy": "2021-12-13T15:16:18.500680Z",
     "iopub.status.idle": "2021-12-13T15:16:19.619919Z",
     "shell.execute_reply": "2021-12-13T15:16:19.619225Z",
     "shell.execute_reply.started": "2021-12-13T15:16:18.500936Z"
    }
   },
   "outputs": [],
   "source": [
    "count = len(texts)\n",
    "\n",
    "plt.figure(figsize=(20, 16))\n",
    "plt.imshow(similarity_matrix, vmin=0.1, vmax=0.3, cmap = 'RdBu')\n",
    "\n",
    "plt.yticks(range(count), texts, fontsize=18)\n",
    "plt.xticks([])\n",
    "\n",
    "for i, image in enumerate(original_images):\n",
    "    plt.imshow(image, extent=(i - 0.5, i + 0.5, -1.6, -0.6), origin=\"lower\")\n",
    "for x in range(similarity_matrix.shape[1]):\n",
    "    for y in range(similarity_matrix.shape[0]):\n",
    "        plt.text(x, y, f\"{similarity_matrix[y, x]:.2f}\", ha=\"center\", va=\"center\", size=12)\n",
    "\n",
    "for side in [\"left\", \"top\", \"right\", \"bottom\"]:\n",
    "    plt.gca().spines[side].set_visible(False)\n",
    "\n",
    "plt.xlim([-0.5, count - 0.5])\n",
    "plt.ylim([count + 0.5, -2])\n",
    "\n",
    "plt.title(\"Cosine similarity matrix between text and image features\", size=20, loc='left')\n",
    "plt.show()"
   ]
  },
  {
   "cell_type": "code",
   "execution_count": 10,
   "metadata": {
    "execution": {
     "iopub.execute_input": "2021-12-13T15:16:19.623311Z",
     "iopub.status.busy": "2021-12-13T15:16:19.622832Z",
     "iopub.status.idle": "2021-12-13T15:16:19.629941Z",
     "shell.execute_reply": "2021-12-13T15:16:19.629125Z",
     "shell.execute_reply.started": "2021-12-13T15:16:19.623274Z"
    }
   },
   "outputs": [],
   "source": [
    "class PetDataset(Dataset):\n",
    "    def __init__(self, path):\n",
    "        self.path = path\n",
    "        self.files = [f for f in path.iterdir() if f.suffix == \".jpg\"]\n",
    "\n",
    "    def __len__(self):\n",
    "        return len(self.files)\n",
    "\n",
    "    def __getitem__(self, idx):\n",
    "        _im_path = self.files[idx]\n",
    "        _img = Image.open(_im_path)\n",
    "        _img = preprocess(_img)\n",
    "        return _img, _im_path.name.split('.')[0]"
   ]
  },
  {
   "cell_type": "code",
   "execution_count": 11,
   "metadata": {
    "execution": {
     "iopub.execute_input": "2021-12-13T15:16:19.631722Z",
     "iopub.status.busy": "2021-12-13T15:16:19.631446Z",
     "iopub.status.idle": "2021-12-13T15:16:19.641926Z",
     "shell.execute_reply": "2021-12-13T15:16:19.641289Z",
     "shell.execute_reply.started": "2021-12-13T15:16:19.631686Z"
    }
   },
   "outputs": [],
   "source": [
    "def create_similarity_features(dl):\n",
    "    features = []\n",
    "    names = []\n",
    "    with torch.no_grad():\n",
    "        for xb, name in dl:\n",
    "            xb = xb.cuda()\n",
    "            xb = model.encode_image(xb)\n",
    "            xb /= xb.norm(dim=-1, keepdim=True)\n",
    "            sim_matrix = torch.inner(text_features, xb.float()).cpu().numpy()\n",
    "            features.append(sim_matrix)\n",
    "            names.append(name)\n",
    "    return features, names"
   ]
  },
  {
   "cell_type": "code",
   "execution_count": 12,
   "metadata": {
    "execution": {
     "iopub.execute_input": "2021-12-13T15:16:19.644464Z",
     "iopub.status.busy": "2021-12-13T15:16:19.643794Z",
     "iopub.status.idle": "2021-12-13T15:20:14.978901Z",
     "shell.execute_reply": "2021-12-13T15:20:14.978146Z",
     "shell.execute_reply.started": "2021-12-13T15:16:19.644429Z"
    }
   },
   "outputs": [],
   "source": [
    "ds = PetDataset(train_image_path)\n",
    "dl = DataLoader(ds, batch_size = 400, shuffle=False)\n",
    "train_features, train_names = create_similarity_features(dl)"
   ]
  },
  {
   "cell_type": "code",
   "execution_count": 13,
   "metadata": {
    "execution": {
     "iopub.execute_input": "2021-12-13T15:20:14.980435Z",
     "iopub.status.busy": "2021-12-13T15:20:14.980153Z",
     "iopub.status.idle": "2021-12-13T15:20:15.848073Z",
     "shell.execute_reply": "2021-12-13T15:20:15.847418Z",
     "shell.execute_reply.started": "2021-12-13T15:20:14.980399Z"
    }
   },
   "outputs": [],
   "source": [
    "train_features_df = pd.DataFrame(np.hstack(train_features).T,\n",
    "                           index = np.hstack(train_names).T,\n",
    "                           columns = texts)\n",
    "df_corr = train_features_df.corr()\n",
    "plt.figure(figsize=(13,8))\n",
    "\n",
    "plt.title(\"Correlation matrix between engineered features\", size=20, loc='left') \n",
    "sns.heatmap(df_corr, cmap='RdBu', annot=True, linewidths=2)"
   ]
  },
  {
   "cell_type": "code",
   "execution_count": 14,
   "metadata": {
    "execution": {
     "iopub.execute_input": "2021-12-13T15:20:15.849476Z",
     "iopub.status.busy": "2021-12-13T15:20:15.849194Z",
     "iopub.status.idle": "2021-12-13T15:20:15.995458Z",
     "shell.execute_reply": "2021-12-13T15:20:15.994748Z",
     "shell.execute_reply.started": "2021-12-13T15:20:15.849438Z"
    }
   },
   "outputs": [],
   "source": [
    "# saving training features for later use\n",
    "train_features_df.to_csv('clip_features.csv')"
   ]
  },
  {
   "cell_type": "markdown",
   "metadata": {},
   "source": [
    "---"
   ]
  },
  {
   "cell_type": "code",
   "execution_count": 19,
   "metadata": {
    "execution": {
     "iopub.execute_input": "2021-12-13T15:32:19.834310Z",
     "iopub.status.busy": "2021-12-13T15:32:19.834048Z",
     "iopub.status.idle": "2021-12-13T15:32:42.156010Z",
     "shell.execute_reply": "2021-12-13T15:32:42.155212Z",
     "shell.execute_reply.started": "2021-12-13T15:32:19.834282Z"
    }
   },
   "outputs": [],
   "source": [
    "!python3 -m pip install scikit-garden"
   ]
  },
  {
   "cell_type": "code",
   "execution_count": 20,
   "metadata": {
    "execution": {
     "iopub.execute_input": "2021-12-13T15:32:42.159636Z",
     "iopub.status.busy": "2021-12-13T15:32:42.159242Z",
     "iopub.status.idle": "2021-12-13T15:32:42.970865Z",
     "shell.execute_reply": "2021-12-13T15:32:42.970136Z",
     "shell.execute_reply.started": "2021-12-13T15:32:42.159605Z"
    }
   },
   "outputs": [],
   "source": [
    "import os\n",
    "import cv2\n",
    "import time\n",
    "import json\n",
    "import random\n",
    "import warnings\n",
    "import numpy as np\n",
    "import pandas as pd\n",
    "import seaborn as sns\n",
    "import plotly.express as px\n",
    "import plotly.graph_objs as go\n",
    "import matplotlib.pyplot as plt\n",
    "\n",
    "\n",
    "from PIL import Image\n",
    "from enum import Enum\n",
    "from glob import glob\n",
    "from tqdm import trange\n",
    "from pprint import pprint\n",
    "from colorama import Fore\n",
    "from tqdm import tqdm_notebook\n",
    "from sklearn.utils import shuffle\n",
    "from IPython.display import display\n",
    "\n",
    "\n",
    "from sklearn.metrics import *\n",
    "from sklearn.preprocessing import *\n",
    "from sklearn.model_selection import *\n",
    "\n",
    "\n",
    "\n",
    "# Neural Network Models\n",
    "import tensorflow as tf\n",
    "from tensorflow import keras\n",
    "from tensorflow.keras import layers\n",
    "from tensorflow.keras import backend as K\n",
    "from tensorflow.keras.models import Sequential\n",
    "from tensorflow.keras.optimizers.schedules import ExponentialDecay\n",
    "from tensorflow.keras.layers import Input, Concatenate, BatchNormalization\n",
    "from tensorflow.keras.layers import Dense, Activation, Flatten, Conv2D, Dropout\n",
    "\n",
    "\n",
    "\n",
    "# Regression Models\n",
    "import six\n",
    "import sys\n",
    "sys.modules['sklearn.externals.six'] = six\n",
    "from skgarden import RandomForestQuantileRegressor,MondrianForestRegressor,MondrianTreeRegressor\n",
    "from sklearn.linear_model import Lasso\n",
    "#from skgarden import RandomForestQuantileRegressor\n",
    "from statsmodels.formula.api import quantreg\n",
    "from sklearn.svm import SVR\n",
    "from sklearn.kernel_ridge import KernelRidge\n",
    "from xgboost import XGBRegressor\n",
    "from lightgbm import LGBMRegressor\n",
    "from catboost import CatBoostRegressor\n",
    "from sklearn.tree import DecisionTreeRegressor\n",
    "from sklearn.neighbors import KNeighborsRegressor\n",
    "from sklearn.gaussian_process import GaussianProcessRegressor\n",
    "from sklearn.linear_model import LinearRegression, Ridge, ElasticNet\n",
    "from sklearn.ensemble import ExtraTreesRegressor, RandomForestRegressor,VotingRegressor, AdaBoostRegressor, GradientBoostingRegressor, BaggingRegressor\n",
    "from sklearn.gaussian_process.kernels import DotProduct, WhiteKernel\n",
    "from skgarden.quantile import ExtraTreesQuantileRegressor,DecisionTreeQuantileRegressor\n",
    "\n",
    "warnings.filterwarnings(\"ignore\")\n",
    "AUTOTUNE = tf.data.experimental.AUTOTUNE"
   ]
  },
  {
   "cell_type": "code",
   "execution_count": 21,
   "metadata": {
    "execution": {
     "iopub.execute_input": "2021-12-13T15:32:42.972400Z",
     "iopub.status.busy": "2021-12-13T15:32:42.972138Z",
     "iopub.status.idle": "2021-12-13T15:32:43.022822Z",
     "shell.execute_reply": "2021-12-13T15:32:43.022164Z",
     "shell.execute_reply.started": "2021-12-13T15:32:42.972351Z"
    }
   },
   "outputs": [],
   "source": [
    "train_df = pd.read_csv(\"../input/same-old-creating-folds/train_10folds.csv\")\n",
    "test_df = pd.read_csv(\"../input/petfinder-pawpularity-score/test.csv\")\n",
    "sample_submission = pd.read_csv(\"../input/petfinder-pawpularity-score/sample_submission.csv\")\n",
    "test_image_path = train_image_path = Path(\"../input/petfinder-pawpularity-score/test\")\n",
    "\n",
    "useful_features = [\n",
    "    'Subject Focus', 'Eyes', 'Face', 'Near', 'Action', 'Accessory',\n",
    "    'Group', 'Collage', 'Human', 'Occlusion', 'Info', 'Blur',\n",
    "    'Cute', 'Funny', 'Derp', 'Small', 'Happy', 'Sad', 'Aggressive',\n",
    "    'Friendly', 'Old', 'Young', 'Love']"
   ]
  },
  {
   "cell_type": "code",
   "execution_count": 22,
   "metadata": {
    "execution": {
     "iopub.execute_input": "2021-12-13T15:32:43.024597Z",
     "iopub.status.busy": "2021-12-13T15:32:43.024205Z",
     "iopub.status.idle": "2021-12-13T15:32:44.697160Z",
     "shell.execute_reply": "2021-12-13T15:32:44.696427Z",
     "shell.execute_reply.started": "2021-12-13T15:32:43.024559Z"
    }
   },
   "outputs": [],
   "source": [
    "ds = PetDataset(test_image_path)\n",
    "dl = DataLoader(ds, batch_size = 400, shuffle=False)\n",
    "test_features, test_names = create_similarity_features(dl)\n",
    "\n",
    "test_features_df = pd.DataFrame(np.hstack(test_features).T,\n",
    "                                index = np.hstack(test_names).T,\n",
    "                                columns = texts)"
   ]
  },
  {
   "cell_type": "code",
   "execution_count": 23,
   "metadata": {
    "execution": {
     "iopub.execute_input": "2021-12-13T15:32:44.699649Z",
     "iopub.status.busy": "2021-12-13T15:32:44.699428Z",
     "iopub.status.idle": "2021-12-13T15:32:44.719254Z",
     "shell.execute_reply": "2021-12-13T15:32:44.718482Z",
     "shell.execute_reply.started": "2021-12-13T15:32:44.699618Z"
    }
   },
   "outputs": [],
   "source": [
    "train_df = train_df.join(train_features_df, on = 'Id')\n",
    "test_df = test_df.join(test_features_df, on = 'Id')"
   ]
  },
  {
   "cell_type": "code",
   "execution_count": 24,
   "metadata": {
    "execution": {
     "iopub.execute_input": "2021-12-13T15:32:44.721031Z",
     "iopub.status.busy": "2021-12-13T15:32:44.720593Z",
     "iopub.status.idle": "2021-12-13T15:32:44.725407Z",
     "shell.execute_reply": "2021-12-13T15:32:44.724742Z",
     "shell.execute_reply.started": "2021-12-13T15:32:44.720992Z"
    }
   },
   "outputs": [],
   "source": [
    "Result_set = {\n",
    "    \"Model\" : [],\n",
    "    \"rmse_train\" : [],\n",
    "    \"rmse_valid\" : []\n",
    "}"
   ]
  },
  {
   "cell_type": "code",
   "execution_count": 42,
   "metadata": {
    "execution": {
     "iopub.execute_input": "2021-12-13T15:48:55.183420Z",
     "iopub.status.busy": "2021-12-13T15:48:55.183141Z",
     "iopub.status.idle": "2021-12-13T15:48:55.200004Z",
     "shell.execute_reply": "2021-12-13T15:48:55.199070Z",
     "shell.execute_reply.started": "2021-12-13T15:48:55.183366Z"
    }
   },
   "outputs": [],
   "source": [
    "def generate_predictions( fold, df, df_test, useful_features):    \n",
    "    xtrain = df[df.kfold != fold].reset_index(drop=True)\n",
    "    xvalid = df[df.kfold == fold].reset_index(drop=True)\n",
    "    xtest = df_test.copy()\n",
    "\n",
    "    ytrain = xtrain.Pawpularity\n",
    "    yvalid = xvalid.Pawpularity\n",
    "\n",
    "    xtrain = xtrain[useful_features]\n",
    "    xvalid = xvalid[useful_features]\n",
    "    xtest = xtest[useful_features]\n",
    "    \n",
    "    \n",
    "    Model_dict = {\n",
    "    \"Lasso\":Lasso(alpha = 0.1),\n",
    "    \"SVR\": SVR(C=1.0, epsilon=0.2, kernel ='rbf'),\n",
    "    \"Ridge\": Ridge(alpha = 1.0),\n",
    "    \"KernelRidge\":KernelRidge(alpha=0.1),\n",
    "    \"ElasticNet\": ElasticNet(random_state=0),\n",
    "    \"XGBRegressor\": XGBRegressor(n_estimators=1000, max_depth=5, eta=0.01, subsample=0.7, colsample_bytree=0.6),\n",
    "    \"LGBMRegressor\": LGBMRegressor(),\n",
    "    \"LinearRegression\": LinearRegression(),\n",
    "    \"BaggingRegressor\": BaggingRegressor(base_estimator=CatBoostRegressor(), n_estimators=10, random_state=0),\n",
    "    \"ExtraTreesRegressor\": ExtraTreesRegressor(n_estimators=100, random_state=0),\n",
    "    \"DecisionTreeRegressor\": DecisionTreeRegressor(random_state=0),\n",
    "    \"RandomForestRegressor\": RandomForestRegressor(max_depth=2, random_state=0),\n",
    "    \"GaussianProcessRegressor\": GaussianProcessRegressor(random_state=0),\n",
    "    \"GradientBoostingRegressor\": GradientBoostingRegressor(random_state=0),\n",
    "    \"AdaBoostRegressor\": AdaBoostRegressor(n_estimators=100),\n",
    "    \"KNeighborsRegressor\": KNeighborsRegressor(n_neighbors=5),\n",
    "    \"CatBoostRegressor\": CatBoostRegressor(iterations=200, learning_rate=0.01),\n",
    "    \"random forest quantile regression\" : RandomForestQuantileRegressor(random_state=0, min_samples_split=10, n_estimators=1000),\n",
    "    \"mondrian tree\" : MondrianTreeRegressor(random_state=1, max_depth=2),\n",
    "    \"Mondrian Forest Regression\":MondrianForestRegressor(random_state=1, max_depth=2),\n",
    "    \"extra trees qunatile regressor\":ExtraTreesQuantileRegressor(n_estimators=100, random_state=0),\n",
    "    \"Decision tree Quantile regressor\":DecisionTreeQuantileRegressor(random_state=0),\n",
    "    \n",
    "    }\n",
    "    \n",
    "    cbr = CatBoostRegressor(iterations=200, learning_rate=0.01)\n",
    "    gbr = GradientBoostingRegressor()\n",
    "    xgbr = XGBRegressor()\n",
    "    \n",
    "    Model_list = list(Model_dict.keys())\n",
    "\n",
    "    for i in tqdm_notebook(range(len(Model_list))):\n",
    "        model_name = Model_list[i]\n",
    "        model = Model_dict[model_name]\n",
    "    \n",
    "       \n",
    "        \n",
    "        model.fit(xtrain, ytrain)\n",
    "        preds_valid = model.predict(xvalid)\n",
    "        test_preds = model.predict(xtest)\n",
    "        rmse = mean_squared_error(yvalid, preds_valid, squared=False)\n",
    "        print(rmse)\n",
    "\n",
    "        \n",
    "    \n",
    "\n",
    "\n",
    "    \n",
    "    return test_preds"
   ]
  },
  {
   "cell_type": "code",
   "execution_count": 45,
   "metadata": {
    "execution": {
     "iopub.execute_input": "2021-12-13T15:48:55.231563Z",
     "iopub.status.busy": "2021-12-13T15:48:55.231194Z",
     "iopub.status.idle": "2021-12-13T16:32:16.430819Z",
     "shell.execute_reply": "2021-12-13T16:32:16.430031Z",
     "shell.execute_reply.started": "2021-12-13T15:48:55.231527Z"
    }
   },
   "outputs": [],
   "source": [
    "final_predictions = []\n",
    "rmse_l=[]\n",
    "for fold_ in range(10):\n",
    "    final_predictions.append(\n",
    "        generate_predictions(\n",
    "            \n",
    "            fold=fold_,\n",
    "            df=train_df,\n",
    "            df_test=test_df,\n",
    "            useful_features=useful_features,\n",
    "            #print(\"Fold\", fold_)\n",
    "        )\n",
    "    )\n"
   ]
  },
  {
   "cell_type": "code",
   "execution_count": 46,
   "metadata": {
    "execution": {
     "iopub.execute_input": "2021-12-13T16:32:16.433198Z",
     "iopub.status.busy": "2021-12-13T16:32:16.432932Z",
     "iopub.status.idle": "2021-12-13T16:32:16.440937Z",
     "shell.execute_reply": "2021-12-13T16:32:16.440253Z",
     "shell.execute_reply.started": "2021-12-13T16:32:16.433163Z"
    }
   },
   "outputs": [],
   "source": [
    "final_predictions = np.mean(np.column_stack(final_predictions), axis=1)\n",
    "sample_submission.Pawpularity = final_predictions\n",
    "sample_submission.to_csv(\"submission.csv\", index=False)\n"
   ]
  },
  {
   "cell_type": "code",
   "execution_count": null,
   "metadata": {},
   "outputs": [],
   "source": []
  }
 ],
 "metadata": {
  "kernelspec": {
   "display_name": "Python 3 (ipykernel)",
   "language": "python",
   "name": "python3"
  },
  "language_info": {
   "codemirror_mode": {
    "name": "ipython",
    "version": 3
   },
   "file_extension": ".py",
   "mimetype": "text/x-python",
   "name": "python",
   "nbconvert_exporter": "python",
   "pygments_lexer": "ipython3",
   "version": "3.9.0"
  }
 },
 "nbformat": 4,
 "nbformat_minor": 4
}
