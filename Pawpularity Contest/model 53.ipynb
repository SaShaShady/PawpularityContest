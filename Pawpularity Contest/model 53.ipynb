{
 "cells": [
  {
   "cell_type": "code",
   "execution_count": null,
   "metadata": {
    "execution": {
     "iopub.execute_input": "2021-12-13T04:36:55.642444Z",
     "iopub.status.busy": "2021-12-13T04:36:55.641813Z",
     "iopub.status.idle": "2021-12-13T04:37:03.365039Z",
     "shell.execute_reply": "2021-12-13T04:37:03.364077Z",
     "shell.execute_reply.started": "2021-12-13T04:36:55.642409Z"
    }
   },
   "outputs": [],
   "source": [
    "!pip install torchsummary \n"
   ]
  },
  {
   "cell_type": "code",
   "execution_count": null,
   "metadata": {
    "_kg_hide-input": true,
    "execution": {
     "iopub.execute_input": "2021-12-13T04:37:03.369128Z",
     "iopub.status.busy": "2021-12-13T04:37:03.368876Z",
     "iopub.status.idle": "2021-12-13T04:37:03.376077Z",
     "shell.execute_reply": "2021-12-13T04:37:03.375361Z",
     "shell.execute_reply.started": "2021-12-13T04:37:03.3691Z"
    },
    "papermill": {
     "duration": 8.607495,
     "end_time": "2021-10-05T01:29:59.353831",
     "exception": false,
     "start_time": "2021-10-05T01:29:50.746336",
     "status": "completed"
    },
    "tags": []
   },
   "outputs": [],
   "source": [
    "# based on the post here: https://www.kaggle.com/c/petfinder-pawpularity-score/discussion/275094\n",
    "\n",
    "import sys\n",
    "sys.path.append(\"../input/tez-lib/\")\n",
    "sys.path.append(\"../input/timmmaster/\")\n",
    "\n",
    "import tez\n",
    "import albumentations\n",
    "import pandas as pd\n",
    "from torchsummary import summary\n",
    "import cv2\n",
    "import numpy as np\n",
    "import timm\n",
    "import torch.nn as nn\n",
    "from sklearn import metrics\n",
    "import torch\n",
    "from tez.callbacks import EarlyStopping\n",
    "from tqdm import tqdm\n",
    "import math\n",
    "\n",
    "class args:\n",
    "    batch_size = 16\n",
    "    image_size = 384\n",
    "    \n",
    "def sigmoid(x):\n",
    "    return 1 / (1 + math.exp(-x))"
   ]
  },
  {
   "cell_type": "code",
   "execution_count": null,
   "metadata": {
    "_cell_guid": "b1076dfc-b9ad-4769-8c92-a6c4dae69d19",
    "_kg_hide-input": true,
    "_uuid": "8f2839f25d086af736a60e9eeb907d3b93b6e0e5",
    "execution": {
     "iopub.execute_input": "2021-12-13T04:37:03.377704Z",
     "iopub.status.busy": "2021-12-13T04:37:03.377401Z",
     "iopub.status.idle": "2021-12-13T04:37:03.396366Z",
     "shell.execute_reply": "2021-12-13T04:37:03.395568Z",
     "shell.execute_reply.started": "2021-12-13T04:37:03.377652Z"
    },
    "papermill": {
     "duration": 0.028308,
     "end_time": "2021-10-05T01:29:59.409017",
     "exception": false,
     "start_time": "2021-10-05T01:29:59.380709",
     "status": "completed"
    },
    "tags": []
   },
   "outputs": [],
   "source": [
    "class PawpularDataset:\n",
    "    def __init__(self, image_paths, dense_features, targets, augmentations):\n",
    "        self.image_paths = image_paths\n",
    "        self.dense_features = dense_features\n",
    "        self.targets = targets\n",
    "        self.augmentations = augmentations\n",
    "        \n",
    "    def __len__(self):\n",
    "        return len(self.image_paths)\n",
    "    \n",
    "    def __getitem__(self, item):\n",
    "        image = cv2.imread(self.image_paths[item])\n",
    "        image = cv2.cvtColor(image, cv2.COLOR_BGR2RGB)\n",
    "        \n",
    "        if self.augmentations is not None:\n",
    "            augmented = self.augmentations(image=image)\n",
    "            image = augmented[\"image\"]\n",
    "            \n",
    "        image = np.transpose(image, (2, 0, 1)).astype(np.float32)\n",
    "        \n",
    "        features = self.dense_features[item, :]\n",
    "        targets = self.targets[item]\n",
    "        \n",
    "        return {\n",
    "            \"image\": torch.tensor(image, dtype=torch.float),\n",
    "            \"features\": torch.tensor(features, dtype=torch.float),\n",
    "            \"targets\": torch.tensor(targets, dtype=torch.float),\n",
    "        }\n",
    "    \n",
    "class PawpularModel(tez.Model):\n",
    "    def __init__(self, model_name):\n",
    "        super()h5__init__()\n",
    "        self.model = timm.create_model(model_name, pretrained=False, in_chans=3)\n",
    "        self.model.head = nn.Linear(self.model.head.in_features, 128)\n",
    "        self.dropout = nn.Dropout(0.1)\n",
    "        self.dense1 = nn.Linear(140, 64)\n",
    "        self.dense2 = nn.Linear(64, 1)\n",
    "        \n",
    "\n",
    "    def forward(self, image, features, targets=None):\n",
    "        x1 = self.model(image)\n",
    "        x = self.dropout(x1)\n",
    "        x = torch.cat([x, features], dim=1)\n",
    "        x = self.dense1(x)\n",
    "        x = self.dense2(x)\n",
    "        \n",
    "        x = torch.cat([x, x1, features], dim=1)\n",
    "        return x, 0, {}\n",
    "    \n",
    "test_aug = albumentations.Compose(\n",
    "    [\n",
    "        albumentations.Resize(args.image_size, args.image_size, p=1),\n",
    "        albumentations.Normalize(\n",
    "            mean=[0.485, 0.456, 0.406],\n",
    "            std=[0.229, 0.224, 0.225],\n",
    "            max_pixel_value=255.0,\n",
    "            p=1.0,\n",
    "        ),\n",
    "    ],\n",
    "    p=1.0,\n",
    ")"
   ]
  },
  {
   "cell_type": "code",
   "execution_count": null,
   "metadata": {
    "execution": {
     "iopub.execute_input": "2021-12-13T04:37:03.399212Z",
     "iopub.status.busy": "2021-12-13T04:37:03.398531Z",
     "iopub.status.idle": "2021-12-13T04:37:03.447479Z",
     "shell.execute_reply": "2021-12-13T04:37:03.446673Z",
     "shell.execute_reply.started": "2021-12-13T04:37:03.399172Z"
    },
    "papermill": {
     "duration": 3.453807,
     "end_time": "2021-10-05T01:30:02.890319",
     "exception": false,
     "start_time": "2021-10-05T01:29:59.436512",
     "status": "completed"
    },
    "tags": []
   },
   "outputs": [],
   "source": [
    "import cuml, pickle\n",
    "from cuml.svm import SVR\n",
    "print('RAPIDS version',cuml.__version__,'\\n')\n",
    "\n",
    "LOAD_SVR_FROM_PATH = '../input/svr-models-10-folds/'\n",
    "\n",
    "df = pd.read_csv('../input/same-old-creating-folds/train_10folds.csv')\n",
    "print('Train shape:', df.shape )\n",
    "df.head()"
   ]
  },
  {
   "cell_type": "code",
   "execution_count": null,
   "metadata": {
    "execution": {
     "iopub.execute_input": "2021-12-13T04:37:03.449228Z",
     "iopub.status.busy": "2021-12-13T04:37:03.448932Z",
     "iopub.status.idle": "2021-12-13T04:46:31.620114Z",
     "shell.execute_reply": "2021-12-13T04:46:31.61882Z",
     "shell.execute_reply.started": "2021-12-13T04:37:03.449193Z"
    },
    "papermill": {
     "duration": 569.218368,
     "end_time": "2021-10-05T01:39:32.138933",
     "exception": false,
     "start_time": "2021-10-05T01:30:02.920565",
     "status": "completed"
    },
    "tags": []
   },
   "outputs": [],
   "source": [
    "super_final_predictions = []\n",
    "super_final_predictions2 = []\n",
    "super_final_oof_predictions = []\n",
    "super_final_oof_predictions2 = []\n",
    "super_final_oof_true = []\n",
    "\n",
    "for fold_ in range(10):\n",
    "    print('#'*25)\n",
    "    print('### FOLD',fold_+1)\n",
    "    print('#'*25)\n",
    "    \n",
    "    model = PawpularModel(model_name=\"swin_large_patch4_window12_384\")\n",
    "    model.load(f\"../input/paw-models/model_f{fold_}.bin\", device=\"cuda\", weights_only=True)\n",
    "\n",
    "    df_test = pd.read_csv(\"../input/petfinder-pawpularity-score/test.csv\")\n",
    "    test_img_paths = [f\"../input/petfinder-pawpularity-score/test/{x}.jpg\" for x in df_test[\"Id\"].values]\n",
    "        \n",
    "    df_valid = df[df.kfold == fold_].reset_index(drop=True)#.iloc[:160]\n",
    "    valid_img_paths = [f\"../input/petfinder-pawpularity-score/train/{x}.jpg\" for x in df_valid[\"Id\"].values]\n",
    "\n",
    "    dense_features = [\n",
    "        'Subject Focus', 'Eyes', 'Face', 'Near', 'Action', 'Accessory',\n",
    "        'Group', 'Collage', 'Human', 'Occlusion', 'Info', 'Blur'\n",
    "    ]\n",
    "    \n",
    "    name = f\"SVR_fold_{fold_}.pkl\" \n",
    "    if LOAD_SVR_FROM_PATH is None:\n",
    "        ##################\n",
    "        # EXTRACT TRAIN EMBEDDINGS\n",
    "        \n",
    "        df_train = df[df.kfold != fold_].reset_index(drop=True)#.iloc[:320]\n",
    "        train_img_paths = [f\"../input/petfinder-pawpularity-score/train/{x}.jpg\" for x in df_train[\"Id\"].values]\n",
    "        \n",
    "        train_dataset = PawpularDataset(\n",
    "            image_paths=train_img_paths,\n",
    "            dense_features=df_train[dense_features].values,\n",
    "            targets=df_train['Pawpularity'].values/100.0,\n",
    "            augmentations=test_aug,\n",
    "        )\n",
    "        print('Extracting train embedding...')\n",
    "        train_predictions = model.predict(train_dataset, batch_size=2*args.batch_size, n_jobs=-1)\n",
    "    \n",
    "        embed = np.array([]).reshape((0,128+12))\n",
    "        for preds in train_predictions:\n",
    "            embed = np.concatenate([embed,preds[:,1:]],axis=0)\n",
    "        \n",
    "        ##################\n",
    "        # FIT RAPIDS SVR\n",
    "        print('Fitting SVR...')\n",
    "        clf = SVR(C=20.0)\n",
    "        clf.fit(embed.astype('float32'), df_train.Pawpularity.values.astype('int32'))\n",
    "    \n",
    "        ##################\n",
    "        # SAVE RAPIDS SVR \n",
    "        pickle.dump(clf, open(name, \"wb\"))\n",
    "        \n",
    "    else:\n",
    "        ##################\n",
    "        # LOAD RAPIDS SVR \n",
    "        print('Loading SVR...',LOAD_SVR_FROM_PATH+name)\n",
    "        clf = pickle.load(open(LOAD_SVR_FROM_PATH+name, \"rb\"))\n",
    "\n",
    "    ##################\n",
    "    # TEST PREDICTIONS\n",
    "    test_dataset = PawpularDataset(\n",
    "        image_paths=test_img_paths,\n",
    "        dense_features=df_test[dense_features].values,\n",
    "        targets=np.ones(len(test_img_paths)),\n",
    "        augmentations=test_aug,\n",
    "    )\n",
    "    print('Predicting test...')\n",
    "    test_predictions = model.predict(test_dataset, batch_size=2*args.batch_size, n_jobs=-1)\n",
    "\n",
    "    final_test_predictions = []\n",
    "    embed = np.array([]).reshape((0,128+12))\n",
    "    for preds in test_predictions: #tqdm\n",
    "        final_test_predictions.extend(preds[:,:1].ravel().tolist())\n",
    "        embed = np.concatenate([embed,preds[:,1:]],axis=0)\n",
    "\n",
    "    final_test_predictions = [sigmoid(x) * 100 for x in final_test_predictions]\n",
    "    final_test_predictions2 = clf.predict(embed)\n",
    "    super_final_predictions.append(final_test_predictions)\n",
    "    super_final_predictions2.append(final_test_predictions2)\n",
    "    ##################\n",
    "    \n",
    "    ##################\n",
    "    # OOF PREDICTIONS\n",
    "    valid_dataset = PawpularDataset(\n",
    "        image_paths=valid_img_paths,\n",
    "        dense_features=df_valid[dense_features].values,\n",
    "        targets=df_valid['Pawpularity'].values/100.0,\n",
    "        augmentations=test_aug,\n",
    "    )\n",
    "    print('Predicting oof...')\n",
    "    valid_predictions = model.predict(valid_dataset, batch_size=2*args.batch_size, n_jobs=-1)\n",
    "\n",
    "    final_oof_predictions = []\n",
    "    embed = np.array([]).reshape((0,128+12))\n",
    "    for preds in valid_predictions:\n",
    "        final_oof_predictions.extend(preds[:,:1].ravel().tolist())\n",
    "        embed = np.concatenate([embed,preds[:,1:]],axis=0)\n",
    "\n",
    "    final_oof_predictions = [sigmoid(x) * 100 for x in final_oof_predictions]\n",
    "    final_oof_predictions2 = clf.predict(embed)    \n",
    "    super_final_oof_predictions.append(final_oof_predictions)\n",
    "    super_final_oof_predictions2.append(final_oof_predictions2)\n",
    "    \n",
    "    final_oof_true = df_valid['Pawpularity'].values\n",
    "    super_final_oof_true.append(final_oof_true)\n",
    "    ##################\n",
    "    \n",
    "    ##################\n",
    "    # COMPUTE RSME\n",
    "    rsme = np.sqrt( np.mean( (super_final_oof_true[-1] - np.array(super_final_oof_predictions[-1]))**2.0 ) )\n",
    "    print('NN RSME =',rsme,'\\n')\n",
    "    rsme = np.sqrt( np.mean( (super_final_oof_true[-1] - np.array(super_final_oof_predictions2[-1]))**2.0 ) )\n",
    "    print('SVR RSME =',rsme,'\\n')\n",
    "    \n",
    "    w = 0.5\n",
    "    oof2 = (1-w)*np.array(super_final_oof_predictions[-1]) + w*np.array(super_final_oof_predictions2[-1])\n",
    "    rsme = np.sqrt( np.mean( (super_final_oof_true[-1] - oof2)**2.0 ) )\n",
    "    print('Ensemble RSME =',rsme,'\\n')"
   ]
  },
  {
   "cell_type": "code",
   "execution_count": null,
   "metadata": {
    "execution": {
     "iopub.execute_input": "2021-12-13T04:46:31.622879Z",
     "iopub.status.busy": "2021-12-13T04:46:31.622229Z",
     "iopub.status.idle": "2021-12-13T04:46:31.63655Z",
     "shell.execute_reply": "2021-12-13T04:46:31.635645Z",
     "shell.execute_reply.started": "2021-12-13T04:46:31.62282Z"
    },
    "papermill": {
     "duration": 0.234202,
     "end_time": "2021-10-05T01:39:32.976703",
     "exception": false,
     "start_time": "2021-10-05T01:39:32.742501",
     "status": "completed"
    },
    "tags": []
   },
   "outputs": [],
   "source": [
    "true = np.hstack(super_final_oof_true)\n",
    "\n",
    "oof = np.hstack(super_final_oof_predictions)\n",
    "rsme = np.sqrt( np.mean( (oof - true)**2.0 ))\n",
    "print('Overall CV NN head RSME =',rsme)\n",
    "\n",
    "oof2 = np.hstack(super_final_oof_predictions2)\n",
    "rsme = np.sqrt( np.mean( (oof2 - true)**2.0 ))\n",
    "print('Overall CV SVR head RSME =',rsme)\n",
    "\n",
    "oof3 = (1-w)*oof + w*oof2\n",
    "rsme = np.sqrt( np.mean( (oof3 - true)**2.0 ))\n",
    "print('Overall CV Ensemble heads RSME with 50% NN and 50% SVR =',rsme)"
   ]
  },
  {
   "cell_type": "code",
   "execution_count": null,
   "metadata": {
    "_kg_hide-input": true,
    "execution": {
     "iopub.execute_input": "2021-12-13T04:46:31.638322Z",
     "iopub.status.busy": "2021-12-13T04:46:31.637956Z",
     "iopub.status.idle": "2021-12-13T04:46:31.865336Z",
     "shell.execute_reply": "2021-12-13T04:46:31.864602Z",
     "shell.execute_reply.started": "2021-12-13T04:46:31.638286Z"
    },
    "papermill": {
     "duration": 0.473663,
     "end_time": "2021-10-05T01:39:33.662871",
     "exception": false,
     "start_time": "2021-10-05T01:39:33.189208",
     "status": "completed"
    },
    "tags": []
   },
   "outputs": [],
   "source": [
    "import matplotlib.pyplot as plt\n",
    "\n",
    "score = []\n",
    "for ww in np.arange(0,1.05,0.05):\n",
    "    oof3 = (1-ww)*oof + ww*oof2\n",
    "    rsme = np.sqrt( np.mean( (oof3 - true)**2.0 ))\n",
    "    #print(f'{ww:0.2} CV Ensemble RSME =',rsme)\n",
    "    score.append(rsme)\n",
    "best_w = np.argmin(score)*0.05\n",
    "\n",
    "plt.figure(figsize=(20,5))\n",
    "plt.plot(np.arange(21)/20.0,score,'-o')\n",
    "plt.plot([best_w],np.min(score),'o',color='black',markersize=15)\n",
    "plt.title(f'Best Overall CV RSME={np.min(score):.4} with SVR Ensemble Weight={best_w:.2}',size=16)\n",
    "plt.ylabel('Overall Ensemble RSME',size=14)\n",
    "plt.xlabel('SVR Weight',size=14)\n",
    "plt.show()"
   ]
  },
  {
   "cell_type": "code",
   "execution_count": null,
   "metadata": {
    "execution": {
     "iopub.execute_input": "2021-12-13T04:46:31.867133Z",
     "iopub.status.busy": "2021-12-13T04:46:31.866629Z",
     "iopub.status.idle": "2021-12-13T04:46:31.871747Z",
     "shell.execute_reply": "2021-12-13T04:46:31.870622Z",
     "shell.execute_reply.started": "2021-12-13T04:46:31.867094Z"
    }
   },
   "outputs": [],
   "source": [
    "# FORCE SVR WEIGHT TO LOWER VALUE TO HELP PUBLIC LB\n",
    "best_w = 0.2"
   ]
  },
  {
   "cell_type": "code",
   "execution_count": null,
   "metadata": {
    "execution": {
     "iopub.execute_input": "2021-12-13T04:46:31.873732Z",
     "iopub.status.busy": "2021-12-13T04:46:31.87322Z",
     "iopub.status.idle": "2021-12-13T04:46:31.892031Z",
     "shell.execute_reply": "2021-12-13T04:46:31.891274Z",
     "shell.execute_reply.started": "2021-12-13T04:46:31.873679Z"
    },
    "papermill": {
     "duration": 0.228278,
     "end_time": "2021-10-05T01:39:34.518785",
     "exception": false,
     "start_time": "2021-10-05T01:39:34.290507",
     "status": "completed"
    },
    "tags": []
   },
   "outputs": [],
   "source": [
    "super_final_predictions = np.mean(np.column_stack(super_final_predictions), axis=1)\n",
    "super_final_predictions2 = np.mean(np.column_stack(super_final_predictions2), axis=1)\n",
    "df_test[\"Pawpularity\"] = (1-best_w)*super_final_predictions + best_w*super_final_predictions2\n",
    "df_test = df_test[[\"Id\", \"Pawpularity\"]]\n",
    "df_test.to_csv(\"submission.csv\", index=False)\n",
    "df_test.head()"
   ]
  }
 ],
 "metadata": {
  "kernelspec": {
   "display_name": "Python 3 (ipykernel)",
   "language": "python",
   "name": "python3"
  },
  "language_info": {
   "codemirror_mode": {
    "name": "ipython",
    "version": 3
   },
   "file_extension": ".py",
   "mimetype": "text/x-python",
   "name": "python",
   "nbconvert_exporter": "python",
   "pygments_lexer": "ipython3",
   "version": "3.9.0"
  }
 },
 "nbformat": 4,
 "nbformat_minor": 4
}
