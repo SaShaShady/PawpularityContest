{
 "cells": [
  {
   "cell_type": "code",
   "execution_count": null,
   "id": "fbccc290",
   "metadata": {
    "_kg_hide-input": true,
    "_kg_hide-output": true,
    "execution": {
     "iopub.execute_input": "2021-10-17T01:53:52.851316Z",
     "iopub.status.busy": "2021-10-17T01:53:52.850410Z",
     "iopub.status.idle": "2021-10-17T01:54:46.774139Z",
     "shell.execute_reply": "2021-10-17T01:54:46.773034Z",
     "shell.execute_reply.started": "2021-10-16T09:47:54.620861Z"
    },
    "papermill": {
     "duration": 53.954074,
     "end_time": "2021-10-17T01:54:46.774323",
     "exception": false,
     "start_time": "2021-10-17T01:53:52.820249",
     "status": "completed"
    },
    "tags": []
   },
   "outputs": [],
   "source": [
    "%%capture\n",
    "\n",
    "# https://www.kaggle.com/bguberfain/openai-clip-with-train/notebook\n",
    "\n",
    "import sys\n",
    "!cp -r ../input/openai-clip/CLIP/CLIP-main /tmp/\n",
    "\n",
    "# Kaggle likes to unpack .gz files in datasets... so we have to pack it back\n",
    "!gzip -c /tmp/CLIP-main/clip/bpe_simple_vocab_16e6.txt > /tmp/CLIP-main/clip/bpe_simple_vocab_16e6.txt.gz\n",
    "sys.path.append('/tmp/CLIP-main')\n",
    "\n",
    "!pip install ../input/openai-clip/ftfy-5.9/ftfy-5.9\n",
    "!pip install ../input/openai-clip/torch-1.7.1+cu110-cp37-cp37m-linux_x86_64.whl \\\n",
    "             ../input/openai-clip/torchvision-0.8.2+cu110-cp37-cp37m-linux_x86_64.whl \\\n",
    "             ../input/faiss-163/faiss_gpu-1.6.3-cp37-cp37m-manylinux2010_x86_64.whl"
   ]
  },
  {
   "cell_type": "code",
   "execution_count": null,
   "id": "b34138ae",
   "metadata": {
    "execution": {
     "iopub.execute_input": "2021-10-17T01:54:46.822062Z",
     "iopub.status.busy": "2021-10-17T01:54:46.821142Z",
     "iopub.status.idle": "2021-10-17T01:54:49.471059Z",
     "shell.execute_reply": "2021-10-17T01:54:49.471490Z",
     "shell.execute_reply.started": "2021-10-16T09:48:48.315729Z"
    },
    "papermill": {
     "duration": 2.676611,
     "end_time": "2021-10-17T01:54:49.471640",
     "exception": false,
     "start_time": "2021-10-17T01:54:46.795029",
     "status": "completed"
    },
    "tags": []
   },
   "outputs": [],
   "source": [
    "import torch\n",
    "import torch.nn as nn\n",
    "from torch.utils.data import Dataset, DataLoader\n",
    "from pathlib import Path\n",
    "from os.path import join\n",
    "import numpy as np\n",
    "import pandas as pd\n",
    "import clip, os, skimage\n",
    "import matplotlib.pyplot as plt\n",
    "import seaborn as sns\n",
    "from PIL import Image\n",
    "from tqdm import tqdm\n",
    "\n",
    "clip.available_models()"
   ]
  },
  {
   "cell_type": "code",
   "execution_count": null,
   "id": "6489704f",
   "metadata": {
    "execution": {
     "iopub.execute_input": "2021-10-17T01:54:49.516028Z",
     "iopub.status.busy": "2021-10-17T01:54:49.515498Z",
     "iopub.status.idle": "2021-10-17T01:54:59.409947Z",
     "shell.execute_reply": "2021-10-17T01:54:59.410369Z",
     "shell.execute_reply.started": "2021-10-16T09:48:51.454124Z"
    },
    "papermill": {
     "duration": 9.919264,
     "end_time": "2021-10-17T01:54:59.410543",
     "exception": false,
     "start_time": "2021-10-17T01:54:49.491279",
     "status": "completed"
    },
    "tags": []
   },
   "outputs": [],
   "source": [
    "model, preprocess = clip.load(\"../input/openai-clip/ViT-B-32.pt\", jit=False)\n",
    "model = model.cuda().eval()\n",
    "input_resolution = model.visual.input_resolution\n",
    "context_length = model.context_length\n",
    "vocab_size = model.vocab_size\n",
    "\n",
    "print(\"Model parameters:\", f\"{np.sum([int(np.prod(p.shape)) for p in model.parameters()]):,}\")\n",
    "print(\"Input resolution:\", input_resolution)\n",
    "print(\"Context length:\", context_length)\n",
    "print(\"Vocab size:\", vocab_size)"
   ]
  },
  {
   "cell_type": "code",
   "execution_count": null,
   "id": "6012007a",
   "metadata": {
    "execution": {
     "iopub.execute_input": "2021-10-17T01:54:59.496116Z",
     "iopub.status.busy": "2021-10-17T01:54:59.495610Z",
     "iopub.status.idle": "2021-10-17T01:54:59.713432Z",
     "shell.execute_reply": "2021-10-17T01:54:59.712999Z",
     "shell.execute_reply.started": "2021-10-16T09:49:00.900838Z"
    },
    "papermill": {
     "duration": 0.241771,
     "end_time": "2021-10-17T01:54:59.713588",
     "exception": false,
     "start_time": "2021-10-17T01:54:59.471817",
     "status": "completed"
    },
    "tags": []
   },
   "outputs": [],
   "source": [
    "train_image_path = Path(\"../input/petfinder-pawpularity-score/train\")\n",
    "file_names = [f.name for f in train_image_path.iterdir() if f.suffix == \".jpg\"]"
   ]
  },
  {
   "cell_type": "code",
   "execution_count": null,
   "id": "5f37b6c5",
   "metadata": {
    "execution": {
     "iopub.execute_input": "2021-10-17T01:54:59.760620Z",
     "iopub.status.busy": "2021-10-17T01:54:59.759946Z",
     "iopub.status.idle": "2021-10-17T01:55:01.367762Z",
     "shell.execute_reply": "2021-10-17T01:55:01.368547Z",
     "shell.execute_reply.started": "2021-10-16T09:49:01.099115Z"
    },
    "papermill": {
     "duration": 1.634966,
     "end_time": "2021-10-17T01:55:01.368783",
     "exception": false,
     "start_time": "2021-10-17T01:54:59.733817",
     "status": "completed"
    },
    "tags": []
   },
   "outputs": [],
   "source": [
    "original_images = []\n",
    "images = []\n",
    "plt.figure(figsize=(15, 12))\n",
    "\n",
    "for filename in file_names[:9]:\n",
    "    image = Image.open(join(train_image_path, filename))\n",
    "  \n",
    "    plt.subplot(3, 3, len(images) + 1)\n",
    "    plt.imshow(image)\n",
    "    plt.xticks([])\n",
    "    plt.yticks([])\n",
    "\n",
    "    original_images.append(image)\n",
    "    images.append(preprocess(image))"
   ]
  },
  {
   "cell_type": "code",
   "execution_count": null,
   "id": "9fae24d6",
   "metadata": {
    "execution": {
     "iopub.execute_input": "2021-10-17T01:55:01.610268Z",
     "iopub.status.busy": "2021-10-17T01:55:01.609387Z",
     "iopub.status.idle": "2021-10-17T01:55:01.611689Z",
     "shell.execute_reply": "2021-10-17T01:55:01.611014Z",
     "shell.execute_reply.started": "2021-10-16T09:49:02.700622Z"
    },
    "papermill": {
     "duration": 0.067422,
     "end_time": "2021-10-17T01:55:01.611840",
     "exception": false,
     "start_time": "2021-10-17T01:55:01.544418",
     "status": "completed"
    },
    "tags": []
   },
   "outputs": [],
   "source": [
    "texts = ['Cute',\n",
    "         'Funny',\n",
    "         'Derp', # let's see if this works\n",
    "         'Small',\n",
    "         'Happy',\n",
    "         'Sad',\n",
    "         'Aggressive',\n",
    "         'Friendly',\n",
    "         'Old',\n",
    "         'Young',\n",
    "         'Love']"
   ]
  },
  {
   "cell_type": "code",
   "execution_count": null,
   "id": "2fa0bbca",
   "metadata": {
    "execution": {
     "iopub.execute_input": "2021-10-17T01:55:01.738113Z",
     "iopub.status.busy": "2021-10-17T01:55:01.734303Z",
     "iopub.status.idle": "2021-10-17T01:55:01.743321Z",
     "shell.execute_reply": "2021-10-17T01:55:01.743964Z",
     "shell.execute_reply.started": "2021-10-16T09:49:02.70725Z"
    },
    "papermill": {
     "duration": 0.073247,
     "end_time": "2021-10-17T01:55:01.744138",
     "exception": false,
     "start_time": "2021-10-17T01:55:01.670891",
     "status": "completed"
    },
    "tags": []
   },
   "outputs": [],
   "source": [
    "image_input = torch.tensor(np.stack(images)).cuda()\n",
    "text_tokens = clip.tokenize(texts).cuda()\n",
    "\n",
    "# text_tokens = clip.tokenize([f\"A {w} photo of a\" + w for w in texts]).cuda()"
   ]
  },
  {
   "cell_type": "code",
   "execution_count": null,
   "id": "5a2f1c95",
   "metadata": {
    "execution": {
     "iopub.execute_input": "2021-10-17T01:55:01.863821Z",
     "iopub.status.busy": "2021-10-17T01:55:01.862973Z",
     "iopub.status.idle": "2021-10-17T01:55:07.243781Z",
     "shell.execute_reply": "2021-10-17T01:55:07.243286Z",
     "shell.execute_reply.started": "2021-10-16T09:49:02.727177Z"
    },
    "papermill": {
     "duration": 5.4404,
     "end_time": "2021-10-17T01:55:07.243916",
     "exception": false,
     "start_time": "2021-10-17T01:55:01.803516",
     "status": "completed"
    },
    "tags": []
   },
   "outputs": [],
   "source": [
    "with torch.no_grad():\n",
    "    image_features = model.encode_image(image_input).float()\n",
    "    text_features = model.encode_text(text_tokens).float()\n",
    "\n",
    "image_features /= image_features.norm(dim=-1, keepdim=True)\n",
    "text_features /= text_features.norm(dim=-1, keepdim=True)\n",
    "\n",
    "similarity_matrix = torch.inner(text_features, image_features).cpu()"
   ]
  },
  {
   "cell_type": "code",
   "execution_count": null,
   "id": "3f47717f",
   "metadata": {
    "execution": {
     "iopub.execute_input": "2021-10-17T01:55:07.329274Z",
     "iopub.status.busy": "2021-10-17T01:55:07.322868Z",
     "iopub.status.idle": "2021-10-17T01:55:08.466262Z",
     "shell.execute_reply": "2021-10-17T01:55:08.465780Z",
     "shell.execute_reply.started": "2021-10-16T09:49:08.18544Z"
    },
    "papermill": {
     "duration": 1.186467,
     "end_time": "2021-10-17T01:55:08.466391",
     "exception": false,
     "start_time": "2021-10-17T01:55:07.279924",
     "status": "completed"
    },
    "tags": []
   },
   "outputs": [],
   "source": [
    "count = len(texts)\n",
    "\n",
    "plt.figure(figsize=(20, 16))\n",
    "plt.imshow(similarity_matrix, vmin=0.1, vmax=0.3, cmap = 'RdBu')\n",
    "\n",
    "plt.yticks(range(count), texts, fontsize=18)\n",
    "plt.xticks([])\n",
    "\n",
    "for i, image in enumerate(original_images):\n",
    "    plt.imshow(image, extent=(i - 0.5, i + 0.5, -1.6, -0.6), origin=\"lower\")\n",
    "for x in range(similarity_matrix.shape[1]):\n",
    "    for y in range(similarity_matrix.shape[0]):\n",
    "        plt.text(x, y, f\"{similarity_matrix[y, x]:.2f}\", ha=\"center\", va=\"center\", size=12)\n",
    "\n",
    "for side in [\"left\", \"top\", \"right\", \"bottom\"]:\n",
    "    plt.gca().spines[side].set_visible(False)\n",
    "\n",
    "plt.xlim([-0.5, count - 0.5])\n",
    "plt.ylim([count + 0.5, -2])\n",
    "\n",
    "plt.title(\"Cosine similarity matrix between text and image features\", size=20, loc='left')\n",
    "plt.show()"
   ]
  },
  {
   "cell_type": "code",
   "execution_count": null,
   "id": "cdafd48d",
   "metadata": {
    "execution": {
     "iopub.execute_input": "2021-10-17T01:55:08.634683Z",
     "iopub.status.busy": "2021-10-17T01:55:08.633925Z",
     "iopub.status.idle": "2021-10-17T01:55:08.636713Z",
     "shell.execute_reply": "2021-10-17T01:55:08.636253Z",
     "shell.execute_reply.started": "2021-10-16T09:49:09.311935Z"
    },
    "papermill": {
     "duration": 0.050395,
     "end_time": "2021-10-17T01:55:08.636846",
     "exception": false,
     "start_time": "2021-10-17T01:55:08.586451",
     "status": "completed"
    },
    "tags": []
   },
   "outputs": [],
   "source": [
    "class PetDataset(Dataset):\n",
    "    def __init__(self, path):\n",
    "        self.path = path\n",
    "        self.files = [f for f in path.iterdir() if f.suffix == \".jpg\"]\n",
    "\n",
    "    def __len__(self):\n",
    "        return len(self.files)\n",
    "\n",
    "    def __getitem__(self, idx):\n",
    "        _im_path = self.files[idx]\n",
    "        _img = Image.open(_im_path)\n",
    "        _img = preprocess(_img)\n",
    "        return _img, _im_path.name.split('.')[0]"
   ]
  },
  {
   "cell_type": "code",
   "execution_count": null,
   "id": "f20ad954",
   "metadata": {
    "execution": {
     "iopub.execute_input": "2021-10-17T01:55:08.722357Z",
     "iopub.status.busy": "2021-10-17T01:55:08.721663Z",
     "iopub.status.idle": "2021-10-17T01:55:08.723838Z",
     "shell.execute_reply": "2021-10-17T01:55:08.724281Z",
     "shell.execute_reply.started": "2021-10-16T09:49:09.321049Z"
    },
    "papermill": {
     "duration": 0.048275,
     "end_time": "2021-10-17T01:55:08.724446",
     "exception": false,
     "start_time": "2021-10-17T01:55:08.676171",
     "status": "completed"
    },
    "tags": []
   },
   "outputs": [],
   "source": [
    "def create_similarity_features(dl):\n",
    "    features = []\n",
    "    names = []\n",
    "    with torch.no_grad():\n",
    "        for xb, name in dl:\n",
    "            xb = xb.cuda()\n",
    "            xb = model.encode_image(xb)\n",
    "            xb /= xb.norm(dim=-1, keepdim=True)\n",
    "            sim_matrix = torch.inner(text_features, xb.float()).cpu().numpy()\n",
    "            features.append(sim_matrix)\n",
    "            names.append(name)\n",
    "    return features, names"
   ]
  },
  {
   "cell_type": "code",
   "execution_count": null,
   "id": "2f5c7ee3",
   "metadata": {
    "execution": {
     "iopub.execute_input": "2021-10-17T01:55:08.807605Z",
     "iopub.status.busy": "2021-10-17T01:55:08.807076Z",
     "iopub.status.idle": "2021-10-17T01:59:08.156292Z",
     "shell.execute_reply": "2021-10-17T01:59:08.155732Z",
     "shell.execute_reply.started": "2021-10-16T09:49:09.331694Z"
    },
    "papermill": {
     "duration": 239.392549,
     "end_time": "2021-10-17T01:59:08.156520",
     "exception": false,
     "start_time": "2021-10-17T01:55:08.763971",
     "status": "completed"
    },
    "tags": []
   },
   "outputs": [],
   "source": [
    "ds = PetDataset(train_image_path)\n",
    "dl = DataLoader(ds, batch_size = 400, shuffle=False)\n",
    "train_features, train_names = create_similarity_features(dl)"
   ]
  },
  {
   "cell_type": "code",
   "execution_count": null,
   "id": "10475079",
   "metadata": {
    "execution": {
     "iopub.execute_input": "2021-10-17T01:59:08.247285Z",
     "iopub.status.busy": "2021-10-17T01:59:08.246411Z",
     "iopub.status.idle": "2021-10-17T01:59:09.125829Z",
     "shell.execute_reply": "2021-10-17T01:59:09.126437Z",
     "shell.execute_reply.started": "2021-10-16T09:53:04.149911Z"
    },
    "papermill": {
     "duration": 0.924241,
     "end_time": "2021-10-17T01:59:09.126601",
     "exception": false,
     "start_time": "2021-10-17T01:59:08.202360",
     "status": "completed"
    },
    "tags": []
   },
   "outputs": [],
   "source": [
    "train_features_df = pd.DataFrame(np.hstack(train_features).T,\n",
    "                           index = np.hstack(train_names).T,\n",
    "                           columns = texts)\n",
    "df_corr = train_features_df.corr()\n",
    "plt.figure(figsize=(13,8))\n",
    "\n",
    "plt.title(\"Correlation matrix between engineered features\", size=20, loc='left') \n",
    "sns.heatmap(df_corr, cmap='RdBu', annot=True, linewidths=2)"
   ]
  },
  {
   "cell_type": "code",
   "execution_count": null,
   "id": "976ec44f",
   "metadata": {
    "execution": {
     "iopub.execute_input": "2021-10-17T01:59:09.214372Z",
     "iopub.status.busy": "2021-10-17T01:59:09.213628Z",
     "iopub.status.idle": "2021-10-17T01:59:09.357267Z",
     "shell.execute_reply": "2021-10-17T01:59:09.356792Z",
     "shell.execute_reply.started": "2021-10-16T09:53:05.036241Z"
    },
    "papermill": {
     "duration": 0.18906,
     "end_time": "2021-10-17T01:59:09.357393",
     "exception": false,
     "start_time": "2021-10-17T01:59:09.168333",
     "status": "completed"
    },
    "tags": []
   },
   "outputs": [],
   "source": [
    "# saving training features for later use\n",
    "train_features_df.to_csv('clip_features.csv')"
   ]
  },
  {
   "cell_type": "markdown",
   "id": "7a7694d0",
   "metadata": {
    "papermill": {
     "duration": 0.041427,
     "end_time": "2021-10-17T01:59:09.440619",
     "exception": false,
     "start_time": "2021-10-17T01:59:09.399192",
     "status": "completed"
    },
    "tags": []
   },
   "source": [
    "---"
   ]
  },
  {
   "cell_type": "code",
   "execution_count": null,
   "id": "6b8f1121",
   "metadata": {
    "execution": {
     "iopub.execute_input": "2021-10-17T01:59:09.612097Z",
     "iopub.status.busy": "2021-10-17T01:59:09.611514Z",
     "iopub.status.idle": "2021-10-17T01:59:10.445611Z",
     "shell.execute_reply": "2021-10-17T01:59:10.444677Z",
     "shell.execute_reply.started": "2021-10-16T09:53:05.185566Z"
    },
    "papermill": {
     "duration": 0.88043,
     "end_time": "2021-10-17T01:59:10.445772",
     "exception": false,
     "start_time": "2021-10-17T01:59:09.565342",
     "status": "completed"
    },
    "tags": []
   },
   "outputs": [],
   "source": [
    "from sklearn.metrics import mean_squared_error\n",
    "from xgboost import XGBRegressor\n",
    "import optuna\n",
    "from functools import partial"
   ]
  },
  {
   "cell_type": "code",
   "execution_count": null,
   "id": "af3c2005",
   "metadata": {
    "execution": {
     "iopub.execute_input": "2021-10-17T01:59:10.539979Z",
     "iopub.status.busy": "2021-10-17T01:59:10.538384Z",
     "iopub.status.idle": "2021-10-17T01:59:10.540583Z",
     "shell.execute_reply": "2021-10-17T01:59:10.540998Z",
     "shell.execute_reply.started": "2021-10-16T09:53:06.047852Z"
    },
    "papermill": {
     "duration": 0.05359,
     "end_time": "2021-10-17T01:59:10.541126",
     "exception": false,
     "start_time": "2021-10-17T01:59:10.487536",
     "status": "completed"
    },
    "tags": []
   },
   "outputs": [],
   "source": [
    "def run(trial, fold, df, useful_features):\n",
    "    learning_rate = trial.suggest_float(\"learning_rate\", 1e-2, 0.25, log=True)\n",
    "    reg_lambda = trial.suggest_loguniform(\"reg_lambda\", 1e-8, 100.0)\n",
    "    reg_alpha = trial.suggest_loguniform(\"reg_alpha\", 1e-8, 100.0)\n",
    "    subsample = trial.suggest_float(\"subsample\", 0.1, 1.0)\n",
    "    colsample_bytree = trial.suggest_float(\"colsample_bytree\", 0.1, 1.0)\n",
    "    max_depth = trial.suggest_int(\"max_depth\", 1, 7)\n",
    "    \n",
    "    xtrain = df[df.kfold != fold].reset_index(drop=True)\n",
    "    xvalid = df[df.kfold == fold].reset_index(drop=True)\n",
    "\n",
    "    ytrain = xtrain.Pawpularity\n",
    "    yvalid = xvalid.Pawpularity\n",
    "\n",
    "    xtrain = xtrain[useful_features]\n",
    "    xvalid = xvalid[useful_features]\n",
    "\n",
    "    model = XGBRegressor(\n",
    "        random_state=42,\n",
    "        tree_method=\"gpu_hist\",\n",
    "        gpu_id=1,\n",
    "        n_estimators=10000,\n",
    "        predictor=\"gpu_predictor\",\n",
    "        learning_rate=learning_rate,\n",
    "        reg_lambda=reg_lambda,\n",
    "        reg_alpha=reg_alpha,\n",
    "        subsample=subsample,\n",
    "        colsample_bytree=colsample_bytree,\n",
    "        max_depth=max_depth,\n",
    "    )\n",
    "    model.fit(xtrain, ytrain, early_stopping_rounds=300, eval_set=[(xvalid, yvalid)], verbose=1000)\n",
    "    preds_valid = model.predict(xvalid)\n",
    "    rmse = mean_squared_error(yvalid, preds_valid, squared=False)\n",
    "    return rmse"
   ]
  },
  {
   "cell_type": "code",
   "execution_count": null,
   "id": "47a2d779",
   "metadata": {
    "execution": {
     "iopub.execute_input": "2021-10-17T01:59:10.628808Z",
     "iopub.status.busy": "2021-10-17T01:59:10.628261Z",
     "iopub.status.idle": "2021-10-17T01:59:10.669771Z",
     "shell.execute_reply": "2021-10-17T01:59:10.669305Z",
     "shell.execute_reply.started": "2021-10-16T09:53:06.063395Z"
    },
    "papermill": {
     "duration": 0.08753,
     "end_time": "2021-10-17T01:59:10.669890",
     "exception": false,
     "start_time": "2021-10-17T01:59:10.582360",
     "status": "completed"
    },
    "tags": []
   },
   "outputs": [],
   "source": [
    "train_df = pd.read_csv(\"../input/same-old-creating-folds/train_10folds.csv\")\n",
    "test_df = pd.read_csv(\"../input/petfinder-pawpularity-score/test.csv\")\n",
    "sample_submission = pd.read_csv(\"../input/petfinder-pawpularity-score/sample_submission.csv\")\n",
    "test_image_path = train_image_path = Path(\"../input/petfinder-pawpularity-score/test\")\n",
    "\n",
    "useful_features = [\n",
    "    'Subject Focus', 'Eyes', 'Face', 'Near', 'Action', 'Accessory',\n",
    "    'Group', 'Collage', 'Human', 'Occlusion', 'Info', 'Blur',\n",
    "    'Cute', 'Funny', 'Derp', 'Small', 'Happy', 'Sad', 'Aggressive',\n",
    "    'Friendly', 'Old', 'Young', 'Love']"
   ]
  },
  {
   "cell_type": "code",
   "execution_count": null,
   "id": "3916a7fd",
   "metadata": {
    "execution": {
     "iopub.execute_input": "2021-10-17T01:59:10.758512Z",
     "iopub.status.busy": "2021-10-17T01:59:10.757950Z",
     "iopub.status.idle": "2021-10-17T01:59:10.831992Z",
     "shell.execute_reply": "2021-10-17T01:59:10.831070Z",
     "shell.execute_reply.started": "2021-10-16T09:53:06.106744Z"
    },
    "papermill": {
     "duration": 0.120802,
     "end_time": "2021-10-17T01:59:10.832134",
     "exception": false,
     "start_time": "2021-10-17T01:59:10.711332",
     "status": "completed"
    },
    "tags": []
   },
   "outputs": [],
   "source": [
    "ds = PetDataset(test_image_path)\n",
    "dl = DataLoader(ds, batch_size = 400, shuffle=False)\n",
    "test_features, test_names = create_similarity_features(dl)\n",
    "\n",
    "test_features_df = pd.DataFrame(np.hstack(test_features).T,\n",
    "                                index = np.hstack(test_names).T,\n",
    "                                columns = texts)"
   ]
  },
  {
   "cell_type": "code",
   "execution_count": null,
   "id": "72620ab8",
   "metadata": {
    "execution": {
     "iopub.execute_input": "2021-10-17T01:59:10.931352Z",
     "iopub.status.busy": "2021-10-17T01:59:10.930694Z",
     "iopub.status.idle": "2021-10-17T01:59:10.938590Z",
     "shell.execute_reply": "2021-10-17T01:59:10.938135Z",
     "shell.execute_reply.started": "2021-10-16T09:53:06.177718Z"
    },
    "papermill": {
     "duration": 0.064122,
     "end_time": "2021-10-17T01:59:10.938713",
     "exception": false,
     "start_time": "2021-10-17T01:59:10.874591",
     "status": "completed"
    },
    "tags": []
   },
   "outputs": [],
   "source": [
    "train_df = train_df.join(train_features_df, on = 'Id')\n",
    "test_df = test_df.join(test_features_df, on = 'Id')"
   ]
  },
  {
   "cell_type": "code",
   "execution_count": null,
   "id": "71bbf8c3",
   "metadata": {
    "_kg_hide-output": true,
    "execution": {
     "iopub.execute_input": "2021-10-17T01:59:11.026762Z",
     "iopub.status.busy": "2021-10-17T01:59:11.025958Z",
     "iopub.status.idle": "2021-10-17T02:03:05.623061Z",
     "shell.execute_reply": "2021-10-17T02:03:05.623809Z",
     "shell.execute_reply.started": "2021-10-16T09:53:06.199499Z"
    },
    "papermill": {
     "duration": 234.644321,
     "end_time": "2021-10-17T02:03:05.624154",
     "exception": false,
     "start_time": "2021-10-17T01:59:10.979833",
     "status": "completed"
    },
    "tags": []
   },
   "outputs": [],
   "source": [
    "opt_fun = partial(\n",
    "    run,\n",
    "    fold=0,\n",
    "    df=train_df,\n",
    "    useful_features=useful_features,\n",
    ")\n",
    "\n",
    "study = optuna.create_study(direction=\"minimize\")\n",
    "study.optimize(opt_fun, n_trials=200)\n",
    "print(study.best_params)"
   ]
  },
  {
   "cell_type": "code",
   "execution_count": null,
   "id": "d2adf47c",
   "metadata": {
    "execution": {
     "iopub.execute_input": "2021-10-17T02:03:06.206521Z",
     "iopub.status.busy": "2021-10-17T02:03:06.205773Z",
     "iopub.status.idle": "2021-10-17T02:03:06.208673Z",
     "shell.execute_reply": "2021-10-17T02:03:06.209175Z",
     "shell.execute_reply.started": "2021-10-16T09:56:31.908896Z"
    },
    "papermill": {
     "duration": 0.236393,
     "end_time": "2021-10-17T02:03:06.209326",
     "exception": false,
     "start_time": "2021-10-17T02:03:05.972933",
     "status": "completed"
    },
    "tags": []
   },
   "outputs": [],
   "source": [
    "study.best_value, study.best_params"
   ]
  },
  {
   "cell_type": "code",
   "execution_count": null,
   "id": "70401a0f",
   "metadata": {
    "execution": {
     "iopub.execute_input": "2021-10-17T02:03:06.670748Z",
     "iopub.status.busy": "2021-10-17T02:03:06.670139Z",
     "iopub.status.idle": "2021-10-17T02:03:06.674059Z",
     "shell.execute_reply": "2021-10-17T02:03:06.673535Z",
     "shell.execute_reply.started": "2021-10-16T09:56:22.095473Z"
    },
    "papermill": {
     "duration": 0.237934,
     "end_time": "2021-10-17T02:03:06.674187",
     "exception": false,
     "start_time": "2021-10-17T02:03:06.436253",
     "status": "completed"
    },
    "tags": []
   },
   "outputs": [],
   "source": [
    "def generate_predictions(params, fold, df, df_test, useful_features):    \n",
    "    xtrain = df[df.kfold != fold].reset_index(drop=True)\n",
    "    xvalid = df[df.kfold == fold].reset_index(drop=True)\n",
    "    xtest = df_test.copy()\n",
    "\n",
    "    ytrain = xtrain.Pawpularity\n",
    "    yvalid = xvalid.Pawpularity\n",
    "\n",
    "    xtrain = xtrain[useful_features]\n",
    "    xvalid = xvalid[useful_features]\n",
    "    xtest = xtest[useful_features]\n",
    "\n",
    "    model = XGBRegressor(\n",
    "        random_state=42,\n",
    "        tree_method=\"gpu_hist\",\n",
    "        gpu_id=1,\n",
    "        n_estimators=10000,\n",
    "        predictor=\"gpu_predictor\",\n",
    "        **params,\n",
    "    )\n",
    "    model.fit(xtrain, ytrain, early_stopping_rounds=300, eval_set=[(xvalid, yvalid)], verbose=1000)\n",
    "    preds_valid = model.predict(xvalid)\n",
    "    test_preds = model.predict(xtest)\n",
    "    rmse = mean_squared_error(yvalid, preds_valid, squared=False)\n",
    "    print(rmse)\n",
    "    return test_preds"
   ]
  },
  {
   "cell_type": "code",
   "execution_count": null,
   "id": "9531abe6",
   "metadata": {
    "execution": {
     "iopub.execute_input": "2021-10-17T02:03:07.134377Z",
     "iopub.status.busy": "2021-10-17T02:03:07.132988Z",
     "iopub.status.idle": "2021-10-17T02:03:13.561188Z",
     "shell.execute_reply": "2021-10-17T02:03:13.561756Z",
     "shell.execute_reply.started": "2021-10-16T09:56:22.10872Z"
    },
    "papermill": {
     "duration": 6.661488,
     "end_time": "2021-10-17T02:03:13.561955",
     "exception": false,
     "start_time": "2021-10-17T02:03:06.900467",
     "status": "completed"
    },
    "tags": []
   },
   "outputs": [],
   "source": [
    "final_predictions = []\n",
    "for fold_ in range(10):\n",
    "    final_predictions.append(\n",
    "        generate_predictions(\n",
    "            study.best_params,\n",
    "            fold=fold_,\n",
    "            df=train_df,\n",
    "            df_test=test_df,\n",
    "            useful_features=useful_features,\n",
    "        )\n",
    "    )"
   ]
  },
  {
   "cell_type": "code",
   "execution_count": null,
   "id": "344a1917",
   "metadata": {
    "execution": {
     "iopub.execute_input": "2021-10-17T02:03:14.017120Z",
     "iopub.status.busy": "2021-10-17T02:03:14.016412Z",
     "iopub.status.idle": "2021-10-17T02:03:14.019110Z",
     "shell.execute_reply": "2021-10-17T02:03:14.019504Z",
     "shell.execute_reply.started": "2021-10-16T09:56:31.888539Z"
    },
    "papermill": {
     "duration": 0.231949,
     "end_time": "2021-10-17T02:03:14.019643",
     "exception": false,
     "start_time": "2021-10-17T02:03:13.787694",
     "status": "completed"
    },
    "tags": []
   },
   "outputs": [],
   "source": [
    "final_predictions = np.mean(np.column_stack(final_predictions), axis=1)\n",
    "sample_submission.Pawpularity = final_predictions\n",
    "sample_submission.to_csv(\"submission.csv\", index=False)"
   ]
  }
 ],
 "metadata": {
  "kernelspec": {
   "display_name": "Python 3 (ipykernel)",
   "language": "python",
   "name": "python3"
  },
  "language_info": {
   "codemirror_mode": {
    "name": "ipython",
    "version": 3
   },
   "file_extension": ".py",
   "mimetype": "text/x-python",
   "name": "python",
   "nbconvert_exporter": "python",
   "pygments_lexer": "ipython3",
   "version": "3.9.0"
  },
  "papermill": {
   "default_parameters": {},
   "duration": 570.473328,
   "end_time": "2021-10-17T02:03:15.757284",
   "environment_variables": {},
   "exception": null,
   "input_path": "__notebook__.ipynb",
   "output_path": "__notebook__.ipynb",
   "parameters": {},
   "start_time": "2021-10-17T01:53:45.283956",
   "version": "2.3.3"
  }
 },
 "nbformat": 4,
 "nbformat_minor": 5
}
