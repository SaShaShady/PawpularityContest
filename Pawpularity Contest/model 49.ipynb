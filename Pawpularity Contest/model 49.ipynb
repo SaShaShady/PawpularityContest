{
 "cells": [
  {
   "cell_type": "code",
   "execution_count": 34,
   "metadata": {
    "execution": {
     "iopub.execute_input": "2021-12-13T01:50:05.334367Z",
     "iopub.status.busy": "2021-12-13T01:50:05.334093Z",
     "iopub.status.idle": "2021-12-13T01:50:05.344564Z",
     "shell.execute_reply": "2021-12-13T01:50:05.343704Z",
     "shell.execute_reply.started": "2021-12-13T01:50:05.334337Z"
    },
    "scrolled": true
   },
   "outputs": [],
   "source": [
    "import os\n",
    "import cv2\n",
    "import time\n",
    "import json\n",
    "import random\n",
    "import warnings\n",
    "import numpy as np\n",
    "import pandas as pd\n",
    "import seaborn as sns\n",
    "import plotly.express as px\n",
    "import plotly.graph_objs as go\n",
    "import matplotlib.pyplot as plt\n",
    "\n",
    "\n",
    "from PIL import Image\n",
    "from enum import Enum\n",
    "from glob import glob\n",
    "from tqdm import trange\n",
    "from pprint import pprint\n",
    "from colorama import Fore\n",
    "from tqdm import tqdm_notebook\n",
    "from sklearn.utils import shuffle\n",
    "from IPython.display import display\n",
    "\n",
    "\n",
    "from sklearn.metrics import *\n",
    "from sklearn.preprocessing import *\n",
    "from sklearn.model_selection import *\n",
    "\n",
    "\n",
    "# Neural Network Models\n",
    "import tensorflow as tf\n",
    "from tensorflow import keras\n",
    "from tensorflow.keras import layers\n",
    "from tensorflow.keras import backend as K\n",
    "from tensorflow.keras.models import Sequential\n",
    "from tensorflow.keras.optimizers.schedules import ExponentialDecay\n",
    "from tensorflow.keras.layers import Input, Concatenate, BatchNormalization\n",
    "from tensorflow.keras.layers import Dense, Activation, Flatten, Conv2D, Dropout\n",
    "\n",
    "\n",
    "# Regression Models\n",
    "from xgboost import XGBRegressor\n",
    "from lightgbm import LGBMRegressor\n",
    "from catboost import CatBoostRegressor\n",
    "from sklearn.tree import DecisionTreeRegressor\n",
    "from sklearn.neighbors import KNeighborsRegressor\n",
    "from sklearn.gaussian_process import GaussianProcessRegressor\n",
    "from sklearn.linear_model import LinearRegression, Ridge, ElasticNet\n",
    "from sklearn.ensemble import ExtraTreesRegressor, RandomForestRegressor,VotingRegressor, AdaBoostRegressor, GradientBoostingRegressor, BaggingRegressor\n",
    "\n",
    "warnings.filterwarnings(\"ignore\")\n",
    "AUTOTUNE = tf.data.experimental.AUTOTUNE"
   ]
  },
  {
   "cell_type": "code",
   "execution_count": 35,
   "metadata": {
    "execution": {
     "iopub.execute_input": "2021-12-13T01:50:05.346604Z",
     "iopub.status.busy": "2021-12-13T01:50:05.346209Z",
     "iopub.status.idle": "2021-12-13T01:50:05.363477Z",
     "shell.execute_reply": "2021-12-13T01:50:05.362552Z",
     "shell.execute_reply.started": "2021-12-13T01:50:05.346571Z"
    }
   },
   "outputs": [],
   "source": [
    "# Set random seed to enable re-production\n",
    "\n",
    "def set_random():\n",
    "    np.random.seed(100)\n",
    "    random.seed(100)\n",
    "    tf.random.set_seed(100)\n",
    "    os.environ['PYTHONHASHSEED'] = '100'"
   ]
  },
  {
   "cell_type": "code",
   "execution_count": 36,
   "metadata": {
    "execution": {
     "iopub.execute_input": "2021-12-13T01:50:05.365079Z",
     "iopub.status.busy": "2021-12-13T01:50:05.364680Z",
     "iopub.status.idle": "2021-12-13T01:50:05.378107Z",
     "shell.execute_reply": "2021-12-13T01:50:05.377092Z",
     "shell.execute_reply.started": "2021-12-13T01:50:05.365048Z"
    }
   },
   "outputs": [],
   "source": [
    "# Generate data folds for cross validation\n",
    "\n",
    "def fold_generator(data, target='Pawpularity', cv = 5):\n",
    "    \n",
    "    # Fold generator\n",
    "    kf = StratifiedKFold(n_splits=cv)\n",
    "    \n",
    "    # Shuffle the dataset to generate folds\n",
    "    # Since the Pawpularity ranges from 1 to 100, we classify the scores into 10 levels\n",
    "    data = shuffle(data).reset_index(drop=True)\n",
    "    n_bins = 10\n",
    "    data['bins'] = data[target].map(lambda x: int(x/10))\n",
    "    \n",
    "    # Stratified sampling to construct folds\n",
    "    for fid, (train_idx, valid_idx) in enumerate(kf.split(X=data, y=data['bins'])):\n",
    "        data.loc[valid_idx, 'Fold'] = fid\n",
    "        \n",
    "    data = data.drop([\"bins\"], axis = 1)         \n",
    "    return data "
   ]
  },
  {
   "cell_type": "code",
   "execution_count": 37,
   "metadata": {
    "execution": {
     "iopub.execute_input": "2021-12-13T01:50:05.380169Z",
     "iopub.status.busy": "2021-12-13T01:50:05.379522Z",
     "iopub.status.idle": "2021-12-13T01:50:05.409601Z",
     "shell.execute_reply": "2021-12-13T01:50:05.408459Z",
     "shell.execute_reply.started": "2021-12-13T01:50:05.380102Z"
    }
   },
   "outputs": [],
   "source": [
    "# Self-defined cross validation function\n",
    "\n",
    "def cross_valid(df, model, cv = 5):\n",
    "    \n",
    "    X = ['Subject Focus', 'Eyes', 'Face', 'Near', 'Action', 'Accessory', 'Group', 'Collage', 'Human', 'Occlusion', 'Info', 'Blur']\n",
    "    Y = 'Pawpularity'\n",
    "\n",
    "    r2sr_train = 0\n",
    "    r2sr_valid = 0\n",
    "    rmse_train = 0\n",
    "    rmse_valid = 0\n",
    "    \n",
    "    # cv: the number of folds\n",
    "    for fold in range(cv):\n",
    "        train_df = df.loc[df['Fold'] != fold].reset_index(drop = True)\n",
    "        valid_df = df.loc[df['Fold'] == fold].reset_index(drop = True)\n",
    "\n",
    "        train_X = train_df[X]\n",
    "        train_Y = train_df[Y]\n",
    "\n",
    "        valid_X = valid_df[X]\n",
    "        valid_Y = valid_df[Y]\n",
    "        \n",
    "        if type(model).__name__ == 'CatBoostRegressor':\n",
    "            model.fit(train_X, train_Y, verbose=False)\n",
    "        else:\n",
    "            model.fit(train_X, train_Y)\n",
    "\n",
    "        train_pred = model.predict(train_X)\n",
    "        valid_pred = model.predict(valid_X)\n",
    "\n",
    "        rmse_train += np.sqrt(mean_squared_error(train_Y, train_pred))\n",
    "        rmse_valid += np.sqrt(mean_squared_error(valid_Y, valid_pred))\n",
    "        \n",
    "    return rmse_train/cv, rmse_valid/cv"
   ]
  },
  {
   "cell_type": "code",
   "execution_count": 38,
   "metadata": {
    "execution": {
     "iopub.execute_input": "2021-12-13T01:50:05.412411Z",
     "iopub.status.busy": "2021-12-13T01:50:05.412048Z",
     "iopub.status.idle": "2021-12-13T01:50:05.422318Z",
     "shell.execute_reply": "2021-12-13T01:50:05.421361Z",
     "shell.execute_reply.started": "2021-12-13T01:50:05.412368Z"
    }
   },
   "outputs": [],
   "source": [
    "# Reshape image\n",
    "\n",
    "def image_reshape(image_path, image_size):\n",
    "    # Load image\n",
    "    img = tf.io.read_file(image_path)\n",
    "    img = tf.image.decode_jpeg(img, channels=3)\n",
    "    \n",
    "    # Resize to regularize the input shape\n",
    "    img = tf.image.resize(img, (image_size, image_size))\n",
    "    \n",
    "    # Normalize channels to range (0, 1)\n",
    "    img = tf.cast(img, tf.float32) / 255.0\n",
    "    \n",
    "    return img"
   ]
  },
  {
   "cell_type": "code",
   "execution_count": 39,
   "metadata": {
    "execution": {
     "iopub.execute_input": "2021-12-13T01:50:05.424033Z",
     "iopub.status.busy": "2021-12-13T01:50:05.423778Z",
     "iopub.status.idle": "2021-12-13T01:50:05.439829Z",
     "shell.execute_reply": "2021-12-13T01:50:05.438682Z",
     "shell.execute_reply.started": "2021-12-13T01:50:05.423992Z"
    }
   },
   "outputs": [],
   "source": [
    "# Reshape image\n",
    "\n",
    "def load_image(is_trainset):\n",
    "    def just_reshape(img_path):\n",
    "        img = tf.io.read_file(img_path)\n",
    "        img = tf.image.decode_jpeg(img, channels=3)\n",
    "        img = tf.cast(img, tf.float32)\n",
    "        img = tf.image.resize(img, (224, 224))\n",
    "        img = tf.keras.applications.efficientnet.preprocess_input(img) \n",
    "        return img\n",
    "    \n",
    "    def reshape_with_label(img_path, label):\n",
    "        return just_reshape(img_path), label\n",
    "\n",
    "    return reshape_with_label if is_trainset else just_reshape"
   ]
  },
  {
   "cell_type": "code",
   "execution_count": 40,
   "metadata": {
    "execution": {
     "iopub.execute_input": "2021-12-13T01:50:05.441537Z",
     "iopub.status.busy": "2021-12-13T01:50:05.441298Z",
     "iopub.status.idle": "2021-12-13T01:50:05.452683Z",
     "shell.execute_reply": "2021-12-13T01:50:05.451720Z",
     "shell.execute_reply.started": "2021-12-13T01:50:05.441506Z"
    }
   },
   "outputs": [],
   "source": [
    "# Image augmentation\n",
    "\n",
    "def augment_image(is_trainset):\n",
    "    def just_augment(img):\n",
    "        img = tf.image.random_flip_left_right(img)\n",
    "        # img = tf.image.random_flip_up_down(img)\n",
    "        img = tf.image.random_contrast(img, 0.95, 1.05)\n",
    "        img = tf.image.random_saturation(img, 0.95, 1.05)\n",
    "        return img\n",
    "    \n",
    "    def augment_with_label(img, label):\n",
    "        return just_augment(img), label\n",
    "    \n",
    "    return augment_with_label if is_trainset else just_augment"
   ]
  },
  {
   "cell_type": "code",
   "execution_count": 41,
   "metadata": {
    "execution": {
     "iopub.execute_input": "2021-12-13T01:50:05.454899Z",
     "iopub.status.busy": "2021-12-13T01:50:05.454127Z",
     "iopub.status.idle": "2021-12-13T01:50:05.466477Z",
     "shell.execute_reply": "2021-12-13T01:50:05.465318Z",
     "shell.execute_reply.started": "2021-12-13T01:50:05.454847Z"
    }
   },
   "outputs": [],
   "source": [
    "# Use TensorFlow Database to speed up dataset processing\n",
    "\n",
    "def construct_tf_dataset(df, batch_size, is_trainset = False, \n",
    "                         use_augmentation = False, use_shuffle = False):\n",
    "    load_image_function = load_image(is_trainset)\n",
    "    augment_image_function = augment_image(is_trainset)\n",
    "    \n",
    "    if is_trainset:\n",
    "        dataset = tf.data.Dataset.from_tensor_slices((df['Path'].values, df['Pawpularity'].values))\n",
    "        dataset = dataset.map(load_image_function, num_parallel_calls=AUTOTUNE)\n",
    "    else:\n",
    "        dataset = tf.data.Dataset.from_tensor_slices((df['Path'].values))\n",
    "        dataset = dataset.map(load_image_function, num_parallel_calls=AUTOTUNE)\n",
    "        \n",
    "    if use_augmentation:\n",
    "        dataset = dataset.map(augment_image_function, num_parallel_calls=AUTOTUNE)\n",
    "    \n",
    "    if use_shuffle:\n",
    "        dataset = dataset.shuffle(1000, reshuffle_each_iteration=True)\n",
    "        \n",
    "    dataset = dataset.batch(batch_size)\n",
    "    dataset = dataset.prefetch(AUTOTUNE)\n",
    "    return dataset"
   ]
  },
  {
   "cell_type": "code",
   "execution_count": 42,
   "metadata": {
    "execution": {
     "iopub.execute_input": "2021-12-13T01:50:05.468118Z",
     "iopub.status.busy": "2021-12-13T01:50:05.467793Z",
     "iopub.status.idle": "2021-12-13T01:50:05.487911Z",
     "shell.execute_reply": "2021-12-13T01:50:05.486987Z",
     "shell.execute_reply.started": "2021-12-13T01:50:05.468085Z"
    }
   },
   "outputs": [],
   "source": [
    "# Set random seed to enable re-production\n",
    "\n",
    "set_random()"
   ]
  },
  {
   "cell_type": "code",
   "execution_count": 43,
   "metadata": {
    "execution": {
     "iopub.execute_input": "2021-12-13T01:50:05.490993Z",
     "iopub.status.busy": "2021-12-13T01:50:05.490757Z",
     "iopub.status.idle": "2021-12-13T01:50:05.502423Z",
     "shell.execute_reply": "2021-12-13T01:50:05.501164Z",
     "shell.execute_reply.started": "2021-12-13T01:50:05.490965Z"
    }
   },
   "outputs": [],
   "source": [
    "# Dataset path\n",
    "\n",
    "train_csv = \"../input/petfinder-pawpularity-score/train.csv\"\n",
    "test_csv = \"../input/petfinder-pawpularity-score/test.csv\"\n",
    "submission_csv = \"../input/petfinder-pawpularity-score/submission.csv\"\n",
    "\n",
    "train_dir = \"../input/petfinder-pawpularity-score/train\"\n",
    "test_dir = \"../input/petfinder-pawpularity-score/test\""
   ]
  },
  {
   "cell_type": "code",
   "execution_count": 44,
   "metadata": {
    "execution": {
     "iopub.execute_input": "2021-12-13T01:50:05.505236Z",
     "iopub.status.busy": "2021-12-13T01:50:05.505016Z",
     "iopub.status.idle": "2021-12-13T01:50:05.546892Z",
     "shell.execute_reply": "2021-12-13T01:50:05.545925Z",
     "shell.execute_reply.started": "2021-12-13T01:50:05.505211Z"
    }
   },
   "outputs": [],
   "source": [
    "# Load csv and image path to dataframe\n",
    "\n",
    "data_df = pd.read_csv(train_csv)\n",
    "test_df = pd.read_csv(test_csv)\n",
    "\n",
    "data_df['Path'] = data_df['Id'].apply(lambda x : train_dir + '/' + x + '.jpg')\n",
    "test_df['Path'] = test_df['Id'].apply(lambda x : test_dir + '/' + x + '.jpg')"
   ]
  },
  {
   "cell_type": "code",
   "execution_count": 45,
   "metadata": {
    "execution": {
     "iopub.execute_input": "2021-12-13T01:50:05.548347Z",
     "iopub.status.busy": "2021-12-13T01:50:05.548041Z",
     "iopub.status.idle": "2021-12-13T01:50:05.566426Z",
     "shell.execute_reply": "2021-12-13T01:50:05.565559Z",
     "shell.execute_reply.started": "2021-12-13T01:50:05.548315Z"
    },
    "scrolled": true
   },
   "outputs": [],
   "source": [
    "# Test\n",
    "\n",
    "display(data_df)"
   ]
  },
  {
   "cell_type": "code",
   "execution_count": 46,
   "metadata": {
    "execution": {
     "iopub.execute_input": "2021-12-13T01:50:05.568408Z",
     "iopub.status.busy": "2021-12-13T01:50:05.567941Z",
     "iopub.status.idle": "2021-12-13T01:50:05.594661Z",
     "shell.execute_reply": "2021-12-13T01:50:05.593998Z",
     "shell.execute_reply.started": "2021-12-13T01:50:05.568364Z"
    }
   },
   "outputs": [],
   "source": [
    "# Cross validation fold generation\n",
    "\n",
    "data_df_cv = fold_generator(data_df, target = 'Pawpularity', cv = 5)"
   ]
  },
  {
   "cell_type": "code",
   "execution_count": 47,
   "metadata": {
    "execution": {
     "iopub.execute_input": "2021-12-13T01:50:05.596090Z",
     "iopub.status.busy": "2021-12-13T01:50:05.595747Z",
     "iopub.status.idle": "2021-12-13T01:50:05.615183Z",
     "shell.execute_reply": "2021-12-13T01:50:05.614286Z",
     "shell.execute_reply.started": "2021-12-13T01:50:05.596061Z"
    },
    "scrolled": true
   },
   "outputs": [],
   "source": [
    "# Test\n",
    "\n",
    "display(data_df_cv)"
   ]
  },
  {
   "cell_type": "code",
   "execution_count": null,
   "metadata": {},
   "outputs": [],
   "source": []
  },
  {
   "cell_type": "code",
   "execution_count": null,
   "metadata": {},
   "outputs": [],
   "source": []
  },
  {
   "cell_type": "code",
   "execution_count": 48,
   "metadata": {
    "execution": {
     "iopub.execute_input": "2021-12-13T01:50:05.616785Z",
     "iopub.status.busy": "2021-12-13T01:50:05.616535Z",
     "iopub.status.idle": "2021-12-13T01:50:05.621031Z",
     "shell.execute_reply": "2021-12-13T01:50:05.620146Z",
     "shell.execute_reply.started": "2021-12-13T01:50:05.616758Z"
    }
   },
   "outputs": [],
   "source": [
    "# Result set\n",
    "\n",
    "Result_set = {\n",
    "    \"Model\" : [],\n",
    "    \"rmse_train\" : [],\n",
    "    \"rmse_valid\" : []\n",
    "}"
   ]
  },
  {
   "cell_type": "code",
   "execution_count": 53,
   "metadata": {
    "execution": {
     "iopub.execute_input": "2021-12-13T01:50:05.678264Z",
     "iopub.status.busy": "2021-12-13T01:50:05.677861Z",
     "iopub.status.idle": "2021-12-13T01:50:55.571538Z",
     "shell.execute_reply": "2021-12-13T01:50:55.570543Z",
     "shell.execute_reply.started": "2021-12-13T01:50:05.678234Z"
    }
   },
   "outputs": [],
   "source": [
    "# # Reshape image\n",
    "image_size = 128\n",
    "x_data = []\n",
    "x_test = []\n",
    "\n",
    "for i, img in tqdm_notebook(enumerate(data_df['Path']), total=len(data_df)):\n",
    "    x_data.append(image_reshape(img, image_size))\n",
    "    \n",
    "for i, img in tqdm_notebook(enumerate(test_df['Path']), total=len(test_df)):\n",
    "    x_test.append(image_reshape(img, image_size))"
   ]
  },
  {
   "cell_type": "code",
   "execution_count": 54,
   "metadata": {
    "execution": {
     "iopub.execute_input": "2021-12-13T01:50:55.573183Z",
     "iopub.status.busy": "2021-12-13T01:50:55.572967Z",
     "iopub.status.idle": "2021-12-13T01:50:59.599100Z",
     "shell.execute_reply": "2021-12-13T01:50:59.597552Z",
     "shell.execute_reply.started": "2021-12-13T01:50:55.573158Z"
    }
   },
   "outputs": [],
   "source": [
    "# # Generate train and valid set\n",
    "\n",
    "x_data = np.array(x_data)\n",
    "x_test = np.array(x_test)\n",
    "y_data = data_df['Pawpularity']\n",
    "\n",
    "trn_X, val_X, trn_Y, val_Y = train_test_split(x_data, y_data, test_size=0.2)"
   ]
  },
  {
   "cell_type": "code",
   "execution_count": 55,
   "metadata": {
    "execution": {
     "iopub.execute_input": "2021-12-13T01:50:59.601852Z",
     "iopub.status.busy": "2021-12-13T01:50:59.601351Z",
     "iopub.status.idle": "2021-12-13T01:50:59.689038Z",
     "shell.execute_reply": "2021-12-13T01:50:59.688353Z",
     "shell.execute_reply.started": "2021-12-13T01:50:59.601793Z"
    }
   },
   "outputs": [],
   "source": [
    "# # Build CNN model\n",
    "K.clear_session()\n",
    "\n",
    "nn = Sequential()\n",
    "nn.add(Conv2D(8 , (3,3), (2,2), activation='relu', padding='same', input_shape=(128,128,3)))\n",
    "nn.add(Conv2D(16, (3,3), (2,2), activation='relu', padding='same'))\n",
    "nn.add(Conv2D(32, (3,3), (2,2), activation='relu', padding='same'))\n",
    "nn.add(Flatten())\n",
    "nn.add(Dense(units=128, activation='relu'))\n",
    "nn.add(Dropout(rate=0.5, seed=2021))\n",
    "nn.add(Dense(units=1))\n",
    "\n",
    "nn.summary()"
   ]
  },
  {
   "cell_type": "code",
   "execution_count": 67,
   "metadata": {
    "execution": {
     "iopub.execute_input": "2021-12-13T01:55:36.213160Z",
     "iopub.status.busy": "2021-12-13T01:55:36.212165Z",
     "iopub.status.idle": "2021-12-13T01:55:36.219589Z",
     "shell.execute_reply": "2021-12-13T01:55:36.218585Z",
     "shell.execute_reply.started": "2021-12-13T01:55:36.213091Z"
    }
   },
   "outputs": [],
   "source": [
    "# # Early stopping callback function\n",
    "\n",
    "early_stop = tf.keras.callbacks.EarlyStopping(patience=15)\n",
    "reduce_lr = tf.keras.callbacks.ReduceLROnPlateau(factor=0.1, patience=2, min_lr=1e-9)\n",
    "callbacks = [early_stop, reduce_lr]"
   ]
  },
  {
   "cell_type": "code",
   "execution_count": 68,
   "metadata": {
    "execution": {
     "iopub.execute_input": "2021-12-13T01:55:36.221675Z",
     "iopub.status.busy": "2021-12-13T01:55:36.221396Z",
     "iopub.status.idle": "2021-12-13T01:56:45.666764Z",
     "shell.execute_reply": "2021-12-13T01:56:45.665948Z",
     "shell.execute_reply.started": "2021-12-13T01:55:36.221620Z"
    },
    "scrolled": true
   },
   "outputs": [],
   "source": [
    "# # Train CNN model32\n",
    "\n",
    "nn.compile(loss='mse', optimizer='Adam', \n",
    "        metrics=[tf.keras.metrics.RootMeanSquaredError(name=\"rmse\"), \"mae\", \"mape\"])\n",
    "\n",
    "history = nn.fit(trn_X, trn_Y, epochs=25, batch_size=128, \n",
    "                validation_data = (val_X, val_Y), callbacks=callbacks)"
   ]
  },
  {
   "cell_type": "code",
   "execution_count": 69,
   "metadata": {
    "execution": {
     "iopub.execute_input": "2021-12-13T01:56:45.668516Z",
     "iopub.status.busy": "2021-12-13T01:56:45.668289Z",
     "iopub.status.idle": "2021-12-13T01:56:47.525413Z",
     "shell.execute_reply": "2021-12-13T01:56:47.524820Z",
     "shell.execute_reply.started": "2021-12-13T01:56:45.668487Z"
    }
   },
   "outputs": [],
   "source": [
    "\n",
    "cbr_cnn = CatBoostRegressor(iterations=200, learning_rate=0.01)\n",
    "_, _ = cross_valid(data_df_cv, cbr_cnn, cv = 5)"
   ]
  },
  {
   "cell_type": "code",
   "execution_count": 76,
   "metadata": {
    "execution": {
     "iopub.execute_input": "2021-12-13T01:56:47.601298Z",
     "iopub.status.busy": "2021-12-13T01:56:47.601012Z",
     "iopub.status.idle": "2021-12-13T01:56:47.750225Z",
     "shell.execute_reply": "2021-12-13T01:56:47.749312Z",
     "shell.execute_reply.started": "2021-12-13T01:56:47.601269Z"
    }
   },
   "outputs": [],
   "source": [
    "# # Prediction, use model nn\n",
    "\n",
    "X = ['Subject Focus', 'Eyes', 'Face', 'Near', 'Action', 'Accessory', 'Group', 'Collage', 'Human', 'Occlusion', 'Info', 'Blur']\n",
    "test_X = test_df[X]\n",
    "\n",
    "pred_cnn = nn.predict(x_test, verbose = False)\n",
    "pred_cbr_cnn = cbr_cnn.predict(test_X).reshape(8, 1)\n",
    "\n",
    "submission_cnn = pd.DataFrame()\n",
    "submission_cnn['Id'] = test_df['Id']\n",
    "submission_cnn['Pawpularity'] = (pred_cnn + pred_cbr_cnn)/2.0\n",
    "\n",
    "submission_cnn.to_csv(\"method-2-submission.csv\", index = False)\n",
    "\n",
    "print(submission_cnn)"
   ]
  }
 ],
 "metadata": {
  "kernelspec": {
   "display_name": "Python 3 (ipykernel)",
   "language": "python",
   "name": "python3"
  },
  "language_info": {
   "codemirror_mode": {
    "name": "ipython",
    "version": 3
   },
   "file_extension": ".py",
   "mimetype": "text/x-python",
   "name": "python",
   "nbconvert_exporter": "python",
   "pygments_lexer": "ipython3",
   "version": "3.9.0"
  }
 },
 "nbformat": 4,
 "nbformat_minor": 4
}
