{
 "cells": [
  {
   "cell_type": "code",
   "execution_count": 11,
   "metadata": {
    "execution": {
     "iopub.execute_input": "2021-12-14T01:57:42.430327Z",
     "iopub.status.busy": "2021-12-14T01:57:42.429993Z",
     "iopub.status.idle": "2021-12-14T01:57:42.435198Z",
     "shell.execute_reply": "2021-12-14T01:57:42.434346Z",
     "shell.execute_reply.started": "2021-12-14T01:57:42.430290Z"
    },
    "scrolled": true
   },
   "outputs": [],
   "source": [
    "### Import Libraries\n",
    "\n",
    "from lightgbm import LGBMRegressor\n",
    "import numpy as np \n",
    "import pandas as pd \n",
    "import os\n",
    "from numpy import mean\n"
   ]
  },
  {
   "cell_type": "code",
   "execution_count": 12,
   "metadata": {
    "execution": {
     "iopub.execute_input": "2021-12-14T01:57:42.437651Z",
     "iopub.status.busy": "2021-12-14T01:57:42.436890Z",
     "iopub.status.idle": "2021-12-14T01:57:51.413777Z",
     "shell.execute_reply": "2021-12-14T01:57:51.412547Z",
     "shell.execute_reply.started": "2021-12-14T01:57:42.437614Z"
    }
   },
   "outputs": [],
   "source": [
    "!pip install flaml\n"
   ]
  },
  {
   "cell_type": "code",
   "execution_count": 13,
   "metadata": {
    "execution": {
     "iopub.execute_input": "2021-12-14T01:57:51.415969Z",
     "iopub.status.busy": "2021-12-14T01:57:51.415643Z",
     "iopub.status.idle": "2021-12-14T01:58:00.073837Z",
     "shell.execute_reply": "2021-12-14T01:58:00.072603Z",
     "shell.execute_reply.started": "2021-12-14T01:57:51.415931Z"
    }
   },
   "outputs": [],
   "source": [
    "!pip install scikit-learn==0.24"
   ]
  },
  {
   "cell_type": "code",
   "execution_count": 20,
   "metadata": {
    "execution": {
     "iopub.execute_input": "2021-12-14T02:00:06.188375Z",
     "iopub.status.busy": "2021-12-14T02:00:06.188050Z",
     "iopub.status.idle": "2021-12-14T02:00:06.220972Z",
     "shell.execute_reply": "2021-12-14T02:00:06.219483Z",
     "shell.execute_reply.started": "2021-12-14T02:00:06.188342Z"
    }
   },
   "outputs": [],
   "source": [
    "\n",
    "from flaml import AutoML\n",
    "\n",
    "\n",
    "import warnings\n",
    "warnings.filterwarnings('ignore')"
   ]
  },
  {
   "cell_type": "code",
   "execution_count": 15,
   "metadata": {
    "execution": {
     "iopub.execute_input": "2021-12-14T01:58:07.925142Z",
     "iopub.status.busy": "2021-12-14T01:58:07.924450Z",
     "iopub.status.idle": "2021-12-14T01:58:07.956282Z",
     "shell.execute_reply": "2021-12-14T01:58:07.955712Z",
     "shell.execute_reply.started": "2021-12-14T01:58:07.925100Z"
    }
   },
   "outputs": [],
   "source": [
    "\n",
    "\n",
    "train_path = '/kaggle/input/petfinder-pawpularity-score/train'\n",
    "test_path = '/kaggle/input/petfinder-pawpularity-score/test'\n",
    "\n",
    "df_train = pd.read_csv(train_path+'.csv')\n",
    "df_test = pd.read_csv(test_path+'.csv')\n"
   ]
  },
  {
   "cell_type": "code",
   "execution_count": 16,
   "metadata": {
    "execution": {
     "iopub.execute_input": "2021-12-14T01:58:07.958234Z",
     "iopub.status.busy": "2021-12-14T01:58:07.957876Z",
     "iopub.status.idle": "2021-12-14T01:58:07.983709Z",
     "shell.execute_reply": "2021-12-14T01:58:07.983006Z",
     "shell.execute_reply.started": "2021-12-14T01:58:07.958205Z"
    }
   },
   "outputs": [],
   "source": [
    "# Take the train set columns as features\n",
    "\n",
    "feature_cols=list(df_train.columns)[1:13]\n",
    "\n",
    "# Values of train and test dataframes\n",
    "\n",
    "train_set = np.array(df_train[feature_cols])\n",
    "test_set = np.array(df_test[feature_cols])\n",
    "\n",
    "\n",
    "## bin the pawpularity score among a list of values ranging from 0 to 100\n",
    "### Labels is a list of pawpularity score values ranging from 1 to 10\n",
    "\n",
    "df_train['label'] = pd.cut(np.array(df_train['Pawpularity']),\n",
    "                          bins = list(range(0,110,10)),\n",
    "                          labels = list(range(0,10)))\n",
    "\n",
    "\n",
    "## Calculate the average pawpularity score of pets \n",
    "## The pet score can be between 1 to 10\n",
    "\n",
    "paw_values = []\n",
    "for i in range(0,10):\n",
    "    v = list(df_train[df_train['label'] == i]['Pawpularity'])\n",
    "    paw_values.append(mean(v))\n",
    "ytrain = np.array(df_train['label'])"
   ]
  },
  {
   "cell_type": "code",
   "execution_count": 17,
   "metadata": {
    "_kg_hide-output": true,
    "execution": {
     "iopub.execute_input": "2021-12-14T01:58:07.985142Z",
     "iopub.status.busy": "2021-12-14T01:58:07.984809Z",
     "iopub.status.idle": "2021-12-14T01:58:08.011988Z",
     "shell.execute_reply": "2021-12-14T01:58:08.011036Z",
     "shell.execute_reply.started": "2021-12-14T01:58:07.985114Z"
    }
   },
   "outputs": [],
   "source": [
    "import flaml\n",
    "from flaml import AutoML\n",
    "import warnings\n",
    "warnings.filterwarnings('ignore')\n",
    "\n",
    "a = AutoML()\n",
    "settings = {\n",
    "    'estimator_list':['xgboost','rf','lgbm','catboost'],\n",
    "    'log_file_name':'pp.log',\n",
    "    'task':'regression',\n",
    "    'metric':'rmse',\n",
    "    'time_budget':360,\n",
    "    'seed':2021\n",
    "}\n",
    "a.fit(train_set, ytrain,**settings)"
   ]
  },
  {
   "cell_type": "code",
   "execution_count": null,
   "metadata": {
    "execution": {
     "iopub.status.busy": "2021-12-14T01:58:08.012959Z",
     "iopub.status.idle": "2021-12-14T01:58:08.013385Z",
     "shell.execute_reply": "2021-12-14T01:58:08.013238Z",
     "shell.execute_reply.started": "2021-12-14T01:58:08.013220Z"
    }
   },
   "outputs": [],
   "source": [
    "\n",
    "model = LGBMRegressor(colsample_bytree=0.9391605649208727,\n",
    "               learning_rate=0.19814546649229234, max_bin=1023,\n",
    "               min_child_samples=57, n_estimators=38, num_leaves=23,\n",
    "               reg_alpha=0.0010079442745583322, reg_lambda=1.6292994966548278,\n",
    "               verbose=-1)\n",
    "\n",
    "model.fit(train_set, ytrain)\n",
    "y_pred = a.predict(test_set)\n",
    "rmse = mean_squared_error(y_pred, y_train, squared=False)\n",
    "print(rmse)\n"
   ]
  },
  {
   "cell_type": "code",
   "execution_count": null,
   "metadata": {
    "execution": {
     "iopub.status.busy": "2021-12-14T01:58:08.014197Z",
     "iopub.status.idle": "2021-12-14T01:58:08.015437Z",
     "shell.execute_reply": "2021-12-14T01:58:08.015076Z",
     "shell.execute_reply.started": "2021-12-14T01:58:08.015028Z"
    }
   },
   "outputs": [],
   "source": [
    "## Predicted output\n",
    "\n",
    "pred = a.predict(test_set)\n",
    "\n",
    "## Iterate through the paw values list and \n",
    "## update the final predicted pawpularity scores\n",
    "pred_set = [paw_values[i] for i in pred]\n",
    "\n",
    "## Convert the \n",
    "pred_df = pd.DataFrame.from_dict({\n",
    "    \"Id\":list(df_test[\"Id\"]),\n",
    "    \"Pawpularity\":pred_set\n",
    "})\n",
    "pred_df.to_csv('./submission.csv',index=False)\n",
    "pred_df.head(5)"
   ]
  },
  {
   "cell_type": "code",
   "execution_count": null,
   "metadata": {
    "execution": {
     "iopub.status.busy": "2021-12-14T01:58:08.016951Z",
     "iopub.status.idle": "2021-12-14T01:58:08.017891Z",
     "shell.execute_reply": "2021-12-14T01:58:08.017581Z",
     "shell.execute_reply.started": "2021-12-14T01:58:08.017546Z"
    }
   },
   "outputs": [],
   "source": [
    "# Convert submission file to .csv and download the submission file\n",
    "\n",
    "pred_df.to_csv('/kaggle/working/submission.csv')\n",
    "\n",
    "from IPython.display import FileLink\n",
    "FileLink(r'submission.csv')"
   ]
  }
 ],
 "metadata": {
  "kernelspec": {
   "display_name": "Python 3 (ipykernel)",
   "language": "python",
   "name": "python3"
  },
  "language_info": {
   "codemirror_mode": {
    "name": "ipython",
    "version": 3
   },
   "file_extension": ".py",
   "mimetype": "text/x-python",
   "name": "python",
   "nbconvert_exporter": "python",
   "pygments_lexer": "ipython3",
   "version": "3.9.0"
  }
 },
 "nbformat": 4,
 "nbformat_minor": 4
}
