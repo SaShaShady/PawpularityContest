{
 "cells": [
  {
   "cell_type": "code",
   "execution_count": 65,
   "metadata": {
    "execution": {
     "iopub.execute_input": "2021-12-14T01:11:54.412907Z",
     "iopub.status.busy": "2021-12-14T01:11:54.412645Z",
     "iopub.status.idle": "2021-12-14T01:12:01.841193Z",
     "shell.execute_reply": "2021-12-14T01:12:01.840187Z",
     "shell.execute_reply.started": "2021-12-14T01:11:54.412879Z"
    }
   },
   "outputs": [],
   "source": [
    "#pip install statsmodels\n",
    "!python3 -m pip install scikit-garden"
   ]
  },
  {
   "cell_type": "code",
   "execution_count": 66,
   "metadata": {
    "execution": {
     "iopub.execute_input": "2021-12-14T01:12:01.845399Z",
     "iopub.status.busy": "2021-12-14T01:12:01.845135Z",
     "iopub.status.idle": "2021-12-14T01:12:01.860435Z",
     "shell.execute_reply": "2021-12-14T01:12:01.859613Z",
     "shell.execute_reply.started": "2021-12-14T01:12:01.845365Z"
    },
    "scrolled": true
   },
   "outputs": [],
   "source": [
    "import os\n",
    "import cv2\n",
    "import time\n",
    "import json\n",
    "import random\n",
    "import warnings\n",
    "import numpy as np\n",
    "import pandas as pd\n",
    "import seaborn as sns\n",
    "import plotly.express as px\n",
    "import plotly.graph_objs as go\n",
    "import matplotlib.pyplot as plt\n",
    "\n",
    "\n",
    "from PIL import Image\n",
    "from enum import Enum\n",
    "from glob import glob\n",
    "from tqdm import trange\n",
    "from pprint import pprint\n",
    "from colorama import Fore\n",
    "from tqdm import tqdm_notebook\n",
    "from sklearn.utils import shuffle\n",
    "from IPython.display import display\n",
    "\n",
    "\n",
    "from sklearn.metrics import *\n",
    "from sklearn.preprocessing import *\n",
    "from sklearn.model_selection import *\n",
    "\n",
    "\n",
    "# Neural Network Models\n",
    "import tensorflow as tf\n",
    "from tensorflow import keras\n",
    "from tensorflow.keras import layers\n",
    "from tensorflow.keras import backend as K\n",
    "from tensorflow.keras.models import Sequential\n",
    "from tensorflow.keras.optimizers.schedules import ExponentialDecay\n",
    "from tensorflow.keras.layers import Input, Concatenate, BatchNormalization\n",
    "from tensorflow.keras.layers import Dense, Activation, Flatten, Conv2D, Dropout\n",
    "\n",
    "\n",
    "# Regression Models\n",
    "import six\n",
    "import sys\n",
    "sys.modules['sklearn.externals.six'] = six\n",
    "from skgarden import RandomForestQuantileRegressor,MondrianForestRegressor,MondrianTreeRegressor\n",
    "from sklearn.linear_model import Lasso\n",
    "#from skgarden import RandomForestQuantileRegressor\n",
    "from statsmodels.formula.api import quantreg\n",
    "from sklearn.svm import SVR\n",
    "from sklearn.kernel_ridge import KernelRidge\n",
    "from xgboost import XGBRegressor\n",
    "from lightgbm import LGBMRegressor\n",
    "from catboost import CatBoostRegressor\n",
    "from sklearn.tree import DecisionTreeRegressor\n",
    "from sklearn.neighbors import KNeighborsRegressor\n",
    "from sklearn.gaussian_process import GaussianProcessRegressor\n",
    "from sklearn.linear_model import LinearRegression, Ridge, ElasticNet\n",
    "from sklearn.ensemble import ExtraTreesRegressor, RandomForestRegressor,VotingRegressor, AdaBoostRegressor, GradientBoostingRegressor, BaggingRegressor\n",
    "from sklearn.gaussian_process.kernels import DotProduct, WhiteKernel\n",
    "from skgarden.quantile import ExtraTreesQuantileRegressor,DecisionTreeQuantileRegressor\n",
    "\n",
    "warnings.filterwarnings(\"ignore\")\n",
    "AUTOTUNE = tf.data.experimental.AUTOTUNE\n"
   ]
  },
  {
   "cell_type": "code",
   "execution_count": 67,
   "metadata": {
    "execution": {
     "iopub.execute_input": "2021-12-14T01:12:01.862515Z",
     "iopub.status.busy": "2021-12-14T01:12:01.862213Z",
     "iopub.status.idle": "2021-12-14T01:12:01.875108Z",
     "shell.execute_reply": "2021-12-14T01:12:01.874278Z",
     "shell.execute_reply.started": "2021-12-14T01:12:01.862481Z"
    }
   },
   "outputs": [],
   "source": [
    "# Set random seed to enable re-production\n",
    "\n",
    "def set_random():\n",
    "    np.random.seed(100)\n",
    "    random.seed(100)\n",
    "    tf.random.set_seed(100)\n",
    "    os.environ['PYTHONHASHSEED'] = '100'"
   ]
  },
  {
   "cell_type": "code",
   "execution_count": 68,
   "metadata": {
    "execution": {
     "iopub.execute_input": "2021-12-14T01:12:01.878705Z",
     "iopub.status.busy": "2021-12-14T01:12:01.877649Z",
     "iopub.status.idle": "2021-12-14T01:12:01.887588Z",
     "shell.execute_reply": "2021-12-14T01:12:01.886637Z",
     "shell.execute_reply.started": "2021-12-14T01:12:01.878665Z"
    }
   },
   "outputs": [],
   "source": [
    "# Generate data folds for cross validation\n",
    "\n",
    "def fold_generator(data, target='Pawpularity', cv = 5):\n",
    "    \n",
    "    # Fold generator\n",
    "    kf = StratifiedKFold(n_splits=cv)\n",
    "    \n",
    "    # Shuffle the dataset to generate folds\n",
    "    # Since the Pawpularity ranges from 1 to 100, we classify the scores into 10 levels\n",
    "    data = shuffle(data).reset_index(drop=True)\n",
    "    n_bins = 10\n",
    "    data['bins'] = data[target].map(lambda x: int(x/10))\n",
    "    \n",
    "    # Stratified sampling to construct folds\n",
    "    for fid, (train_idx, valid_idx) in enumerate(kf.split(X=data, y=data['bins'])):\n",
    "        data.loc[valid_idx, 'Fold'] = fid\n",
    "        \n",
    "    data = data.drop([\"bins\"], axis = 1)         \n",
    "    return data "
   ]
  },
  {
   "cell_type": "code",
   "execution_count": 69,
   "metadata": {
    "execution": {
     "iopub.execute_input": "2021-12-14T01:12:01.890121Z",
     "iopub.status.busy": "2021-12-14T01:12:01.889421Z",
     "iopub.status.idle": "2021-12-14T01:12:01.901065Z",
     "shell.execute_reply": "2021-12-14T01:12:01.900115Z",
     "shell.execute_reply.started": "2021-12-14T01:12:01.890054Z"
    }
   },
   "outputs": [],
   "source": [
    "# Self-defined cross validation function\n",
    "\n",
    "def cross_valid(df, model, cv = 5):\n",
    "    \n",
    "    X = ['Subject Focus', 'Eyes', 'Face', 'Near', 'Action', 'Accessory', 'Group', 'Collage', 'Human', 'Occlusion', 'Info', 'Blur']\n",
    "    Y = 'Pawpularity'\n",
    "\n",
    "    r2sr_train = 0\n",
    "    r2sr_valid = 0\n",
    "    rmse_train = 0\n",
    "    rmse_valid = 0\n",
    "    \n",
    "    # cv: the number of folds\n",
    "    for fold in range(cv):\n",
    "        train_df = df.loc[df['Fold'] != fold].reset_index(drop = True)\n",
    "        valid_df = df.loc[df['Fold'] == fold].reset_index(drop = True)\n",
    "\n",
    "        train_X = train_df[X]\n",
    "        train_Y = train_df[Y]\n",
    "\n",
    "        valid_X = valid_df[X]\n",
    "        valid_Y = valid_df[Y]\n",
    "        \n",
    "        if type(model).__name__ == 'CatBoostRegressor':\n",
    "            model.fit(train_X, train_Y, verbose=False)\n",
    "        else:\n",
    "            model.fit(train_X, train_Y)\n",
    "\n",
    "        train_pred = model.predict(train_X)\n",
    "        valid_pred = model.predict(valid_X)\n",
    "\n",
    "        rmse_train += np.sqrt(mean_squared_error(train_Y, train_pred))\n",
    "        rmse_valid += np.sqrt(mean_squared_error(valid_Y, valid_pred))\n",
    "        \n",
    "    return rmse_train/cv, rmse_valid/cv"
   ]
  },
  {
   "cell_type": "code",
   "execution_count": 70,
   "metadata": {
    "execution": {
     "iopub.execute_input": "2021-12-14T01:12:01.902671Z",
     "iopub.status.busy": "2021-12-14T01:12:01.902304Z",
     "iopub.status.idle": "2021-12-14T01:12:01.913856Z",
     "shell.execute_reply": "2021-12-14T01:12:01.913089Z",
     "shell.execute_reply.started": "2021-12-14T01:12:01.902636Z"
    }
   },
   "outputs": [],
   "source": [
    "# Reshape image\n",
    "\n",
    "def image_reshape(image_path, image_size):\n",
    "    # Load image\n",
    "    img = tf.io.read_file(image_path)\n",
    "    img = tf.image.decode_jpeg(img, channels=3)\n",
    "    \n",
    "    # Resize to regularize the input shape\n",
    "    img = tf.image.resize(img, (image_size, image_size))\n",
    "    \n",
    "    # Normalize channels to range (0, 1)\n",
    "    img = tf.cast(img, tf.float32) / 255.0\n",
    "    \n",
    "    return img"
   ]
  },
  {
   "cell_type": "code",
   "execution_count": 71,
   "metadata": {
    "execution": {
     "iopub.execute_input": "2021-12-14T01:12:01.916052Z",
     "iopub.status.busy": "2021-12-14T01:12:01.915394Z",
     "iopub.status.idle": "2021-12-14T01:12:01.924826Z",
     "shell.execute_reply": "2021-12-14T01:12:01.923812Z",
     "shell.execute_reply.started": "2021-12-14T01:12:01.916013Z"
    }
   },
   "outputs": [],
   "source": [
    "# Reshape image\n",
    "\n",
    "def load_image(is_trainset):\n",
    "    def just_reshape(img_path):\n",
    "        img = tf.io.read_file(img_path)\n",
    "        img = tf.image.decode_jpeg(img, channels=3)\n",
    "        img = tf.cast(img, tf.float32)\n",
    "        img = tf.image.resize(img, (224, 224))\n",
    "        img = tf.keras.applications.efficientnet.preprocess_input(img) \n",
    "        return img\n",
    "    \n",
    "    def reshape_with_label(img_path, label):\n",
    "        return just_reshape(img_path), label\n",
    "\n",
    "    return reshape_with_label if is_trainset else just_reshape"
   ]
  },
  {
   "cell_type": "code",
   "execution_count": 72,
   "metadata": {
    "execution": {
     "iopub.execute_input": "2021-12-14T01:12:01.927174Z",
     "iopub.status.busy": "2021-12-14T01:12:01.926876Z",
     "iopub.status.idle": "2021-12-14T01:12:01.934428Z",
     "shell.execute_reply": "2021-12-14T01:12:01.933499Z",
     "shell.execute_reply.started": "2021-12-14T01:12:01.927138Z"
    }
   },
   "outputs": [],
   "source": [
    "# Image augmentation\n",
    "\n",
    "def augment_image(is_trainset):\n",
    "    def just_augment(img):\n",
    "        img = tf.image.random_flip_left_right(img)\n",
    "        # img = tf.image.random_flip_up_down(img)\n",
    "        img = tf.image.random_contrast(img, 0.95, 1.05)\n",
    "        img = tf.image.random_saturation(img, 0.95, 1.05)\n",
    "        return img\n",
    "    \n",
    "    def augment_with_label(img, label):\n",
    "        return just_augment(img), label\n",
    "    \n",
    "    return augment_with_label if is_trainset else just_augment"
   ]
  },
  {
   "cell_type": "code",
   "execution_count": 73,
   "metadata": {
    "execution": {
     "iopub.execute_input": "2021-12-14T01:12:01.936883Z",
     "iopub.status.busy": "2021-12-14T01:12:01.936001Z",
     "iopub.status.idle": "2021-12-14T01:12:01.947270Z",
     "shell.execute_reply": "2021-12-14T01:12:01.946489Z",
     "shell.execute_reply.started": "2021-12-14T01:12:01.936844Z"
    }
   },
   "outputs": [],
   "source": [
    "# Use TensorFlow Database to speed up dataset processing\n",
    "\n",
    "def construct_tf_dataset(df, batch_size, is_trainset = False, \n",
    "                         use_augmentation = False, use_shuffle = False):\n",
    "    load_image_function = load_image(is_trainset)\n",
    "    augment_image_function = augment_image(is_trainset)\n",
    "    \n",
    "    if is_trainset:\n",
    "        dataset = tf.data.Dataset.from_tensor_slices((df['Path'].values, df['Pawpularity'].values))\n",
    "        dataset = dataset.map(load_image_function, num_parallel_calls=AUTOTUNE)\n",
    "    else:\n",
    "        dataset = tf.data.Dataset.from_tensor_slices((df['Path'].values))\n",
    "        dataset = dataset.map(load_image_function, num_parallel_calls=AUTOTUNE)\n",
    "        \n",
    "    if use_augmentation:\n",
    "        dataset = dataset.map(augment_image_function, num_parallel_calls=AUTOTUNE)\n",
    "    \n",
    "    if use_shuffle:\n",
    "        dataset = dataset.shuffle(1000, reshuffle_each_iteration=True)\n",
    "        \n",
    "    dataset = dataset.batch(batch_size)\n",
    "    dataset = dataset.prefetch(AUTOTUNE)\n",
    "    return dataset"
   ]
  },
  {
   "cell_type": "code",
   "execution_count": 74,
   "metadata": {
    "execution": {
     "iopub.execute_input": "2021-12-14T01:12:01.953339Z",
     "iopub.status.busy": "2021-12-14T01:12:01.952801Z",
     "iopub.status.idle": "2021-12-14T01:12:01.959063Z",
     "shell.execute_reply": "2021-12-14T01:12:01.958140Z",
     "shell.execute_reply.started": "2021-12-14T01:12:01.953286Z"
    }
   },
   "outputs": [],
   "source": [
    "# Set random seed to enable re-production\n",
    "\n",
    "set_random()"
   ]
  },
  {
   "cell_type": "code",
   "execution_count": 75,
   "metadata": {
    "execution": {
     "iopub.execute_input": "2021-12-14T01:12:01.961112Z",
     "iopub.status.busy": "2021-12-14T01:12:01.960746Z",
     "iopub.status.idle": "2021-12-14T01:12:01.969234Z",
     "shell.execute_reply": "2021-12-14T01:12:01.968343Z",
     "shell.execute_reply.started": "2021-12-14T01:12:01.961070Z"
    }
   },
   "outputs": [],
   "source": [
    "# Dataset path\n",
    "\n",
    "train_csv = \"../input/petfinder-pawpularity-score/train.csv\"\n",
    "test_csv = \"../input/petfinder-pawpularity-score/test.csv\"\n",
    "submission_csv = \"../input/petfinder-pawpularity-score/submission.csv\"\n",
    "\n",
    "train_dir = \"../input/petfinder-pawpularity-score/train\"\n",
    "test_dir = \"../input/petfinder-pawpularity-score/test\""
   ]
  },
  {
   "cell_type": "code",
   "execution_count": 76,
   "metadata": {
    "execution": {
     "iopub.execute_input": "2021-12-14T01:12:01.971373Z",
     "iopub.status.busy": "2021-12-14T01:12:01.971067Z",
     "iopub.status.idle": "2021-12-14T01:12:02.012788Z",
     "shell.execute_reply": "2021-12-14T01:12:02.012026Z",
     "shell.execute_reply.started": "2021-12-14T01:12:01.971333Z"
    }
   },
   "outputs": [],
   "source": [
    "# Load csv and image path to dataframe\n",
    "\n",
    "data_df = pd.read_csv(train_csv)\n",
    "test_df = pd.read_csv(test_csv)\n",
    "\n",
    "data_df['Path'] = data_df['Id'].apply(lambda x : train_dir + '/' + x + '.jpg')\n",
    "test_df['Path'] = test_df['Id'].apply(lambda x : test_dir + '/' + x + '.jpg')"
   ]
  },
  {
   "cell_type": "code",
   "execution_count": 77,
   "metadata": {
    "execution": {
     "iopub.execute_input": "2021-12-14T01:12:02.014844Z",
     "iopub.status.busy": "2021-12-14T01:12:02.014317Z",
     "iopub.status.idle": "2021-12-14T01:12:02.035690Z",
     "shell.execute_reply": "2021-12-14T01:12:02.034938Z",
     "shell.execute_reply.started": "2021-12-14T01:12:02.014803Z"
    },
    "scrolled": true
   },
   "outputs": [],
   "source": [
    "# Test\n",
    "\n",
    "display(data_df)"
   ]
  },
  {
   "cell_type": "code",
   "execution_count": 78,
   "metadata": {
    "execution": {
     "iopub.execute_input": "2021-12-14T01:12:02.037674Z",
     "iopub.status.busy": "2021-12-14T01:12:02.037155Z",
     "iopub.status.idle": "2021-12-14T01:12:02.064185Z",
     "shell.execute_reply": "2021-12-14T01:12:02.063383Z",
     "shell.execute_reply.started": "2021-12-14T01:12:02.037635Z"
    }
   },
   "outputs": [],
   "source": [
    "# Cross validation fold generation\n",
    "\n",
    "data_df_cv = fold_generator(data_df, target = 'Pawpularity', cv = 5)"
   ]
  },
  {
   "cell_type": "code",
   "execution_count": 79,
   "metadata": {
    "execution": {
     "iopub.execute_input": "2021-12-14T01:12:02.068020Z",
     "iopub.status.busy": "2021-12-14T01:12:02.067412Z",
     "iopub.status.idle": "2021-12-14T01:12:02.092616Z",
     "shell.execute_reply": "2021-12-14T01:12:02.091809Z",
     "shell.execute_reply.started": "2021-12-14T01:12:02.067988Z"
    },
    "scrolled": true
   },
   "outputs": [],
   "source": [
    "# Test\n",
    "\n",
    "display(data_df_cv)"
   ]
  },
  {
   "cell_type": "code",
   "execution_count": 80,
   "metadata": {
    "execution": {
     "iopub.execute_input": "2021-12-14T01:12:02.094620Z",
     "iopub.status.busy": "2021-12-14T01:12:02.094128Z",
     "iopub.status.idle": "2021-12-14T01:12:02.099735Z",
     "shell.execute_reply": "2021-12-14T01:12:02.098736Z",
     "shell.execute_reply.started": "2021-12-14T01:12:02.094577Z"
    }
   },
   "outputs": [],
   "source": [
    "# Result set\n",
    "\n",
    "Result_set = {\n",
    "    \"Model\" : [],\n",
    "    \"rmse_train\" : [],\n",
    "    \"rmse_valid\" : []\n",
    "}"
   ]
  },
  {
   "cell_type": "code",
   "execution_count": 81,
   "metadata": {
    "execution": {
     "iopub.execute_input": "2021-12-14T01:12:02.102740Z",
     "iopub.status.busy": "2021-12-14T01:12:02.101643Z",
     "iopub.status.idle": "2021-12-14T01:12:08.792240Z",
     "shell.execute_reply": "2021-12-14T01:12:08.791377Z",
     "shell.execute_reply.started": "2021-12-14T01:12:02.102696Z"
    },
    "scrolled": true
   },
   "outputs": [],
   "source": [
    "# def trainRegModels(df : \"data_file\", features : list, label: str):\n",
    "    \n",
    "\n",
    "cbr = CatBoostRegressor(iterations=200, learning_rate=0.01)\n",
    "gbr = GradientBoostingRegressor(random_state = 0)\n",
    "xgbr = XGBRegressor(n_estimators = 1000, max_depth = 5, eta = 0.01, subsample = 0.7, colsample_bytree = 0.6)\n",
    "lasso = Lasso()\n",
    "svr = SVR()\n",
    "xgbr = XGBRegressor()\n",
    "random = RandomForestRegressor(max_depth = 2, random_state = 0)\n",
    "    \n",
    "\n",
    "    \n",
    "    \n",
    "Model_dict = {\n",
    "    \"cbr + gbr + xgbr\":VotingRegressor([('cbr', cbr),('gbr', gbr), ('xgbr', xgbr)], n_jobs=-1),\n",
    "    \"lasso + svr+ xgbr\":VotingRegressor([('lasso', lasso),('svr', svr), ('xgbr', xgbr)], n_jobs=-1),\n",
    "    \"cbr + random + lasso\":VotingRegressor([('lasso', lasso),('cbr', cbr), ('random', random)], n_jobs=-1),\n",
    "    \"BaggingRegressor\": BaggingRegressor(base_estimator=CatBoostRegressor(), n_estimators=10, random_state=0),\n",
    "    \"Mondrian forest regressor\" : MondrianForestRegressor(random_state = 1, max_depth = 2)\n",
    "   \n",
    "    }\n",
    "\n",
    "Model_list = list(Model_dict.keys())\n",
    "\n",
    "\n",
    "\n",
    "\n",
    "\n",
    "\n",
    "\n",
    "for i in tqdm_notebook(range(len(Model_list))):\n",
    "    model_name = Model_list[i]\n",
    "    model = Model_dict[model_name]\n",
    "    \n",
    "    rmse_train, rmse_valid = cross_valid(data_df_cv, model, cv = 5)\n",
    "\n",
    "    Result_set[\"Model\"].append(model_name)\n",
    "    Result_set[\"rmse_train\"].append(rmse_train)\n",
    "    Result_set[\"rmse_valid\"].append(rmse_valid)"
   ]
  },
  {
   "cell_type": "code",
   "execution_count": 82,
   "metadata": {
    "execution": {
     "iopub.execute_input": "2021-12-14T01:12:08.794241Z",
     "iopub.status.busy": "2021-12-14T01:12:08.793839Z",
     "iopub.status.idle": "2021-12-14T01:12:08.811988Z",
     "shell.execute_reply": "2021-12-14T01:12:08.811238Z",
     "shell.execute_reply.started": "2021-12-14T01:12:08.794190Z"
    }
   },
   "outputs": [],
   "source": [
    "# Display result\n",
    "\n",
    "Result_df = pd.DataFrame(Result_set)\n",
    "Result_df.sort_values(\"rmse_valid\", axis = 0, ascending = True)"
   ]
  },
  {
   "cell_type": "code",
   "execution_count": 84,
   "metadata": {
    "execution": {
     "iopub.execute_input": "2021-12-14T01:12:08.826504Z",
     "iopub.status.busy": "2021-12-14T01:12:08.825612Z",
     "iopub.status.idle": "2021-12-14T01:12:09.077064Z",
     "shell.execute_reply": "2021-12-14T01:12:09.076255Z",
     "shell.execute_reply.started": "2021-12-14T01:12:08.826435Z"
    }
   },
   "outputs": [],
   "source": [
    "# Display result again\n",
    "import matplotlib.pyplot as plt\n",
    "for i in range(len(Model_list)):\n",
    "    plt.plot(Result_set[\"rmse_train\"],label ='Train Accuracies')\n",
    "    \n",
    "#plt.plot(len(Model_list))\n",
    "plt.xlabel('Models')\n",
    "#plt.legend()\n",
    "plt.ylabel('RMSE Values')\n",
    "\n",
    "plt.title('RMSE Scores of Regression Models')\n",
    "plt.show()\n",
    "plt.savefig(\"Regr models.png\")\n",
    "        \n",
    "\n",
    "Result_set[\"rmse_valid\"]\n",
    "Result_df = pd.DataFrame(Result_set)\n",
    "Result_df.sort_values(\"rmse_valid\", axis = 0, ascending = True)"
   ]
  },
  {
   "cell_type": "code",
   "execution_count": 96,
   "metadata": {
    "execution": {
     "iopub.execute_input": "2021-12-14T01:12:09.178882Z",
     "iopub.status.busy": "2021-12-14T01:12:09.178629Z",
     "iopub.status.idle": "2021-12-14T01:12:09.224110Z",
     "shell.execute_reply": "2021-12-14T01:12:09.223026Z",
     "shell.execute_reply.started": "2021-12-14T01:12:09.178857Z"
    },
    "scrolled": true
   },
   "outputs": [],
   "source": [
    "# Prediction, use model vr\n",
    "\n",
    "X = ['Subject Focus', 'Eyes', 'Face', 'Near', 'Action', 'Accessory', 'Group', 'Collage', 'Human', 'Occlusion', 'Info', 'Blur']\n",
    "\n",
    "test_X = test_df[X]\n",
    "test_X['Pawpularity'] = vr.predict(test_X)\n",
    "test_X['Id'] = test_df['Id']\n",
    "\n",
    "submission_vr = test_X[['Id', 'Pawpularity']]\n",
    "submission_vr.to_csv(\"submission.csv\", index = False)\n",
    "\n",
    "print(submission_vr)"
   ]
  }
 ],
 "metadata": {
  "kernelspec": {
   "display_name": "Python 3 (ipykernel)",
   "language": "python",
   "name": "python3"
  },
  "language_info": {
   "codemirror_mode": {
    "name": "ipython",
    "version": 3
   },
   "file_extension": ".py",
   "mimetype": "text/x-python",
   "name": "python",
   "nbconvert_exporter": "python",
   "pygments_lexer": "ipython3",
   "version": "3.9.0"
  }
 },
 "nbformat": 4,
 "nbformat_minor": 4
}
