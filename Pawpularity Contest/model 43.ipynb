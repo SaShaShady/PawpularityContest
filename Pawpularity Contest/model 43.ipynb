{
 "cells": [
  {
   "cell_type": "code",
   "execution_count": 3,
   "metadata": {
    "_kg_hide-input": true,
    "_kg_hide-output": true,
    "execution": {
     "iopub.execute_input": "2021-12-05T21:57:04.624074Z",
     "iopub.status.busy": "2021-12-05T21:57:04.623317Z",
     "iopub.status.idle": "2021-12-05T21:57:58.781199Z",
     "shell.execute_reply": "2021-12-05T21:57:58.780258Z",
     "shell.execute_reply.started": "2021-12-05T21:57:04.624038Z"
    }
   },
   "outputs": [],
   "source": [
    "%%capture\n",
    "\n",
    "# https://www.kaggle.com/bguberfain/openai-clip-with-train/notebook\n",
    "\n",
    "import sys\n",
    "!cp -r ../input/openai-clip/CLIP/CLIP-main /tmp/\n",
    "\n",
    "# Kaggle likes to unpack .gz files in datasets... so we have to pack it back\n",
    "!gzip -c /tmp/CLIP-main/clip/bpe_simple_vocab_16e6.txt > /tmp/CLIP-main/clip/bpe_simple_vocab_16e6.txt.gz\n",
    "sys.path.append('/tmp/CLIP-main')\n",
    "\n",
    "!pip install ../input/openai-clip/ftfy-5.9/ftfy-5.9\n",
    "!pip install ../input/openai-clip/torch-1.7.1+cu110-cp37-cp37m-linux_x86_64.whl \\\n",
    "             ../input/openai-clip/torchvision-0.8.2+cu110-cp37-cp37m-linux_x86_64.whl \\\n",
    "             ../input/faiss-163/faiss_gpu-1.6.3-cp37-cp37m-manylinux2010_x86_64.whl"
   ]
  },
  {
   "cell_type": "code",
   "execution_count": 4,
   "metadata": {
    "execution": {
     "iopub.execute_input": "2021-12-05T21:57:58.783740Z",
     "iopub.status.busy": "2021-12-05T21:57:58.783451Z",
     "iopub.status.idle": "2021-12-05T21:58:01.519064Z",
     "shell.execute_reply": "2021-12-05T21:58:01.518329Z",
     "shell.execute_reply.started": "2021-12-05T21:57:58.783700Z"
    }
   },
   "outputs": [],
   "source": [
    "import torch\n",
    "import torch.nn as nn\n",
    "from torch.utils.data import Dataset, DataLoader\n",
    "from pathlib import Path\n",
    "from os.path import join\n",
    "import numpy as np\n",
    "import pandas as pd\n",
    "import clip, os, skimage\n",
    "import matplotlib.pyplot as plt\n",
    "import seaborn as sns\n",
    "from PIL import Image\n",
    "from tqdm import tqdm\n",
    "\n",
    "clip.available_models()"
   ]
  },
  {
   "cell_type": "code",
   "execution_count": 5,
   "metadata": {
    "execution": {
     "iopub.execute_input": "2021-12-05T21:58:01.520812Z",
     "iopub.status.busy": "2021-12-05T21:58:01.520505Z",
     "iopub.status.idle": "2021-12-05T21:58:12.816749Z",
     "shell.execute_reply": "2021-12-05T21:58:12.815405Z",
     "shell.execute_reply.started": "2021-12-05T21:58:01.520777Z"
    }
   },
   "outputs": [],
   "source": [
    "model, preprocess = clip.load(\"../input/openai-clip/ViT-B-32.pt\", jit=False)\n",
    "model = model.cuda().eval()\n",
    "input_resolution = model.visual.input_resolution\n",
    "context_length = model.context_length\n",
    "vocab_size = model.vocab_size\n",
    "\n",
    "print(\"Model parameters:\", f\"{np.sum([int(np.prod(p.shape)) for p in model.parameters()]):,}\")\n",
    "print(\"Input resolution:\", input_resolution)\n",
    "print(\"Context length:\", context_length)\n",
    "print(\"Vocab size:\", vocab_size)"
   ]
  },
  {
   "cell_type": "code",
   "execution_count": 6,
   "metadata": {
    "execution": {
     "iopub.execute_input": "2021-12-05T21:58:12.818816Z",
     "iopub.status.busy": "2021-12-05T21:58:12.818316Z",
     "iopub.status.idle": "2021-12-05T21:58:13.027652Z",
     "shell.execute_reply": "2021-12-05T21:58:13.026864Z",
     "shell.execute_reply.started": "2021-12-05T21:58:12.818755Z"
    }
   },
   "outputs": [],
   "source": [
    "train_image_path = Path(\"../input/petfinder-pawpularity-score/train\")\n",
    "file_names = [f.name for f in train_image_path.iterdir() if f.suffix == \".jpg\"]"
   ]
  },
  {
   "cell_type": "code",
   "execution_count": 7,
   "metadata": {
    "execution": {
     "iopub.execute_input": "2021-12-05T21:58:13.029924Z",
     "iopub.status.busy": "2021-12-05T21:58:13.029570Z",
     "iopub.status.idle": "2021-12-05T21:58:14.917205Z",
     "shell.execute_reply": "2021-12-05T21:58:14.916450Z",
     "shell.execute_reply.started": "2021-12-05T21:58:13.029885Z"
    }
   },
   "outputs": [],
   "source": [
    "original_images = []\n",
    "images = []\n",
    "plt.figure(figsize=(15, 12))\n",
    "\n",
    "for filename in file_names[:9]:\n",
    "    image = Image.open(join(train_image_path, filename))\n",
    "  \n",
    "    plt.subplot(3, 3, len(images) + 1)\n",
    "    plt.imshow(image)\n",
    "    plt.xticks([])\n",
    "    plt.yticks([])\n",
    "\n",
    "    original_images.append(image)\n",
    "    images.append(preprocess(image))"
   ]
  },
  {
   "cell_type": "code",
   "execution_count": 8,
   "metadata": {
    "execution": {
     "iopub.execute_input": "2021-12-05T21:58:14.918584Z",
     "iopub.status.busy": "2021-12-05T21:58:14.918333Z",
     "iopub.status.idle": "2021-12-05T21:58:14.926174Z",
     "shell.execute_reply": "2021-12-05T21:58:14.925378Z",
     "shell.execute_reply.started": "2021-12-05T21:58:14.918552Z"
    }
   },
   "outputs": [],
   "source": [
    "texts = ['Cute',\n",
    "         'Funny',\n",
    "         'Derp', \n",
    "         'Small',\n",
    "         'Happy',\n",
    "         'Sad',\n",
    "         'Aggressive',\n",
    "         'Friendly',\n",
    "         'Old',\n",
    "         'Young',\n",
    "         'Love']"
   ]
  },
  {
   "cell_type": "code",
   "execution_count": 9,
   "metadata": {
    "execution": {
     "iopub.execute_input": "2021-12-05T21:58:14.928347Z",
     "iopub.status.busy": "2021-12-05T21:58:14.927895Z",
     "iopub.status.idle": "2021-12-05T21:58:14.943626Z",
     "shell.execute_reply": "2021-12-05T21:58:14.942854Z",
     "shell.execute_reply.started": "2021-12-05T21:58:14.928311Z"
    }
   },
   "outputs": [],
   "source": [
    "image_input = torch.tensor(np.stack(images)).cuda()\n",
    "text_tokens = clip.tokenize(texts).cuda()\n",
    "\n",
    "# text_tokens = clip.tokenize([f\"A {w} photo of a\" + w for w in texts]).cuda()"
   ]
  },
  {
   "cell_type": "code",
   "execution_count": 10,
   "metadata": {
    "execution": {
     "iopub.execute_input": "2021-12-05T21:58:14.945593Z",
     "iopub.status.busy": "2021-12-05T21:58:14.945119Z",
     "iopub.status.idle": "2021-12-05T21:58:20.296012Z",
     "shell.execute_reply": "2021-12-05T21:58:20.295213Z",
     "shell.execute_reply.started": "2021-12-05T21:58:14.945555Z"
    }
   },
   "outputs": [],
   "source": [
    "with torch.no_grad():\n",
    "    image_features = model.encode_image(image_input).float()\n",
    "    text_features = model.encode_text(text_tokens).float()\n",
    "\n",
    "image_features /= image_features.norm(dim=-1, keepdim=True)\n",
    "text_features /= text_features.norm(dim=-1, keepdim=True)\n",
    "\n",
    "similarity_matrix = torch.inner(text_features, image_features).cpu()"
   ]
  },
  {
   "cell_type": "code",
   "execution_count": 11,
   "metadata": {
    "execution": {
     "iopub.execute_input": "2021-12-05T21:58:20.297822Z",
     "iopub.status.busy": "2021-12-05T21:58:20.297570Z",
     "iopub.status.idle": "2021-12-05T21:58:21.487909Z",
     "shell.execute_reply": "2021-12-05T21:58:21.487267Z",
     "shell.execute_reply.started": "2021-12-05T21:58:20.297787Z"
    }
   },
   "outputs": [],
   "source": [
    "count = len(texts)\n",
    "\n",
    "plt.figure(figsize=(20, 16))\n",
    "plt.imshow(similarity_matrix, vmin=0.1, vmax=0.3, cmap = 'RdBu')\n",
    "\n",
    "plt.yticks(range(count), texts, fontsize=18)\n",
    "plt.xticks([])\n",
    "\n",
    "for i, image in enumerate(original_images):\n",
    "    plt.imshow(image, extent=(i - 0.5, i + 0.5, -1.6, -0.6), origin=\"lower\")\n",
    "for x in range(similarity_matrix.shape[1]):\n",
    "    for y in range(similarity_matrix.shape[0]):\n",
    "        plt.text(x, y, f\"{similarity_matrix[y, x]:.2f}\", ha=\"center\", va=\"center\", size=12)\n",
    "\n",
    "for side in [\"left\", \"top\", \"right\", \"bottom\"]:\n",
    "    plt.gca().spines[side].set_visible(False)\n",
    "\n",
    "plt.xlim([-0.5, count - 0.5])\n",
    "plt.ylim([count + 0.5, -2])\n",
    "\n",
    "plt.title(\"Cosine similarity matrix between text and image features\", size=20, loc='left')\n",
    "plt.show()"
   ]
  },
  {
   "cell_type": "code",
   "execution_count": 12,
   "metadata": {
    "execution": {
     "iopub.execute_input": "2021-12-05T21:58:21.489814Z",
     "iopub.status.busy": "2021-12-05T21:58:21.489333Z",
     "iopub.status.idle": "2021-12-05T21:58:21.496483Z",
     "shell.execute_reply": "2021-12-05T21:58:21.495792Z",
     "shell.execute_reply.started": "2021-12-05T21:58:21.489776Z"
    }
   },
   "outputs": [],
   "source": [
    "class PetDataset(Dataset):\n",
    "    def __init__(self, path):\n",
    "        self.path = path\n",
    "        self.files = [f for f in path.iterdir() if f.suffix == \".jpg\"]\n",
    "\n",
    "    def __len__(self):\n",
    "        return len(self.files)\n",
    "\n",
    "    def __getitem__(self, idx):\n",
    "        _im_path = self.files[idx]\n",
    "        _img = Image.open(_im_path)\n",
    "        _img = preprocess(_img)\n",
    "        return _img, _im_path.name.split('.')[0]"
   ]
  },
  {
   "cell_type": "code",
   "execution_count": 13,
   "metadata": {
    "execution": {
     "iopub.execute_input": "2021-12-05T21:58:21.498026Z",
     "iopub.status.busy": "2021-12-05T21:58:21.497680Z",
     "iopub.status.idle": "2021-12-05T21:58:21.507516Z",
     "shell.execute_reply": "2021-12-05T21:58:21.506675Z",
     "shell.execute_reply.started": "2021-12-05T21:58:21.497987Z"
    }
   },
   "outputs": [],
   "source": [
    "def create_similarity_features(dl):\n",
    "    features = []\n",
    "    names = []\n",
    "    with torch.no_grad():\n",
    "        for xb, name in dl:\n",
    "            xb = xb.cuda()\n",
    "            xb = model.encode_image(xb)\n",
    "            xb /= xb.norm(dim=-1, keepdim=True)\n",
    "            sim_matrix = torch.inner(text_features, xb.float()).cpu().numpy()\n",
    "            features.append(sim_matrix)\n",
    "            names.append(name)\n",
    "    return features, names"
   ]
  },
  {
   "cell_type": "code",
   "execution_count": 14,
   "metadata": {
    "execution": {
     "iopub.execute_input": "2021-12-05T21:58:21.509208Z",
     "iopub.status.busy": "2021-12-05T21:58:21.508578Z",
     "iopub.status.idle": "2021-12-05T22:02:24.516469Z",
     "shell.execute_reply": "2021-12-05T22:02:24.515671Z",
     "shell.execute_reply.started": "2021-12-05T21:58:21.509171Z"
    }
   },
   "outputs": [],
   "source": [
    "ds = PetDataset(train_image_path)\n",
    "dl = DataLoader(ds, batch_size = 400, shuffle=False)\n",
    "train_features, train_names = create_similarity_features(dl)"
   ]
  },
  {
   "cell_type": "code",
   "execution_count": 15,
   "metadata": {
    "execution": {
     "iopub.execute_input": "2021-12-05T22:02:24.518385Z",
     "iopub.status.busy": "2021-12-05T22:02:24.518114Z",
     "iopub.status.idle": "2021-12-05T22:02:25.878987Z",
     "shell.execute_reply": "2021-12-05T22:02:25.878274Z",
     "shell.execute_reply.started": "2021-12-05T22:02:24.518335Z"
    }
   },
   "outputs": [],
   "source": [
    "train_features_df = pd.DataFrame(np.hstack(train_features).T,\n",
    "                           index = np.hstack(train_names).T,\n",
    "                           columns = texts)\n",
    "df_corr = train_features_df.corr()\n",
    "plt.figure(figsize=(13,8))\n",
    "\n",
    "plt.title(\"Correlation matrix between engineered features\", size=20, loc='left') \n",
    "sns.heatmap(df_corr, cmap='RdBu', annot=True, linewidths=2)"
   ]
  },
  {
   "cell_type": "code",
   "execution_count": 16,
   "metadata": {
    "execution": {
     "iopub.execute_input": "2021-12-05T22:02:25.882871Z",
     "iopub.status.busy": "2021-12-05T22:02:25.882658Z",
     "iopub.status.idle": "2021-12-05T22:02:26.034103Z",
     "shell.execute_reply": "2021-12-05T22:02:26.033356Z",
     "shell.execute_reply.started": "2021-12-05T22:02:25.882843Z"
    }
   },
   "outputs": [],
   "source": [
    "# saving training features for later use\n",
    "train_features_df.to_csv('clip_features.csv')"
   ]
  },
  {
   "cell_type": "code",
   "execution_count": 17,
   "metadata": {
    "execution": {
     "iopub.execute_input": "2021-12-05T22:02:26.035570Z",
     "iopub.status.busy": "2021-12-05T22:02:26.035272Z",
     "iopub.status.idle": "2021-12-05T22:02:27.197426Z",
     "shell.execute_reply": "2021-12-05T22:02:27.196557Z",
     "shell.execute_reply.started": "2021-12-05T22:02:26.035532Z"
    }
   },
   "outputs": [],
   "source": [
    "from sklearn.metrics import mean_squared_error\n",
    "from xgboost import XGBRegressor\n",
    "from sklearn.linear_model import LinearRegression\n",
    "from catboost import CatBoostRegressor\n",
    "from sklearn.ensemble import RandomForestRegressor\n",
    "import optuna\n",
    "from functools import partial"
   ]
  },
  {
   "cell_type": "code",
   "execution_count": 18,
   "metadata": {
    "_kg_hide-output": true,
    "execution": {
     "iopub.execute_input": "2021-12-05T22:02:27.199283Z",
     "iopub.status.busy": "2021-12-05T22:02:27.199022Z",
     "iopub.status.idle": "2021-12-05T22:02:27.209823Z",
     "shell.execute_reply": "2021-12-05T22:02:27.208970Z",
     "shell.execute_reply.started": "2021-12-05T22:02:27.199248Z"
    }
   },
   "outputs": [],
   "source": [
    "def run(trial, fold, df, useful_features):\n",
    "    '''learning_rate = trial.suggest_float(\"learning_rate\", 1e-2, 0.25, log=True)\n",
    "    reg_lambda = trial.suggest_loguniform(\"reg_lambda\", 1e-8, 100.0)\n",
    "    reg_alpha = trial.suggest_loguniform(\"reg_alpha\", 1e-8, 100.0)\n",
    "    subsample = trial.suggest_float(\"subsample\", 0.1, 1.0)\n",
    "    colsample_bytree = trial.suggest_float(\"colsample_bytree\", 0.1, 1.0)\n",
    "    max_depth = trial.suggest_int(\"max_depth\", 1, 7)'''\n",
    "    \n",
    "    criterion = trial.suggest_categorical('criterion', ['mse', 'mae'])\n",
    "    bootstrap = trial.suggest_categorical('bootstrap',['True','False'])\n",
    "    max_depth = trial.suggest_int('max_depth', 1, 100)\n",
    "    max_features = trial.suggest_categorical('max_features', ['auto', 'sqrt','log2'])\n",
    "    max_leaf_nodes = trial.suggest_int('max_leaf_nodes', 1, 1000)\n",
    "    n_estimators =  trial.suggest_int('n_estimators', 30, 500)\n",
    "    \n",
    "    model = RandomForestRegressor(bootstrap = bootstrap, criterion = criterion,\n",
    "                                 max_depth = max_depth, max_features = max_features,\n",
    "                                 max_leaf_nodes = max_leaf_nodes,n_estimators = n_estimators,n_jobs=2)\n",
    "    \n",
    "    xtrain = df[df.kfold != fold].reset_index(drop=True)\n",
    "    xvalid = df[df.kfold == fold].reset_index(drop=True)\n",
    "\n",
    "    ytrain = xtrain.Pawpularity\n",
    "    yvalid = xvalid.Pawpularity\n",
    "\n",
    "    xtrain = xtrain[useful_features]\n",
    "    xvalid = xvalid[useful_features]\n",
    "\n",
    "   \n",
    "    model.fit(xtrain, ytrain)\n",
    "    preds_valid = model.predict(xvalid)\n",
    "    rmse = mean_squared_error(yvalid, preds_valid, squared=False)\n",
    "    return rmse"
   ]
  },
  {
   "cell_type": "code",
   "execution_count": 19,
   "metadata": {
    "execution": {
     "iopub.execute_input": "2021-12-05T22:02:27.211943Z",
     "iopub.status.busy": "2021-12-05T22:02:27.211371Z",
     "iopub.status.idle": "2021-12-05T22:02:27.260918Z",
     "shell.execute_reply": "2021-12-05T22:02:27.260197Z",
     "shell.execute_reply.started": "2021-12-05T22:02:27.211893Z"
    }
   },
   "outputs": [],
   "source": [
    "train_df = pd.read_csv(\"../input/same-old-creating-folds/train_10folds.csv\")\n",
    "test_df = pd.read_csv(\"../input/petfinder-pawpularity-score/test.csv\")\n",
    "sample_submission = pd.read_csv(\"../input/petfinder-pawpularity-score/sample_submission.csv\")\n",
    "test_image_path = train_image_path = Path(\"../input/petfinder-pawpularity-score/test\")\n",
    "\n",
    "useful_features = [\n",
    "    'Subject Focus', 'Eyes', 'Face', 'Near', 'Action', 'Accessory',\n",
    "    'Group', 'Collage', 'Human', 'Occlusion', 'Info', 'Blur',\n",
    "    'Cute', 'Funny', 'Derp', 'Small', 'Happy', 'Sad', 'Aggressive',\n",
    "    'Friendly', 'Old', 'Young', 'Love']"
   ]
  },
  {
   "cell_type": "code",
   "execution_count": 20,
   "metadata": {
    "execution": {
     "iopub.execute_input": "2021-12-05T22:02:27.262312Z",
     "iopub.status.busy": "2021-12-05T22:02:27.262062Z",
     "iopub.status.idle": "2021-12-05T22:02:27.336735Z",
     "shell.execute_reply": "2021-12-05T22:02:27.335788Z",
     "shell.execute_reply.started": "2021-12-05T22:02:27.262277Z"
    }
   },
   "outputs": [],
   "source": [
    "ds = PetDataset(test_image_path)\n",
    "dl = DataLoader(ds, batch_size = 400, shuffle=False)\n",
    "test_features, test_names = create_similarity_features(dl)\n",
    "\n",
    "test_features_df = pd.DataFrame(np.hstack(test_features).T,\n",
    "                                index = np.hstack(test_names).T,\n",
    "                                columns = texts)"
   ]
  },
  {
   "cell_type": "code",
   "execution_count": 21,
   "metadata": {
    "execution": {
     "iopub.execute_input": "2021-12-05T22:02:27.338492Z",
     "iopub.status.busy": "2021-12-05T22:02:27.338229Z",
     "iopub.status.idle": "2021-12-05T22:02:27.360075Z",
     "shell.execute_reply": "2021-12-05T22:02:27.359285Z",
     "shell.execute_reply.started": "2021-12-05T22:02:27.338457Z"
    }
   },
   "outputs": [],
   "source": [
    "train_df = train_df.join(train_features_df, on = 'Id')\n",
    "test_df = test_df.join(test_features_df, on = 'Id')"
   ]
  },
  {
   "cell_type": "code",
   "execution_count": 22,
   "metadata": {
    "_kg_hide-output": true,
    "execution": {
     "iopub.execute_input": "2021-12-05T22:02:27.362051Z",
     "iopub.status.busy": "2021-12-05T22:02:27.361377Z",
     "iopub.status.idle": "2021-12-05T22:30:34.194149Z",
     "shell.execute_reply": "2021-12-05T22:30:34.193388Z",
     "shell.execute_reply.started": "2021-12-05T22:02:27.362010Z"
    }
   },
   "outputs": [],
   "source": [
    "opt_fun = partial(\n",
    "    run,\n",
    "    fold=0,\n",
    "    df=train_df,\n",
    "    useful_features=useful_features,\n",
    ")\n",
    "\n",
    "#study = optuna.create_study(direction=\"minimize\")\n",
    "#study.optimize(opt_fun, n_trials=200)\n",
    "\n",
    "\n",
    "\n",
    "\n",
    "study = optuna.create_study(direction='minimize')\n",
    "study.optimize(opt_fun, n_trials=20)\n",
    "print(study.best_params)\n",
    "\n",
    "\n",
    "#learn\n",
    "#optimised_rf.fit(X_train ,y_train)"
   ]
  },
  {
   "cell_type": "code",
   "execution_count": 35,
   "metadata": {
    "execution": {
     "iopub.execute_input": "2021-12-05T22:38:04.396586Z",
     "iopub.status.busy": "2021-12-05T22:38:04.396029Z",
     "iopub.status.idle": "2021-12-05T22:38:04.400532Z",
     "shell.execute_reply": "2021-12-05T22:38:04.399806Z",
     "shell.execute_reply.started": "2021-12-05T22:38:04.396546Z"
    }
   },
   "outputs": [],
   "source": [
    "study.best_value, study.best_params\n",
    "rmse_list=[]\n",
    "rmse_list1=[]"
   ]
  },
  {
   "cell_type": "code",
   "execution_count": 36,
   "metadata": {
    "execution": {
     "iopub.execute_input": "2021-12-05T22:38:07.437981Z",
     "iopub.status.busy": "2021-12-05T22:38:07.437505Z",
     "iopub.status.idle": "2021-12-05T22:38:07.446988Z",
     "shell.execute_reply": "2021-12-05T22:38:07.446173Z",
     "shell.execute_reply.started": "2021-12-05T22:38:07.437945Z"
    }
   },
   "outputs": [],
   "source": [
    "def generate_predictions(params, fold, df, df_test, useful_features):    \n",
    "    xtrain = df[df.kfold != fold].reset_index(drop=True)\n",
    "    xvalid = df[df.kfold == fold].reset_index(drop=True)\n",
    "    xtest = df_test.copy()\n",
    "\n",
    "    ytrain = xtrain.Pawpularity\n",
    "    yvalid = xvalid.Pawpularity\n",
    "\n",
    "    xtrain = xtrain[useful_features]\n",
    "    xvalid = xvalid[useful_features]\n",
    "    xtest = xtest[useful_features]\n",
    "\n",
    "    model = RandomForestRegressor(bootstrap = study.best_params['bootstrap'], criterion = study.best_params['criterion'],\n",
    "                                     max_depth = study.best_params['max_depth'], max_features = study.best_params['max_features'],\n",
    "                                     max_leaf_nodes = study.best_params['max_leaf_nodes'],n_estimators = study.best_params['n_estimators'],\n",
    "                                     n_jobs=2)\n",
    "    model.fit(xtrain, ytrain)\n",
    "    preds_valid = model.predict(xvalid)\n",
    "    test_preds = model.predict(xtest)\n",
    "    rmse = mean_squared_error(yvalid, preds_valid, squared=False)\n",
    "    rmse_list.append(rmse)\n",
    "    print(rmse)\n",
    "    return test_preds"
   ]
  },
  {
   "cell_type": "code",
   "execution_count": 37,
   "metadata": {
    "execution": {
     "iopub.execute_input": "2021-12-05T22:38:09.926599Z",
     "iopub.status.busy": "2021-12-05T22:38:09.925938Z",
     "iopub.status.idle": "2021-12-05T22:38:09.934051Z",
     "shell.execute_reply": "2021-12-05T22:38:09.933336Z",
     "shell.execute_reply.started": "2021-12-05T22:38:09.926558Z"
    }
   },
   "outputs": [],
   "source": [
    "def generate_predictions1(params, fold, df, df_test, useful_features):    \n",
    "    xtrain = df[df.kfold != fold].reset_index(drop=True)\n",
    "    xvalid = df[df.kfold == fold].reset_index(drop=True)\n",
    "    xtest = df_test.copy()\n",
    "\n",
    "    ytrain = xtrain.Pawpularity\n",
    "    yvalid = xvalid.Pawpularity\n",
    "\n",
    "    xtrain = xtrain[useful_features]\n",
    "    xvalid = xvalid[useful_features]\n",
    "    xtest = xtest[useful_features]\n",
    "\n",
    "    model = RandomForestRegressor(n_estimators = 100, max_depth = 10)\n",
    "    model.fit(xtrain, ytrain)\n",
    "    preds_valid = model.predict(xvalid)\n",
    "    test_preds = model.predict(xtest)\n",
    "    rmse = mean_squared_error(yvalid, preds_valid, squared=False)\n",
    "    rmse_list1.append(rmse)\n",
    "    print(rmse)\n",
    "    return test_preds"
   ]
  },
  {
   "cell_type": "code",
   "execution_count": 38,
   "metadata": {
    "execution": {
     "iopub.execute_input": "2021-12-05T22:38:14.696920Z",
     "iopub.status.busy": "2021-12-05T22:38:14.696343Z",
     "iopub.status.idle": "2021-12-05T22:38:40.004293Z",
     "shell.execute_reply": "2021-12-05T22:38:40.003538Z",
     "shell.execute_reply.started": "2021-12-05T22:38:14.696883Z"
    }
   },
   "outputs": [],
   "source": [
    "final_predictions = []\n",
    "for fold_ in range(10):\n",
    "    final_predictions.append(\n",
    "        generate_predictions(\n",
    "            study.best_params,\n",
    "            fold=fold_,\n",
    "            df=train_df,\n",
    "            df_test=test_df,\n",
    "            useful_features=useful_features,\n",
    "        )\n",
    "    )"
   ]
  },
  {
   "cell_type": "code",
   "execution_count": 39,
   "metadata": {
    "execution": {
     "iopub.execute_input": "2021-12-05T22:38:40.006703Z",
     "iopub.status.busy": "2021-12-05T22:38:40.006440Z",
     "iopub.status.idle": "2021-12-05T22:39:39.498951Z",
     "shell.execute_reply": "2021-12-05T22:39:39.498170Z",
     "shell.execute_reply.started": "2021-12-05T22:38:40.006667Z"
    }
   },
   "outputs": [],
   "source": [
    "final_predictions1 = []\n",
    "for fold_ in range(10):\n",
    "    final_predictions1.append(\n",
    "        generate_predictions1(\n",
    "            study.best_params,\n",
    "            fold=fold_,\n",
    "            df=train_df,\n",
    "            df_test=test_df,\n",
    "            useful_features=useful_features,\n",
    "        )\n",
    "    )"
   ]
  },
  {
   "cell_type": "code",
   "execution_count": 40,
   "metadata": {
    "execution": {
     "iopub.execute_input": "2021-12-05T22:39:39.505756Z",
     "iopub.status.busy": "2021-12-05T22:39:39.503537Z",
     "iopub.status.idle": "2021-12-05T22:39:39.821713Z",
     "shell.execute_reply": "2021-12-05T22:39:39.821075Z",
     "shell.execute_reply.started": "2021-12-05T22:39:39.505717Z"
    }
   },
   "outputs": [],
   "source": [
    "final_predictions = np.mean(np.column_stack(final_predictions), axis=1)\n",
    "sample_submission.Pawpularity = final_predictions\n",
    "sample_submission.to_csv(\"submission.csv\", index=False)\n",
    "print(rmse_list)\n",
    "import matplotlib.pyplot as plt\n",
    "for i in range(fold_):\n",
    "    plt.plot(rmse_list,label ='Valid Accuracies')\n",
    "    #plt.plot(Result_set[\"rmse_valid\"],label ='Valid Accuracies')\n",
    "#plt.plot(len(Model_list))\n",
    "plt.xlabel('Local Test Scores')\n",
    "#plt.legend()\n",
    "plt.ylabel('Number of folds')\n",
    "\n",
    "plt.title('Local Test Scores for each and every fold')\n",
    "plt.show()\n",
    "plt.savefig('random_forest_CLIP.png')"
   ]
  },
  {
   "cell_type": "code",
   "execution_count": 41,
   "metadata": {
    "execution": {
     "iopub.execute_input": "2021-12-05T22:39:39.828030Z",
     "iopub.status.busy": "2021-12-05T22:39:39.826031Z",
     "iopub.status.idle": "2021-12-05T22:39:40.091318Z",
     "shell.execute_reply": "2021-12-05T22:39:40.090638Z",
     "shell.execute_reply.started": "2021-12-05T22:39:39.827992Z"
    }
   },
   "outputs": [],
   "source": [
    "final_predictions1 = np.mean(np.column_stack(final_predictions1), axis=1)\n",
    "sample_submission.Pawpularity = final_predictions1\n",
    "sample_submission.to_csv(\"submission1.csv\", index=False)\n",
    "print(rmse_list)\n",
    "import matplotlib.pyplot as plt\n",
    "for i in range(10):\n",
    "    plt.plot(rmse_list,label ='Valid Accuracies')\n",
    "    #plt.plot(Result_set[\"rmse_valid\"],label ='Valid Accuracies')\n",
    "#plt.plot(len(Model_list))\n",
    "plt.xlabel('Local Test Scores')\n",
    "#plt.legend()\n",
    "plt.ylabel('Number of folds')\n",
    "\n",
    "plt.title('Local Test Scores for each and every fold')\n",
    "plt.show()\n",
    "plt.savefig('random_forest_optuna_NOCLIP.png')"
   ]
  }
 ],
 "metadata": {
  "kernelspec": {
   "display_name": "Python 3 (ipykernel)",
   "language": "python",
   "name": "python3"
  },
  "language_info": {
   "codemirror_mode": {
    "name": "ipython",
    "version": 3
   },
   "file_extension": ".py",
   "mimetype": "text/x-python",
   "name": "python",
   "nbconvert_exporter": "python",
   "pygments_lexer": "ipython3",
   "version": "3.9.0"
  }
 },
 "nbformat": 4,
 "nbformat_minor": 4
}
