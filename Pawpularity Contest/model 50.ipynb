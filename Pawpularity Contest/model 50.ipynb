{
 "cells": [
  {
   "cell_type": "code",
   "execution_count": null,
   "metadata": {
    "_cell_guid": "b1076dfc-b9ad-4769-8c92-a6c4dae69d19",
    "_uuid": "8f2839f25d086af736a60e9eeb907d3b93b6e0e5",
    "execution": {
     "iopub.execute_input": "2021-12-06T22:58:47.227106Z",
     "iopub.status.busy": "2021-12-06T22:58:47.226743Z",
     "iopub.status.idle": "2021-12-06T22:58:47.31189Z",
     "shell.execute_reply": "2021-12-06T22:58:47.31095Z",
     "shell.execute_reply.started": "2021-12-06T22:58:47.227064Z"
    }
   },
   "outputs": [],
   "source": [
    "import numpy as np\n",
    "import pandas as pd\n",
    "\n",
    "import tensorflow as tf\n",
    "from tensorflow import keras\n",
    "import tensorflow.keras.layers as tfl\n",
    "from tensorflow.data import Dataset as ds\n",
    "from keras.layers import LeakyReLU\n",
    "\n",
    "from sklearn.model_selection import train_test_split, KFold\n",
    "from sklearn.decomposition import PCA\n",
    "from sklearn.preprocessing import MinMaxScaler\n",
    "from sklearn.metrics import mean_squared_error\n",
    "\n",
    "from sklearn.cluster import KMeans\n",
    "\n",
    "from PIL import Image\n",
    "import os\n",
    "import warnings\n",
    "\n",
    "warnings.filterwarnings('ignore')\n",
    "\n",
    "np.random.seed(0)\n",
    "tf.random.set_seed(0)"
   ]
  },
  {
   "cell_type": "code",
   "execution_count": null,
   "metadata": {
    "execution": {
     "iopub.execute_input": "2021-12-06T22:58:47.327818Z",
     "iopub.status.busy": "2021-12-06T22:58:47.327088Z",
     "iopub.status.idle": "2021-12-06T22:58:47.350933Z",
     "shell.execute_reply": "2021-12-06T22:58:47.349457Z",
     "shell.execute_reply.started": "2021-12-06T22:58:47.327763Z"
    }
   },
   "outputs": [],
   "source": [
    "strategy = tf.distribute.MirroredStrategy() # for GPU or multi-GPU machines\n",
    "print(\"Number of accelerators: \", strategy.num_replicas_in_sync)"
   ]
  },
  {
   "cell_type": "code",
   "execution_count": null,
   "metadata": {
    "execution": {
     "iopub.execute_input": "2021-12-06T22:58:47.353435Z",
     "iopub.status.busy": "2021-12-06T22:58:47.352792Z",
     "iopub.status.idle": "2021-12-06T22:58:47.420434Z",
     "shell.execute_reply": "2021-12-06T22:58:47.419112Z",
     "shell.execute_reply.started": "2021-12-06T22:58:47.353369Z"
    }
   },
   "outputs": [],
   "source": [
    "train = pd.read_csv('/kaggle/input/petfinder-pawpularity-score/train.csv')\n",
    "train['path'] = '/kaggle/input/petfinder-pawpularity-score/train/' + train['Id'] + '.jpg'\n",
    "train.head(3)"
   ]
  },
  {
   "cell_type": "code",
   "execution_count": null,
   "metadata": {
    "execution": {
     "iopub.execute_input": "2021-12-06T22:58:47.432038Z",
     "iopub.status.busy": "2021-12-06T22:58:47.428464Z",
     "iopub.status.idle": "2021-12-06T22:58:47.446826Z",
     "shell.execute_reply": "2021-12-06T22:58:47.445456Z",
     "shell.execute_reply.started": "2021-12-06T22:58:47.431977Z"
    }
   },
   "outputs": [],
   "source": [
    "test = pd.read_csv('/kaggle/input/petfinder-pawpularity-score/test.csv')\n",
    "test['path'] = '/kaggle/input/petfinder-pawpularity-score/test/' + test['Id'] + '.jpg'"
   ]
  },
  {
   "cell_type": "code",
   "execution_count": null,
   "metadata": {
    "execution": {
     "iopub.execute_input": "2021-12-06T22:58:47.449754Z",
     "iopub.status.busy": "2021-12-06T22:58:47.44937Z",
     "iopub.status.idle": "2021-12-06T22:58:47.458269Z",
     "shell.execute_reply": "2021-12-06T22:58:47.457164Z",
     "shell.execute_reply.started": "2021-12-06T22:58:47.449705Z"
    }
   },
   "outputs": [],
   "source": [
    "def size_and_shape(row):\n",
    "    img = Image.open(row['path'])\n",
    "    return pd.Series([img.size[0], img.size[1], os.path.getsize(row['path'])])"
   ]
  },
  {
   "cell_type": "code",
   "execution_count": null,
   "metadata": {
    "execution": {
     "iopub.execute_input": "2021-12-06T22:58:47.461145Z",
     "iopub.status.busy": "2021-12-06T22:58:47.460358Z",
     "iopub.status.idle": "2021-12-06T22:58:59.043844Z",
     "shell.execute_reply": "2021-12-06T22:58:59.042668Z",
     "shell.execute_reply.started": "2021-12-06T22:58:47.461095Z"
    }
   },
   "outputs": [],
   "source": [
    "scale = MinMaxScaler()\n",
    "\n",
    "train[['width', 'height', 'size']] = pd.DataFrame(scale.fit_transform(train.apply(size_and_shape, axis=1).values))\n",
    "test[['width', 'height', 'size']] = pd.DataFrame(scale.transform(test.apply(size_and_shape, axis=1).values))"
   ]
  },
  {
   "cell_type": "code",
   "execution_count": null,
   "metadata": {
    "execution": {
     "iopub.execute_input": "2021-12-06T22:58:59.046668Z",
     "iopub.status.busy": "2021-12-06T22:58:59.046287Z",
     "iopub.status.idle": "2021-12-06T22:58:59.832765Z",
     "shell.execute_reply": "2021-12-06T22:58:59.831918Z",
     "shell.execute_reply.started": "2021-12-06T22:58:59.046622Z"
    }
   },
   "outputs": [],
   "source": [
    "k = KMeans(8, random_state=0)\n",
    "\n",
    "train['cluster'] = k.fit_predict(train.drop(['Id', 'Pawpularity', 'path'], axis=1))\n",
    "test['cluster'] = k.predict(test.drop(['Id', 'path'], axis=1))"
   ]
  },
  {
   "cell_type": "code",
   "execution_count": null,
   "metadata": {
    "execution": {
     "iopub.execute_input": "2021-12-06T22:58:59.843263Z",
     "iopub.status.busy": "2021-12-06T22:58:59.839248Z",
     "iopub.status.idle": "2021-12-06T22:58:59.87838Z",
     "shell.execute_reply": "2021-12-06T22:58:59.877573Z",
     "shell.execute_reply.started": "2021-12-06T22:58:59.843209Z"
    }
   },
   "outputs": [],
   "source": [
    "p = PCA(random_state=0)\n",
    "\n",
    "train = train.join(pd.DataFrame(p.fit_transform(train.drop(['Id', 'Pawpularity', 'path'], axis=1))))\n",
    "test = test.join(pd.DataFrame(p.transform(test.drop(['Id', 'path'], axis=1))))"
   ]
  },
  {
   "cell_type": "code",
   "execution_count": null,
   "metadata": {
    "execution": {
     "iopub.execute_input": "2021-12-06T22:58:59.887165Z",
     "iopub.status.busy": "2021-12-06T22:58:59.884003Z",
     "iopub.status.idle": "2021-12-06T22:58:59.908427Z",
     "shell.execute_reply": "2021-12-06T22:58:59.907687Z",
     "shell.execute_reply.started": "2021-12-06T22:58:59.887122Z"
    }
   },
   "outputs": [],
   "source": [
    "train, val= train_test_split(train, test_size=0.2, random_state=0)"
   ]
  },
  {
   "cell_type": "code",
   "execution_count": null,
   "metadata": {
    "execution": {
     "iopub.execute_input": "2021-12-06T22:58:59.921489Z",
     "iopub.status.busy": "2021-12-06T22:58:59.917541Z",
     "iopub.status.idle": "2021-12-06T22:58:59.930708Z",
     "shell.execute_reply": "2021-12-06T22:58:59.92984Z",
     "shell.execute_reply.started": "2021-12-06T22:58:59.921447Z"
    }
   },
   "outputs": [],
   "source": [
    "AUTOTUNE = tf.data.experimental.AUTOTUNE\n",
    "IMG_SIZE = 299\n",
    "BATCH_SIZE = 64"
   ]
  },
  {
   "cell_type": "code",
   "execution_count": null,
   "metadata": {
    "execution": {
     "iopub.execute_input": "2021-12-06T22:58:59.942026Z",
     "iopub.status.busy": "2021-12-06T22:58:59.938437Z",
     "iopub.status.idle": "2021-12-06T22:58:59.973322Z",
     "shell.execute_reply": "2021-12-06T22:58:59.972295Z",
     "shell.execute_reply.started": "2021-12-06T22:58:59.941985Z"
    }
   },
   "outputs": [],
   "source": [
    "train = train[['Pawpularity']].join(train.drop('Pawpularity', axis=1))\n",
    "val = val[['Pawpularity']].join(val.drop('Pawpularity', axis=1))"
   ]
  },
  {
   "cell_type": "code",
   "execution_count": null,
   "metadata": {
    "execution": {
     "iopub.execute_input": "2021-12-06T22:58:59.975085Z",
     "iopub.status.busy": "2021-12-06T22:58:59.974769Z",
     "iopub.status.idle": "2021-12-06T22:58:59.994642Z",
     "shell.execute_reply": "2021-12-06T22:58:59.993606Z",
     "shell.execute_reply.started": "2021-12-06T22:58:59.975039Z"
    }
   },
   "outputs": [],
   "source": [
    "def process_data(path, meta, augment=False, label=True):\n",
    "    img = tf.io.decode_jpeg(tf.io.read_file(path), channels=3)\n",
    "    img = tf.cast(img, dtype=tf.float32)\n",
    "    img = tf.image.central_crop(img, 1.0)\n",
    "    img = tf.image.resize(img, (IMG_SIZE, IMG_SIZE))\n",
    "#     img = keras.applications.efficientnet.preprocess_input(img)\n",
    "    img = keras.applications.inception_resnet_v2.preprocess_input(img)\n",
    "    img = tf.cast(img, dtype=tf.float64)\n",
    "    \n",
    "    if augment:\n",
    "        img = tf.image.random_flip_left_right(img)\n",
    "        img = tf.image.random_brightness(img, 0.1)\n",
    "        img = tf.image.random_saturation(img, 0.9, 1.1)\n",
    "        img = tf.image.random_contrast(img, 0.9, 1.1)\n",
    "        \n",
    "    if label:\n",
    "        return (img, meta[1:]), meta[0]\n",
    "\n",
    "    return (img, meta), 0"
   ]
  },
  {
   "cell_type": "code",
   "execution_count": null,
   "metadata": {
    "execution": {
     "iopub.execute_input": "2021-12-06T22:58:59.996379Z",
     "iopub.status.busy": "2021-12-06T22:58:59.996049Z",
     "iopub.status.idle": "2021-12-06T22:59:00.046743Z",
     "shell.execute_reply": "2021-12-06T22:59:00.045808Z",
     "shell.execute_reply.started": "2021-12-06T22:58:59.996334Z"
    }
   },
   "outputs": [],
   "source": [
    "# train_ds = tf.data.Dataset.from_tensor_slices((train['path'], train.drop(['path', 'Id'], axis=1).astype(float))).map(lambda x,y: process_data(x, y, True)).batch(BATCH_SIZE).prefetch(AUTOTUNE)\n",
    "# val_ds = tf.data.Dataset.from_tensor_slices((val['path'], val.drop(['path', 'Id'], axis=1).astype(float))).map(process_data).batch(BATCH_SIZE).prefetch(AUTOTUNE)\n",
    "test_ds = ds.from_tensor_slices((test['path'], test.drop(['path', 'Id'], axis=1).astype(float))).map(lambda x,y: process_data(x, y, False, False)).batch(BATCH_SIZE).prefetch(AUTOTUNE)"
   ]
  },
  {
   "cell_type": "code",
   "execution_count": null,
   "metadata": {
    "execution": {
     "iopub.execute_input": "2021-12-06T22:59:00.048506Z",
     "iopub.status.busy": "2021-12-06T22:59:00.048123Z",
     "iopub.status.idle": "2021-12-06T22:59:10.76479Z",
     "shell.execute_reply": "2021-12-06T22:59:10.763736Z",
     "shell.execute_reply.started": "2021-12-06T22:59:00.048458Z"
    }
   },
   "outputs": [],
   "source": [
    "# eff_model = keras.models.load_model('/kaggle/input/keras-applications-models/EfficientNetB7.h5')\n",
    "eff_model = keras.models.load_model('../input/keras-applications-models/InceptionResNetV2.h5')\n",
    "eff_model.trainable = False\n",
    "\n",
    "def get_model():\n",
    "    img_input = tfl.Input(shape=(IMG_SIZE, IMG_SIZE, 3))\n",
    "    meta_input = tfl.Input(shape=(32,))\n",
    "    X = eff_model(img_input)\n",
    "    X = tfl.BatchNormalization()(X)\n",
    "    con = tfl.concatenate([X, meta_input])\n",
    "    X = tfl.Dense(64, activation='relu')(con)\n",
    "    X = tfl.Dense(64, activation='relu')(X)\n",
    "    X = tfl.Dropout(0.3)(X)\n",
    "    out = tfl.Dense(1)(X)\n",
    "    model = keras.Model(inputs=[img_input, meta_input], outputs=out)\n",
    "    \n",
    "    return model"
   ]
  },
  {
   "cell_type": "code",
   "execution_count": null,
   "metadata": {
    "execution": {
     "iopub.execute_input": "2021-12-06T22:59:10.766736Z",
     "iopub.status.busy": "2021-12-06T22:59:10.766411Z",
     "iopub.status.idle": "2021-12-06T22:59:12.571106Z",
     "shell.execute_reply": "2021-12-06T22:59:12.570121Z",
     "shell.execute_reply.started": "2021-12-06T22:59:10.766692Z"
    }
   },
   "outputs": [],
   "source": [
    "model = get_model()"
   ]
  },
  {
   "cell_type": "code",
   "execution_count": null,
   "metadata": {
    "execution": {
     "iopub.execute_input": "2021-12-06T22:59:12.573137Z",
     "iopub.status.busy": "2021-12-06T22:59:12.572795Z",
     "iopub.status.idle": "2021-12-06T22:59:12.885446Z",
     "shell.execute_reply": "2021-12-06T22:59:12.884343Z",
     "shell.execute_reply.started": "2021-12-06T22:59:12.573088Z"
    }
   },
   "outputs": [],
   "source": [
    "tf.keras.utils.plot_model(model, show_shapes=True)"
   ]
  },
  {
   "cell_type": "code",
   "execution_count": null,
   "metadata": {
    "execution": {
     "iopub.execute_input": "2021-12-06T22:59:12.888736Z",
     "iopub.status.busy": "2021-12-06T22:59:12.887578Z",
     "iopub.status.idle": "2021-12-06T22:59:12.894924Z",
     "shell.execute_reply": "2021-12-06T22:59:12.893461Z",
     "shell.execute_reply.started": "2021-12-06T22:59:12.888681Z"
    }
   },
   "outputs": [],
   "source": [
    "k = 5\n",
    "fold = KFold(k,shuffle=True)"
   ]
  },
  {
   "cell_type": "code",
   "execution_count": null,
   "metadata": {
    "execution": {
     "iopub.execute_input": "2021-12-06T22:59:12.897661Z",
     "iopub.status.busy": "2021-12-06T22:59:12.896974Z"
    }
   },
   "outputs": [],
   "source": [
    "models = []\n",
    "histories = []\n",
    "\n",
    "def rmse(y_true, y_pred):\n",
    "    return tf.sqrt(tf.reduce_mean((y_true -  y_pred) ** 2))\n",
    "\n",
    "for i, (t_ids, v_ids) in enumerate(fold.split(train)):\n",
    "    \n",
    "    keras.backend.clear_session()\n",
    "\n",
    "    print(\"\\n\\n===========================================================================================\\n\")\n",
    "    train_ds = ds.from_tensor_slices((train.iloc[t_ids]['path'], train.iloc[t_ids].drop(['path', 'Id'], axis=1).astype(float))).map(lambda x,y: process_data(x, y, True)).batch(BATCH_SIZE).prefetch(AUTOTUNE)\n",
    "    \n",
    "    val_ds = ds.from_tensor_slices((train.iloc[v_ids]['path'], train.iloc[v_ids].drop(['path', 'Id'], axis=1).astype(float))).map(process_data).batch(BATCH_SIZE).prefetch(AUTOTUNE)\n",
    "    \n",
    "    model = get_model()\n",
    "    \n",
    "    checkpoint_path = \"model_%d.h5\"%(i)\n",
    "    checkpoint = tf.keras.callbacks.ModelCheckpoint(\n",
    "        checkpoint_path, \n",
    "        save_best_only=True\n",
    "    )\n",
    "    \n",
    "    early_stop = keras.callbacks.EarlyStopping(\n",
    "        patience=3,\n",
    "        verbose=1,\n",
    "        restore_best_weights=True)\n",
    "    \n",
    "    reduce_lr = tf.keras.callbacks.ReduceLROnPlateau(\n",
    "        factor=0.1,\n",
    "        verbose=1,\n",
    "        patience=2,\n",
    "        min_lr=1e-7\n",
    "    )\n",
    "    \n",
    "#     callbacks = [checkpoint, early_stop, reduce_lr]\n",
    "#     callbacks = [checkpoint, early_stop]\n",
    "\n",
    "    lr_schedule = keras.optimizers.schedules.ExponentialDecay(\n",
    "        initial_learning_rate=1e-3,\n",
    "        decay_steps=1000,\n",
    "        decay_rate=0.9,\n",
    "        staircase=True)\n",
    "    \n",
    "    model.compile(keras.optimizers.Adam(\n",
    "        learning_rate=lr_schedule), \n",
    "        loss='mse', \n",
    "        metrics=[keras.metrics.RootMeanSquaredError()])\n",
    "\n",
    "    history = model.fit(train_ds,\n",
    "                        validation_data=val_ds,\n",
    "                        epochs=20,\n",
    "                        callbacks=[early_stop])\n",
    "\n",
    "    models.append(model)\n",
    "    histories.append(history)"
   ]
  },
  {
   "cell_type": "code",
   "execution_count": null,
   "metadata": {},
   "outputs": [],
   "source": [
    "# preds = model.predict(test_ds)\n",
    "preds = models[0].predict(test_ds)/k\n",
    "\n",
    "for i in range(1,k):\n",
    "    preds += models[i].predict(test_ds)/k"
   ]
  },
  {
   "cell_type": "code",
   "execution_count": null,
   "metadata": {},
   "outputs": [],
   "source": [
    "preds"
   ]
  },
  {
   "cell_type": "code",
   "execution_count": null,
   "metadata": {},
   "outputs": [],
   "source": [
    "test['Pawpularity'] = preds\n",
    "test[['Id', 'Pawpularity']].to_csv('submission.csv', index=False)"
   ]
  },
  {
   "cell_type": "code",
   "execution_count": null,
   "metadata": {},
   "outputs": [],
   "source": []
  }
 ],
 "metadata": {
  "kernelspec": {
   "display_name": "Python 3 (ipykernel)",
   "language": "python",
   "name": "python3"
  },
  "language_info": {
   "codemirror_mode": {
    "name": "ipython",
    "version": 3
   },
   "file_extension": ".py",
   "mimetype": "text/x-python",
   "name": "python",
   "nbconvert_exporter": "python",
   "pygments_lexer": "ipython3",
   "version": "3.9.0"
  }
 },
 "nbformat": 4,
 "nbformat_minor": 4
}
