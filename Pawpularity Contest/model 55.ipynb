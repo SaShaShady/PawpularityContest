{
 "cells": [
  {
   "cell_type": "code",
   "execution_count": 58,
   "metadata": {
    "_cell_guid": "b1076dfc-b9ad-4769-8c92-a6c4dae69d19",
    "_uuid": "8f2839f25d086af736a60e9eeb907d3b93b6e0e5",
    "execution": {
     "iopub.execute_input": "2021-12-14T01:42:13.341752Z",
     "iopub.status.busy": "2021-12-14T01:42:13.341479Z",
     "iopub.status.idle": "2021-12-14T01:42:13.346729Z",
     "shell.execute_reply": "2021-12-14T01:42:13.346009Z",
     "shell.execute_reply.started": "2021-12-14T01:42:13.341723Z"
    }
   },
   "outputs": [],
   "source": [
    "import os\n",
    "import random\n",
    "\n",
    "import pandas as pd\n",
    "import numpy as np\n",
    "\n",
    "import tensorflow as tf\n",
    "from sklearn.model_selection import train_test_split\n",
    "\n",
    "import matplotlib.pyplot as plt\n",
    "import seaborn as sns"
   ]
  },
  {
   "cell_type": "code",
   "execution_count": 59,
   "metadata": {
    "execution": {
     "iopub.execute_input": "2021-12-14T01:42:13.378623Z",
     "iopub.status.busy": "2021-12-14T01:42:13.377787Z",
     "iopub.status.idle": "2021-12-14T01:42:13.383378Z",
     "shell.execute_reply": "2021-12-14T01:42:13.382465Z",
     "shell.execute_reply.started": "2021-12-14T01:42:13.378585Z"
    }
   },
   "outputs": [],
   "source": [
    "# Tabular data file paths\n",
    "TRAIN_DATA_PATH = '../input/petfinder-pawpularity-score/train.csv'\n",
    "TEST_DATA_PATH = '../input/petfinder-pawpularity-score/test.csv'\n",
    "\n",
    "# Image data directories\n",
    "TRAIN_DIRECTORY = '../input/petfinder-pawpularity-score/train'\n",
    "TEST_DIRECTORY = '../input/petfinder-pawpularity-score/test'"
   ]
  },
  {
   "cell_type": "code",
   "execution_count": 60,
   "metadata": {
    "execution": {
     "iopub.execute_input": "2021-12-14T01:42:13.385919Z",
     "iopub.status.busy": "2021-12-14T01:42:13.384961Z",
     "iopub.status.idle": "2021-12-14T01:42:13.392779Z",
     "shell.execute_reply": "2021-12-14T01:42:13.391971Z",
     "shell.execute_reply.started": "2021-12-14T01:42:13.385884Z"
    }
   },
   "outputs": [],
   "source": [
    "# Parameters for processing tabular data\n",
    "TARGET_NAME = 'Pawpularity'\n",
    "VAL_SIZE = 0.15\n",
    "SEED = 5"
   ]
  },
  {
   "cell_type": "code",
   "execution_count": 61,
   "metadata": {
    "execution": {
     "iopub.execute_input": "2021-12-14T01:42:13.394311Z",
     "iopub.status.busy": "2021-12-14T01:42:13.393980Z",
     "iopub.status.idle": "2021-12-14T01:42:13.403170Z",
     "shell.execute_reply": "2021-12-14T01:42:13.402480Z",
     "shell.execute_reply.started": "2021-12-14T01:42:13.394276Z"
    }
   },
   "outputs": [],
   "source": [
    "# TensorFlow settings and training parameters\n",
    "AUTOTUNE = tf.data.experimental.AUTOTUNE\n",
    "IMG_SIZE = 224\n",
    "BATCH_SIZE = 64\n",
    "DROPOUT_RATE = 0.2\n",
    "LEARNING_RATE = 1e-3\n",
    "DECAY_STEPS = 100\n",
    "DECAY_RATE = 0.96\n",
    "EPOCHS = 500\n",
    "PATIENCE = 5"
   ]
  },
  {
   "cell_type": "code",
   "execution_count": 62,
   "metadata": {
    "execution": {
     "iopub.execute_input": "2021-12-14T01:42:13.405314Z",
     "iopub.status.busy": "2021-12-14T01:42:13.404814Z",
     "iopub.status.idle": "2021-12-14T01:42:13.412477Z",
     "shell.execute_reply": "2021-12-14T01:42:13.411476Z",
     "shell.execute_reply.started": "2021-12-14T01:42:13.405278Z"
    }
   },
   "outputs": [],
   "source": [
    "# Pretrained image classification model EfficientNetB0\n",
    "# from tf.keras.applications with global average pooling as a final layer.\n",
    "# In this notebook the model is loaded from a public dataset on Kaggle\n",
    "# at https://www.kaggle.com/ekaterinadranitsyna/keras-applications-models\n",
    "IMG_MODEL = '../input/keras-pretrained-models/EfficientNetB7_Top_ImageNet.h5'"
   ]
  },
  {
   "cell_type": "markdown",
   "metadata": {},
   "source": [
    "## Functions"
   ]
  },
  {
   "cell_type": "code",
   "execution_count": 63,
   "metadata": {
    "execution": {
     "iopub.execute_input": "2021-12-14T01:42:13.414518Z",
     "iopub.status.busy": "2021-12-14T01:42:13.414264Z",
     "iopub.status.idle": "2021-12-14T01:42:13.438219Z",
     "shell.execute_reply": "2021-12-14T01:42:13.437518Z",
     "shell.execute_reply.started": "2021-12-14T01:42:13.414485Z"
    }
   },
   "outputs": [],
   "source": [
    "def set_seed(seed=42):\n",
    "    \"\"\"Utility function to use for reproducibility.\n",
    "    :param seed: Random seed\n",
    "    :return: None\n",
    "    \"\"\"\n",
    "    np.random.seed(seed)\n",
    "    random.seed(seed)\n",
    "    tf.random.set_seed(seed)\n",
    "    os.environ['PYTHONHASHSEED'] = str(seed)\n",
    "    os.environ['TF_DETERMINISTIC_OPS'] = '1'\n",
    "\n",
    "\n",
    "def set_display():\n",
    "    \"\"\"Function sets display options for charts and pd.DataFrames.\n",
    "    \"\"\"\n",
    "    # Plots display settings\n",
    "    plt.style.use('fivethirtyeight')\n",
    "    plt.rcParams['figure.figsize'] = 12, 8\n",
    "    plt.rcParams.update({'font.size': 14})\n",
    "    # DataFrame display settings\n",
    "    pd.set_option('display.max_columns', None)\n",
    "    pd.set_option('display.max_rows', None)\n",
    "    pd.options.display.float_format = '{:.4f}'.format\n",
    "\n",
    "\n",
    "def id_to_path(img_id: str, dir: str):\n",
    "    \"\"\"Function returns a path to an image file.\n",
    "    :param img_id: Image Id\n",
    "    :param dir: Path to the directory with images\n",
    "    :return: Image file path\n",
    "    \"\"\"\n",
    "    return os.path.join(dir, f'{img_id}.jpg')\n",
    "\n",
    "\n",
    "@tf.function\n",
    "def get_image(path: str) -> tf.Tensor:\n",
    "    \"\"\"Function loads image from a file and preprocesses it.\n",
    "    :param path: Path to image file\n",
    "    :return: Tensor with preprocessed image\n",
    "    \"\"\"\n",
    "    image = tf.image.decode_jpeg(tf.io.read_file(path), channels=3)\n",
    "    image = tf.cast(tf.image.resize_with_pad(image, IMG_SIZE, IMG_SIZE), dtype=tf.int32)\n",
    "    return tf.keras.applications.efficientnet.preprocess_input(image)\n",
    "\n",
    "\n",
    "@tf.function\n",
    "def process_dataset(path: str, label: int) -> tuple:\n",
    "    \"\"\"Function returns preprocessed image and label.\n",
    "    :param path: Path to image file\n",
    "    :param label: Class label\n",
    "    :return: tf.Tensor with preprocessed image, numeric label\n",
    "    \"\"\"\n",
    "    return get_image(path), label\n",
    "\n",
    "\n",
    "@tf.function\n",
    "def get_dataset(x, y=None) -> tf.data.Dataset:\n",
    "    \"\"\"Function creates batched optimized dataset for the model\n",
    "    out of an array of file paths and (optionally) class labels.\n",
    "    :param x: Input data for the model (array of file paths)\n",
    "    :param y: Target values for the model (array of class indexes)\n",
    "    :return TensorFlow Dataset object\n",
    "    \"\"\"\n",
    "    if y is not None:\n",
    "        ds = tf.data.Dataset.from_tensor_slices((x, y))\n",
    "        return ds.map(process_dataset, num_parallel_calls=AUTOTUNE) \\\n",
    "            .batch(BATCH_SIZE).prefetch(buffer_size=AUTOTUNE)\n",
    "    else:\n",
    "        ds = tf.data.Dataset.from_tensor_slices(x)\n",
    "        return ds.map(get_image, num_parallel_calls=AUTOTUNE) \\\n",
    "            .batch(BATCH_SIZE).prefetch(buffer_size=AUTOTUNE)\n",
    "\n",
    "\n",
    "def plot_history(hist):\n",
    "    \"\"\"Function plots a chart with training and validation metrics.\n",
    "    :param hist: Tensorflow history object from model.fit()\n",
    "    \"\"\"\n",
    "    # Losses and metrics\n",
    "    loss = hist.history['loss']\n",
    "    val_loss = hist.history['val_loss']\n",
    "    rmse = hist.history['root_mean_squared_error']\n",
    "    val_rmse = hist.history['val_root_mean_squared_error']\n",
    "\n",
    "    # Epochs to plot along x axis\n",
    "    x_axis = range(1, len(loss) + 1)\n",
    "\n",
    "    fig, (ax1, ax2) = plt.subplots(nrows=2, ncols=1, sharex=True)\n",
    "\n",
    "    ax1.plot(x_axis, loss, 'bo', label='Training')\n",
    "    ax1.plot(x_axis, val_loss, 'ro', label='Validation')\n",
    "    ax1.set_title('MSE Loss')\n",
    "    ax1.legend()\n",
    "\n",
    "    ax2.plot(x_axis, rmse, 'bo', label='Training')\n",
    "    ax2.plot(x_axis, val_rmse, 'ro', label='Validation')\n",
    "    ax2.set_title('Root Mean Squared Error')\n",
    "    ax2.set_xlabel('Epochs')\n",
    "    ax2.legend()\n",
    "\n",
    "    plt.tight_layout()\n",
    "    plt.show()"
   ]
  },
  {
   "cell_type": "markdown",
   "metadata": {},
   "source": [
    "## Data Processing"
   ]
  },
  {
   "cell_type": "code",
   "execution_count": 64,
   "metadata": {
    "execution": {
     "iopub.execute_input": "2021-12-14T01:42:13.440450Z",
     "iopub.status.busy": "2021-12-14T01:42:13.440112Z",
     "iopub.status.idle": "2021-12-14T01:42:13.452623Z",
     "shell.execute_reply": "2021-12-14T01:42:13.451954Z",
     "shell.execute_reply.started": "2021-12-14T01:42:13.440418Z"
    }
   },
   "outputs": [],
   "source": [
    "set_seed(SEED)\n",
    "set_display()"
   ]
  },
  {
   "cell_type": "code",
   "execution_count": 65,
   "metadata": {
    "execution": {
     "iopub.execute_input": "2021-12-14T01:42:13.456607Z",
     "iopub.status.busy": "2021-12-14T01:42:13.455598Z",
     "iopub.status.idle": "2021-12-14T01:42:13.491318Z",
     "shell.execute_reply": "2021-12-14T01:42:13.490610Z",
     "shell.execute_reply.started": "2021-12-14T01:42:13.456571Z"
    }
   },
   "outputs": [],
   "source": [
    "# Train data set\n",
    "data_train = pd.read_csv(TRAIN_DATA_PATH)\n",
    "print(f'Train data shape: {data_train.shape}')\n",
    "data_train.head()"
   ]
  },
  {
   "cell_type": "code",
   "execution_count": 66,
   "metadata": {
    "execution": {
     "iopub.execute_input": "2021-12-14T01:42:13.493027Z",
     "iopub.status.busy": "2021-12-14T01:42:13.492576Z",
     "iopub.status.idle": "2021-12-14T01:42:13.512906Z",
     "shell.execute_reply": "2021-12-14T01:42:13.512089Z",
     "shell.execute_reply.started": "2021-12-14T01:42:13.492992Z"
    }
   },
   "outputs": [],
   "source": [
    "# Test data set\n",
    "data_test = pd.read_csv(TEST_DATA_PATH)\n",
    "print(f'Test data shape: {data_test.shape}')\n",
    "data_test.head()"
   ]
  },
  {
   "cell_type": "code",
   "execution_count": 67,
   "metadata": {
    "execution": {
     "iopub.execute_input": "2021-12-14T01:42:13.514538Z",
     "iopub.status.busy": "2021-12-14T01:42:13.514057Z",
     "iopub.status.idle": "2021-12-14T01:42:13.548746Z",
     "shell.execute_reply": "2021-12-14T01:42:13.548126Z",
     "shell.execute_reply.started": "2021-12-14T01:42:13.514500Z"
    }
   },
   "outputs": [],
   "source": [
    "# Reconstruct the paths to train and test images.\n",
    "data_train['path'] = data_train['Id'].apply(\n",
    "    lambda x: id_to_path(x, TRAIN_DIRECTORY))\n",
    "data_test['path'] = data_test['Id'].apply(\n",
    "    lambda x: id_to_path(x, TEST_DIRECTORY))\n",
    "\n",
    "# Keep a portion of the labeled data for validation.\n",
    "train_subset, valid_subset = train_test_split(\n",
    "    data_train[['path', TARGET_NAME]],\n",
    "    test_size=VAL_SIZE, shuffle=True, random_state=SEED\n",
    ")"
   ]
  },
  {
   "cell_type": "code",
   "execution_count": 68,
   "metadata": {
    "execution": {
     "iopub.execute_input": "2021-12-14T01:42:13.550542Z",
     "iopub.status.busy": "2021-12-14T01:42:13.549868Z",
     "iopub.status.idle": "2021-12-14T01:42:13.893761Z",
     "shell.execute_reply": "2021-12-14T01:42:13.892895Z",
     "shell.execute_reply.started": "2021-12-14T01:42:13.550503Z"
    }
   },
   "outputs": [],
   "source": [
    "# Create TensorFlow datasets\n",
    "train_ds = get_dataset(x=train_subset['path'], y=train_subset[TARGET_NAME])\n",
    "valid_ds = get_dataset(x=valid_subset['path'], y=valid_subset[TARGET_NAME])\n",
    "test_ds = get_dataset(x=data_test['path'])"
   ]
  },
  {
   "cell_type": "code",
   "execution_count": 69,
   "metadata": {
    "execution": {
     "iopub.execute_input": "2021-12-14T01:42:13.895589Z",
     "iopub.status.busy": "2021-12-14T01:42:13.895245Z",
     "iopub.status.idle": "2021-12-14T01:42:15.002968Z",
     "shell.execute_reply": "2021-12-14T01:42:15.002180Z",
     "shell.execute_reply.started": "2021-12-14T01:42:13.895549Z"
    }
   },
   "outputs": [],
   "source": [
    "# Pretrained image classification model\n",
    "feature_model = tf.keras.models.load_model(IMG_MODEL)\n",
    "\n",
    "# Freeze weights in the original model\n",
    "feature_model.trainable = False"
   ]
  },
  {
   "cell_type": "code",
   "execution_count": 70,
   "metadata": {
    "execution": {
     "iopub.execute_input": "2021-12-14T01:42:15.006603Z",
     "iopub.status.busy": "2021-12-14T01:42:15.006385Z",
     "iopub.status.idle": "2021-12-14T01:42:15.233693Z",
     "shell.execute_reply": "2021-12-14T01:42:15.232996Z",
     "shell.execute_reply.started": "2021-12-14T01:42:15.006578Z"
    }
   },
   "outputs": [],
   "source": [
    "# This model takes in 224 x 224 images, applies random horizontal flip\n",
    "# (only in the train mode), passes image arrays through pretrained\n",
    "# feature extraction model and applies batch normalization, dropout\n",
    "# and activations to get the target score.\n",
    "image_model = tf.keras.models.Sequential(\n",
    "    [\n",
    "        tf.keras.layers.Input(shape=(IMG_SIZE, IMG_SIZE, 3)),\n",
    "        tf.keras.layers.experimental.preprocessing.RandomFlip(mode='horizontal'),\n",
    "        feature_model,\n",
    "        tf.keras.layers.BatchNormalization(),\n",
    "        tf.keras.layers.Dropout(DROPOUT_RATE, name='top_dropout'),\n",
    "        tf.keras.layers.Dense(32, activation='relu'),\n",
    "        tf.keras.layers.Dense(1, name='score')\n",
    "    ]\n",
    ")"
   ]
  },
  {
   "cell_type": "code",
   "execution_count": 71,
   "metadata": {
    "execution": {
     "iopub.execute_input": "2021-12-14T01:42:15.235246Z",
     "iopub.status.busy": "2021-12-14T01:42:15.234986Z",
     "iopub.status.idle": "2021-12-14T01:42:15.238786Z",
     "shell.execute_reply": "2021-12-14T01:42:15.238146Z",
     "shell.execute_reply.started": "2021-12-14T01:42:15.235211Z"
    }
   },
   "outputs": [],
   "source": [
    "# To gradually decrease learning rate\n",
    "lr_schedule = tf.keras.optimizers.schedules.ExponentialDecay(\n",
    "    initial_learning_rate=LEARNING_RATE,\n",
    "    decay_steps=DECAY_STEPS, decay_rate=DECAY_RATE,\n",
    "    staircase=True)"
   ]
  },
  {
   "cell_type": "code",
   "execution_count": 72,
   "metadata": {
    "execution": {
     "iopub.execute_input": "2021-12-14T01:42:15.240613Z",
     "iopub.status.busy": "2021-12-14T01:42:15.240126Z",
     "iopub.status.idle": "2021-12-14T01:42:15.264617Z",
     "shell.execute_reply": "2021-12-14T01:42:15.264026Z",
     "shell.execute_reply.started": "2021-12-14T01:42:15.240532Z"
    }
   },
   "outputs": [],
   "source": [
    "# Compile the model\n",
    "image_model.compile(optimizer=tf.keras.optimizers.Adam(learning_rate=lr_schedule),\n",
    "                    loss=tf.keras.losses.MeanSquaredError(),\n",
    "                    metrics=[tf.keras.metrics.RootMeanSquaredError()])"
   ]
  },
  {
   "cell_type": "code",
   "execution_count": 73,
   "metadata": {
    "execution": {
     "iopub.execute_input": "2021-12-14T01:42:15.265924Z",
     "iopub.status.busy": "2021-12-14T01:42:15.265683Z",
     "iopub.status.idle": "2021-12-14T01:42:15.281344Z",
     "shell.execute_reply": "2021-12-14T01:42:15.280659Z",
     "shell.execute_reply.started": "2021-12-14T01:42:15.265890Z"
    }
   },
   "outputs": [],
   "source": [
    "image_model.summary()"
   ]
  },
  {
   "cell_type": "code",
   "execution_count": 74,
   "metadata": {
    "execution": {
     "iopub.execute_input": "2021-12-14T01:42:15.282950Z",
     "iopub.status.busy": "2021-12-14T01:42:15.282632Z",
     "iopub.status.idle": "2021-12-14T01:42:15.287068Z",
     "shell.execute_reply": "2021-12-14T01:42:15.286260Z",
     "shell.execute_reply.started": "2021-12-14T01:42:15.282914Z"
    }
   },
   "outputs": [],
   "source": [
    "# To monitor validation loss and stop the training.\n",
    "early_stop = tf.keras.callbacks.EarlyStopping(\n",
    "    monitor='val_loss', patience=PATIENCE, restore_best_weights=True)"
   ]
  },
  {
   "cell_type": "code",
   "execution_count": 75,
   "metadata": {
    "execution": {
     "iopub.execute_input": "2021-12-14T01:42:15.288904Z",
     "iopub.status.busy": "2021-12-14T01:42:15.288570Z",
     "iopub.status.idle": "2021-12-14T01:46:10.645498Z",
     "shell.execute_reply": "2021-12-14T01:46:10.644752Z",
     "shell.execute_reply.started": "2021-12-14T01:42:15.288804Z"
    }
   },
   "outputs": [],
   "source": [
    "history = image_model.fit(train_ds, validation_data=valid_ds,\n",
    "                          epochs=EPOCHS, callbacks=[early_stop],\n",
    "                          use_multiprocessing=True, workers=-1)"
   ]
  },
  {
   "cell_type": "code",
   "execution_count": 76,
   "metadata": {
    "execution": {
     "iopub.execute_input": "2021-12-14T01:46:10.646859Z",
     "iopub.status.busy": "2021-12-14T01:46:10.646606Z",
     "iopub.status.idle": "2021-12-14T01:46:11.049825Z",
     "shell.execute_reply": "2021-12-14T01:46:11.049040Z",
     "shell.execute_reply.started": "2021-12-14T01:46:10.646812Z"
    }
   },
   "outputs": [],
   "source": [
    "plot_history(history)"
   ]
  },
  {
   "cell_type": "markdown",
   "metadata": {},
   "source": [
    "## Inference"
   ]
  },
  {
   "cell_type": "code",
   "execution_count": 77,
   "metadata": {
    "execution": {
     "iopub.execute_input": "2021-12-14T01:46:11.051416Z",
     "iopub.status.busy": "2021-12-14T01:46:11.051157Z",
     "iopub.status.idle": "2021-12-14T01:46:11.702681Z",
     "shell.execute_reply": "2021-12-14T01:46:11.701743Z",
     "shell.execute_reply.started": "2021-12-14T01:46:11.051380Z"
    }
   },
   "outputs": [],
   "source": [
    "# Predict popularity score for the test\n",
    "data_test[TARGET_NAME] = image_model.predict(\n",
    "    test_ds, use_multiprocessing=True, workers=os.cpu_count())"
   ]
  },
  {
   "cell_type": "code",
   "execution_count": 78,
   "metadata": {
    "execution": {
     "iopub.execute_input": "2021-12-14T01:46:11.704729Z",
     "iopub.status.busy": "2021-12-14T01:46:11.704479Z",
     "iopub.status.idle": "2021-12-14T01:46:11.723925Z",
     "shell.execute_reply": "2021-12-14T01:46:11.723237Z",
     "shell.execute_reply.started": "2021-12-14T01:46:11.704692Z"
    }
   },
   "outputs": [],
   "source": [
    "data_test[['Id', TARGET_NAME]].to_csv('submission.csv', index=False)\n",
    "data_test[['Id', TARGET_NAME]].head()"
   ]
  },
  {
   "cell_type": "code",
   "execution_count": null,
   "metadata": {},
   "outputs": [],
   "source": []
  }
 ],
 "metadata": {
  "kernelspec": {
   "display_name": "Python 3 (ipykernel)",
   "language": "python",
   "name": "python3"
  },
  "language_info": {
   "codemirror_mode": {
    "name": "ipython",
    "version": 3
   },
   "file_extension": ".py",
   "mimetype": "text/x-python",
   "name": "python",
   "nbconvert_exporter": "python",
   "pygments_lexer": "ipython3",
   "version": "3.9.0"
  }
 },
 "nbformat": 4,
 "nbformat_minor": 4
}
